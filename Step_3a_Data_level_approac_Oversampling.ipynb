{
 "cells": [
  {
   "cell_type": "markdown",
   "id": "f733693d",
   "metadata": {},
   "source": [
    "# Step_3a_Data_level_approach_Oversampling"
   ]
  },
  {
   "cell_type": "markdown",
   "id": "ce78c95e",
   "metadata": {},
   "source": [
    "**In this notebook we will apply simple classification models after oversampling the minority class**"
   ]
  },
  {
   "cell_type": "markdown",
   "id": "5fa604df",
   "metadata": {},
   "source": [
    "As we conclude in the notebook :metrics, we will use the roc-auc metric to evaluate the performance of the models and we will analyze the false negative ratio which is what we are interested in minimizing."
   ]
  },
  {
   "cell_type": "markdown",
   "id": "7ee6ff9a",
   "metadata": {},
   "source": [
    "# CONTENT"
   ]
  },
  {
   "cell_type": "markdown",
   "id": "f6440c0c",
   "metadata": {},
   "source": [
    "    1. Import Libraries\n",
    "    2. Load data\n",
    "    3. Undersampling methods\n",
    "    4. Modeling\n",
    "        4.1 Logistic Regression\n",
    "        4.2 k-Nearest Neighbors\n",
    "        4.3 Decision Trees\n",
    "        4.4 Support Vector Machine\n",
    "        4.5 Random Forest\n",
    "    5. Summary and conclusions"
   ]
  },
  {
   "cell_type": "markdown",
   "id": "00d50ac9",
   "metadata": {},
   "source": [
    "# 1. Import Libraries"
   ]
  },
  {
   "cell_type": "code",
   "execution_count": 1,
   "id": "e21535f3",
   "metadata": {},
   "outputs": [
    {
     "data": {
      "text/html": [
       "<style>.container { width:100% !important; }</style>"
      ],
      "text/plain": [
       "<IPython.core.display.HTML object>"
      ]
     },
     "metadata": {},
     "output_type": "display_data"
    }
   ],
   "source": [
    "import pandas as pd\n",
    "import numpy as np\n",
    "\n",
    "\n",
    "#show cells with width as long as screen\n",
    "from IPython.core.display import display, HTML\n",
    "display(HTML(\"<style>.container { width:100% !important; }</style>\"))\n",
    "#Hide warnings\n",
    "import warnings\n",
    "warnings.filterwarnings('ignore')\n",
    "\n",
    "import matplotlib.pyplot as plt\n",
    "import seaborn as sns\n",
    "plt.style.use('ggplot')\n",
    "pd.options.display.max_columns = None\n",
    "\n",
    "#Oversampling methods\n",
    "from imblearn.over_sampling import RandomOverSampler, SMOTE, SMOTENC, ADASYN,\\\n",
    "BorderlineSMOTE, SVMSMOTE\n",
    "\n",
    "#Classification algorithms\n",
    "from sklearn.linear_model import LogisticRegression\n",
    "from sklearn.tree import DecisionTreeClassifier\n",
    "from sklearn.svm import SVC\n",
    "from sklearn.neighbors import KNeighborsClassifier\n",
    "from sklearn.ensemble import (\n",
    "    RandomForestClassifier,\n",
    "    BaggingClassifier,\n",
    "    AdaBoostClassifier, GradientBoostingClassifier, ExtraTreesClassifier\n",
    ")\n",
    "\n",
    "#metric\n",
    "from sklearn.metrics import roc_auc_score, plot_roc_curve, precision_recall_curve, accuracy_score, recall_score, f1_score\n",
    "from sklearn.metrics import classification_report, confusion_matrix\n",
    "\n",
    "from sklearn.model_selection import GridSearchCV, RepeatedStratifiedKFold\n",
    "from sklearn.model_selection import cross_val_score\n"
   ]
  },
  {
   "cell_type": "markdown",
   "id": "5f928169",
   "metadata": {},
   "source": [
    "# 2. Load data"
   ]
  },
  {
   "cell_type": "markdown",
   "id": "c3d0c603",
   "metadata": {},
   "source": [
    "This data has been generated in the notebook: step_2_Preprocessing_data"
   ]
  },
  {
   "cell_type": "code",
   "execution_count": 2,
   "id": "de8bb57b",
   "metadata": {},
   "outputs": [],
   "source": [
    "X_train = pd.read_excel('X_train_step_2.xlsx', engine='openpyxl')\n",
    "X_test =  pd.read_excel('X_test_step_2.xlsx', engine='openpyxl')\n",
    "y_train = pd.read_excel('y_train_step_2.xlsx', engine='openpyxl')\n",
    "y_test = pd.read_excel('y_test_step_2.xlsx', engine='openpyxl')"
   ]
  },
  {
   "cell_type": "markdown",
   "id": "a4cec9b9",
   "metadata": {},
   "source": [
    "# 3. Oversampling methods"
   ]
  },
  {
   "cell_type": "markdown",
   "id": "0c1364cb",
   "metadata": {},
   "source": [
    "In order to use the different oversampling techniques we group it in a dictionary (To understand how each technique works you can go to the notebook: step_2 where the final size and distribution after applying the different techniques are shown)"
   ]
  },
  {
   "cell_type": "code",
   "execution_count": 3,
   "id": "0f08d429",
   "metadata": {},
   "outputs": [],
   "source": [
    "oversampler_dict = {\n",
    "    'random' : RandomOverSampler(\n",
    "        sampling_strategy='auto', \n",
    "        random_state=0),\n",
    "    \n",
    "    'smote' : SMOTE(\n",
    "        sampling_strategy='all', \n",
    "        random_state=0,\n",
    "        k_neighbors=3,\n",
    "        n_jobs = 4),\n",
    "    \n",
    "    'adasyn' : ADASYN(\n",
    "    sampling_strategy='auto',\n",
    "    random_state=0,\n",
    "    n_neighbors=3,\n",
    "    n_jobs=4),\n",
    "    \n",
    "    'border1' : BorderlineSMOTE(\n",
    "    sampling_strategy='auto',\n",
    "    random_state=0,\n",
    "    k_neighbors=3,\n",
    "    m_neighbors=5,\n",
    "    kind='borderline-1',\n",
    "    n_jobs=4),\n",
    "    \n",
    "    'border2' : BorderlineSMOTE(\n",
    "    sampling_strategy='auto',\n",
    "    random_state=0,\n",
    "    k_neighbors=3,\n",
    "    m_neighbors=5,\n",
    "    kind='borderline-2',\n",
    "    n_jobs=4),\n",
    "    \n",
    "    'svm' : SVMSMOTE(\n",
    "        sampling_strategy='auto',\n",
    "        random_state=0,\n",
    "        k_neighbors=3,\n",
    "        m_neighbors=5,\n",
    "        n_jobs=-1,\n",
    "        svm_estimator=SVC(kernel='linear')),\n",
    "}"
   ]
  },
  {
   "cell_type": "markdown",
   "id": "5e31d2ae",
   "metadata": {},
   "source": [
    "# 4. Classification models"
   ]
  },
  {
   "cell_type": "markdown",
   "id": "54cba8cb",
   "metadata": {},
   "source": [
    "Although it can be done in several ways, we will create a function for each model and then apply them to the different oversampling techniques."
   ]
  },
  {
   "cell_type": "markdown",
   "id": "19116d01",
   "metadata": {},
   "source": [
    "**NOTE:**\n",
    "\n",
    "I have found that by applying any model I get overfitting. Overfitting occurs when a model adjusts excessively to the training data, seeing patterns that do not exist, and consequently performing poorly in predicting new data: he fewer samples for training, the more models can fit our data.In order to solve the overfitting problem I have tried to simplify and reduce the flexibility of  the hyperparameters of the machine leraning model, apply regularization parameters. \n",
    "\n",
    " On the other hand I have observed that using cross-validation technique induce more overfitting(paper)\n",
    "\n",
    "However I have not been able to solve it. So it should also be noted that the overfitting can be also generated by de small dataset size, depending how separate is the minority class with respect the majority class and the presence of noisy boundaries or Within-class sub-clusters"
   ]
  },
  {
   "cell_type": "markdown",
   "id": "4113ee0b",
   "metadata": {},
   "source": [
    "## 4.1 Logistic Regression"
   ]
  },
  {
   "cell_type": "markdown",
   "id": "17b3c3df",
   "metadata": {},
   "source": [
    "In a first attempt we make a gridsearch of several hyperparameters of the model in order to find the best performance of the model."
   ]
  },
  {
   "cell_type": "code",
   "execution_count": 4,
   "id": "78e5e919",
   "metadata": {},
   "outputs": [],
   "source": [
    "\n",
    "def run_LogisticRegression_1(X_train, X_test, y_train, y_test):\n",
    "    \n",
    "    '''This function applies the logistic regression model with a cross validation searching for optimal hyperparameters through cross-validation.\n",
    "    it prints the best score and best parameters and it uses the best parameters to fit the model.\n",
    "    In order to evaluate the model performance it uses roc-auc metric.\n",
    "    It prints predictions of train and test set in order to evaluate over or underfitting and \n",
    "    it also calculates the confusion matrix and False Positive Rate (FPR) Vs False Negative Rate (FNR) '''\n",
    "    \n",
    "    model = LogisticRegression(max_iter=100)\n",
    "    \n",
    "    #define values for tuning\n",
    "    solvers = ['newton-cg', 'lbfgs', 'liblinear']\n",
    "    penalty = ['l2']\n",
    "    c_values = [100, 10, 1.0, 0.1, 0.01]\n",
    "    \n",
    "    # define grid search\n",
    "    grid = dict(solver=solvers,penalty=penalty,C=c_values) \n",
    "    grid_search = GridSearchCV(estimator=model, param_grid=grid, n_jobs=-1, cv=3, scoring='roc_auc') #ccv = 3-fold cross validation, n_jobs = run in parallel\n",
    "    grid_result = grid_search.fit(X_train, y_train)\n",
    "    \n",
    "    # summarize results\n",
    "    print(\"Best: %f using %s\" % (grid_result.best_score_, grid_result.best_params_))\n",
    "    \n",
    "    #model prediction\n",
    "    print('Train set')\n",
    "    pred = grid_result.predict_proba(X_train)\n",
    "    print('Logistic Regression roc-auc: {}'.format(roc_auc_score(y_train, pred[:,1])))\n",
    "    \n",
    "    print('Test set')\n",
    "    pred = grid_result.predict_proba(X_test)\n",
    "    print('Logistic Regression roc-auc: {}'.format(roc_auc_score(y_test, pred[:,1])))\n",
    "    \n",
    "    #confusion matrix\n",
    "    cf_matrix = confusion_matrix(y_test, grid_result.predict(X_test))\n",
    "    \n",
    "    #False Positive Rate (FPR) Vs False Negative Rate (FNR)\n",
    "    tn, fp, fn, tp = confusion_matrix(y_test, grid_result.predict(X_test), labels=[0,1]).ravel()\n",
    "\n",
    "    FPR = fp / (tn + fp)\n",
    "\n",
    "    FNR = fn / (tp + fn)\n",
    "    \n",
    "    \n",
    "    return roc_auc_score(y_test, pred[:, 1]), cf_matrix, FPR, FNR"
   ]
  },
  {
   "cell_type": "markdown",
   "id": "f136ca5f",
   "metadata": {},
   "source": [
    "We make a loop to test all oversampling methods in the model. We store the results of test_roc-auc value, FNR, FNP and size in a dictionary for each variable."
   ]
  },
  {
   "cell_type": "code",
   "execution_count": 5,
   "id": "285199c8",
   "metadata": {
    "scrolled": true
   },
   "outputs": [
    {
     "name": "stdout",
     "output_type": "stream",
     "text": [
      "random\n",
      "Best: 0.602036 using {'C': 100, 'penalty': 'l2', 'solver': 'newton-cg'}\n",
      "Train set\n",
      "Logistic Regression roc-auc: 0.8255568771626298\n",
      "Test set\n",
      "Logistic Regression roc-auc: 0.5644796380090498\n",
      "\n",
      "smote\n",
      "Best: 0.885636 using {'C': 100, 'penalty': 'l2', 'solver': 'newton-cg'}\n",
      "Train set\n",
      "Logistic Regression roc-auc: 0.9546253243944637\n",
      "Test set\n",
      "Logistic Regression roc-auc: 0.5271493212669683\n",
      "\n",
      "adasyn\n",
      "Best: 0.869340 using {'C': 100, 'penalty': 'l2', 'solver': 'newton-cg'}\n",
      "Train set\n",
      "Logistic Regression roc-auc: 0.9566232386490717\n",
      "Test set\n",
      "Logistic Regression roc-auc: 0.5407239819004526\n",
      "\n",
      "border1\n",
      "Best: 0.880885 using {'C': 100, 'penalty': 'l2', 'solver': 'newton-cg'}\n",
      "Train set\n",
      "Logistic Regression roc-auc: 0.9568149870242214\n",
      "Test set\n",
      "Logistic Regression roc-auc: 0.5294117647058824\n",
      "\n",
      "border2\n",
      "Best: 0.867521 using {'C': 100, 'penalty': 'l2', 'solver': 'newton-cg'}\n",
      "Train set\n",
      "Logistic Regression roc-auc: 0.9597487518992837\n",
      "Test set\n",
      "Logistic Regression roc-auc: 0.5395927601809956\n",
      "\n",
      "svm\n",
      "Best: 0.797899 using {'C': 100, 'penalty': 'l2', 'solver': 'newton-cg'}\n",
      "Train set\n",
      "Logistic Regression roc-auc: 0.9487727076124567\n",
      "Test set\n",
      "Logistic Regression roc-auc: 0.5260180995475113\n",
      "\n",
      "\n"
     ]
    }
   ],
   "source": [
    "results_dict_LG1 = {}\n",
    "shapes_dict_LG1  = {}\n",
    "conf_matrix_LG1  = {}\n",
    "FNR_dict_LG1  = {}\n",
    "FPR_dict_LG1  = {}\n",
    "\n",
    "\n",
    "for oversampler in oversampler_dict.keys():\n",
    "    print(oversampler)\n",
    "    \n",
    "    #resample\n",
    "    X_resampled, y_resampled = oversampler_dict[oversampler].fit_resample(X_train, y_train)\n",
    "    \n",
    "    #evaluate performance\n",
    "    roc = run_LogisticRegression_1(X_resampled, X_test, y_resampled, y_test)\n",
    "    \n",
    "    \n",
    "    \n",
    "    #store results\n",
    "    results_dict_LG1 [oversampler] = roc[0]\n",
    "    conf_matrix_LG1 [oversampler] = roc[1]\n",
    "    FPR_dict_LG1 [oversampler] = roc[2]\n",
    "    FNR_dict_LG1 [oversampler] = roc[3]\n",
    "    shapes_dict_LG1 [oversampler] = len(X_resampled)  \n",
    "    print()\n",
    "    \n",
    "print()"
   ]
  },
  {
   "cell_type": "markdown",
   "id": "6c825e86",
   "metadata": {},
   "source": [
    "Comparing the train_set and test_set we observe that we have a huge overfitting since the roc-auc values at training_set is around 90% and the test_set is around 50%"
   ]
  },
  {
   "cell_type": "markdown",
   "id": "9d97b082",
   "metadata": {},
   "source": [
    "### **Summary of results**"
   ]
  },
  {
   "cell_type": "markdown",
   "id": "800874a4",
   "metadata": {},
   "source": [
    "a) summary of all roc-auc scores dependeng of sampling method"
   ]
  },
  {
   "cell_type": "code",
   "execution_count": 6,
   "id": "e21e5010",
   "metadata": {
    "scrolled": true
   },
   "outputs": [
    {
     "data": {
      "image/png": "[encoded data removed]",
      "text/plain": [
       "<Figure size 432x288 with 1 Axes>"
      ]
     },
     "metadata": {},
     "output_type": "display_data"
    }
   ],
   "source": [
    "pd.Series(results_dict_LG1).plot.bar()\n",
    "plt.title('Logistic Regression')\n",
    "plt.ylabel('roc-auc')\n",
    "plt.ylim(0.5, 0.6)\n",
    "plt.show();"
   ]
  },
  {
   "cell_type": "markdown",
   "id": "9cd3c584",
   "metadata": {},
   "source": [
    "Fuerthermore the model's performance for all oversampling techniques is not good. Remember that roc_auc_score ranges between 1(perfect model)-0.5(random model)"
   ]
  },
  {
   "cell_type": "markdown",
   "id": "e4e77823",
   "metadata": {},
   "source": [
    "b) Confusion matrix"
   ]
  },
  {
   "cell_type": "code",
   "execution_count": 7,
   "id": "f41af782",
   "metadata": {},
   "outputs": [
    {
     "data": {
      "text/html": [
       "<div>\n",
       "<style scoped>\n",
       "    .dataframe tbody tr th:only-of-type {\n",
       "        vertical-align: middle;\n",
       "    }\n",
       "\n",
       "    .dataframe tbody tr th {\n",
       "        vertical-align: top;\n",
       "    }\n",
       "\n",
       "    .dataframe thead th {\n",
       "        text-align: right;\n",
       "    }\n",
       "</style>\n",
       "<table border=\"1\" class=\"dataframe\">\n",
       "  <thead>\n",
       "    <tr style=\"text-align: right;\">\n",
       "      <th></th>\n",
       "      <th>Name</th>\n",
       "      <th>Amount</th>\n",
       "    </tr>\n",
       "  </thead>\n",
       "  <tbody>\n",
       "    <tr>\n",
       "      <th>0</th>\n",
       "      <td>random</td>\n",
       "      <td>[[43, 25], [9, 4]]</td>\n",
       "    </tr>\n",
       "    <tr>\n",
       "      <th>1</th>\n",
       "      <td>smote</td>\n",
       "      <td>[[67, 1], [10, 3]]</td>\n",
       "    </tr>\n",
       "    <tr>\n",
       "      <th>2</th>\n",
       "      <td>adasyn</td>\n",
       "      <td>[[68, 0], [12, 1]]</td>\n",
       "    </tr>\n",
       "    <tr>\n",
       "      <th>3</th>\n",
       "      <td>border1</td>\n",
       "      <td>[[68, 0], [10, 3]]</td>\n",
       "    </tr>\n",
       "    <tr>\n",
       "      <th>4</th>\n",
       "      <td>border2</td>\n",
       "      <td>[[68, 0], [12, 1]]</td>\n",
       "    </tr>\n",
       "    <tr>\n",
       "      <th>5</th>\n",
       "      <td>svm</td>\n",
       "      <td>[[62, 6], [10, 3]]</td>\n",
       "    </tr>\n",
       "  </tbody>\n",
       "</table>\n",
       "</div>"
      ],
      "text/plain": [
       "      Name              Amount\n",
       "0   random  [[43, 25], [9, 4]]\n",
       "1    smote  [[67, 1], [10, 3]]\n",
       "2   adasyn  [[68, 0], [12, 1]]\n",
       "3  border1  [[68, 0], [10, 3]]\n",
       "4  border2  [[68, 0], [12, 1]]\n",
       "5      svm  [[62, 6], [10, 3]]"
      ]
     },
     "execution_count": 7,
     "metadata": {},
     "output_type": "execute_result"
    }
   ],
   "source": [
    "pd.DataFrame([[key, conf_matrix_LG1[key]] for key in conf_matrix_LG1.keys()], columns=['Name', 'Amount'])"
   ]
  },
  {
   "cell_type": "code",
   "execution_count": 8,
   "id": "25454b0f",
   "metadata": {
    "scrolled": false
   },
   "outputs": [
    {
     "data": {
      "text/plain": [
       "{'random': array([[43, 25],\n",
       "        [ 9,  4]], dtype=int64),\n",
       " 'smote': array([[67,  1],\n",
       "        [10,  3]], dtype=int64),\n",
       " 'adasyn': array([[68,  0],\n",
       "        [12,  1]], dtype=int64),\n",
       " 'border1': array([[68,  0],\n",
       "        [10,  3]], dtype=int64),\n",
       " 'border2': array([[68,  0],\n",
       "        [12,  1]], dtype=int64),\n",
       " 'svm': array([[62,  6],\n",
       "        [10,  3]], dtype=int64)}"
      ]
     },
     "execution_count": 8,
     "metadata": {},
     "output_type": "execute_result"
    }
   ],
   "source": [
    "conf_matrix_LG1 "
   ]
  },
  {
   "cell_type": "markdown",
   "id": "4b348458",
   "metadata": {},
   "source": [
    "c) False Negative Rate"
   ]
  },
  {
   "cell_type": "code",
   "execution_count": 9,
   "id": "b43dba74",
   "metadata": {
    "scrolled": true
   },
   "outputs": [
    {
     "data": {
      "text/html": [
       "<div>\n",
       "<style scoped>\n",
       "    .dataframe tbody tr th:only-of-type {\n",
       "        vertical-align: middle;\n",
       "    }\n",
       "\n",
       "    .dataframe tbody tr th {\n",
       "        vertical-align: top;\n",
       "    }\n",
       "\n",
       "    .dataframe thead th {\n",
       "        text-align: right;\n",
       "    }\n",
       "</style>\n",
       "<table border=\"1\" class=\"dataframe\">\n",
       "  <thead>\n",
       "    <tr style=\"text-align: right;\">\n",
       "      <th></th>\n",
       "      <th>oversampling</th>\n",
       "      <th>FNR</th>\n",
       "    </tr>\n",
       "  </thead>\n",
       "  <tbody>\n",
       "    <tr>\n",
       "      <th>0</th>\n",
       "      <td>random</td>\n",
       "      <td>0.692308</td>\n",
       "    </tr>\n",
       "    <tr>\n",
       "      <th>1</th>\n",
       "      <td>smote</td>\n",
       "      <td>0.769231</td>\n",
       "    </tr>\n",
       "    <tr>\n",
       "      <th>2</th>\n",
       "      <td>adasyn</td>\n",
       "      <td>0.923077</td>\n",
       "    </tr>\n",
       "    <tr>\n",
       "      <th>3</th>\n",
       "      <td>border1</td>\n",
       "      <td>0.769231</td>\n",
       "    </tr>\n",
       "    <tr>\n",
       "      <th>4</th>\n",
       "      <td>border2</td>\n",
       "      <td>0.923077</td>\n",
       "    </tr>\n",
       "    <tr>\n",
       "      <th>5</th>\n",
       "      <td>svm</td>\n",
       "      <td>0.769231</td>\n",
       "    </tr>\n",
       "  </tbody>\n",
       "</table>\n",
       "</div>"
      ],
      "text/plain": [
       "  oversampling       FNR\n",
       "0       random  0.692308\n",
       "1        smote  0.769231\n",
       "2       adasyn  0.923077\n",
       "3      border1  0.769231\n",
       "4      border2  0.923077\n",
       "5          svm  0.769231"
      ]
     },
     "execution_count": 9,
     "metadata": {},
     "output_type": "execute_result"
    }
   ],
   "source": [
    "pd.DataFrame([[key, FNR_dict_LG1[key]] for key in FNR_dict_LG1 .keys()], columns=['oversampling', 'FNR'])"
   ]
  },
  {
   "cell_type": "markdown",
   "id": "84549c79",
   "metadata": {},
   "source": [
    "The FNR values, which for our case is the one we want to minimize, because we want to avoid false negatives in order to treat the patient, have very high values (remember that it varies from 1 (all are FN) to 0 (there are no FN))."
   ]
  },
  {
   "cell_type": "code",
   "execution_count": 10,
   "id": "8234b406",
   "metadata": {},
   "outputs": [
    {
     "data": {
      "text/plain": [
       "dict_values([0.6923076923076923, 0.7692307692307693, 0.9230769230769231, 0.7692307692307693, 0.9230769230769231, 0.7692307692307693])"
      ]
     },
     "execution_count": 10,
     "metadata": {},
     "output_type": "execute_result"
    }
   ],
   "source": [
    "FNR_dict_LG1.values()"
   ]
  },
  {
   "cell_type": "markdown",
   "id": "dc3dbdb9",
   "metadata": {},
   "source": [
    "In order to solve the overfitting problem the strategy is to simplify the model since the overfitting is occurring because the algorithm has too much flexibility and learns too much from noise or features that do not correspond to the generality and as a consequence the training model can't correctly predict new data that has never been presented to the model"
   ]
  },
  {
   "cell_type": "markdown",
   "id": "0843bdcb",
   "metadata": {},
   "source": [
    "In this model, we can control the regularization by means of the penalty and C parameters (inverse of regularization strength - smaller values specify stronger regularization) to deal with the overfitting:\n",
    "The idea of regularization is to introduce additional information (bias) to penalize extreme parameter weights"
   ]
  },
  {
   "cell_type": "markdown",
   "id": "ebad69e1",
   "metadata": {},
   "source": [
    "Avoid complex models with many parameters, thus limiting their generalization and possibility of overfitting. Regularization techniques like L1 and L2 also help make the models more conservative. For tree-based models, reducing their maximum depth also limits the model's ability to see patterns and non-existent relationships"
   ]
  },
  {
   "cell_type": "code",
   "execution_count": 15,
   "id": "b2ea16b0",
   "metadata": {},
   "outputs": [],
   "source": [
    "def run_LogisticRegression_2(X_train, X_test, y_train, y_test):\n",
    "    \n",
    "    '''This function applies the logistic regression model with more conservative parameters.\n",
    "    In order to evaluate the model performance it uses roc-auc metric.\n",
    "    It prints predictions of train and test set in order to evaluate over or underfitting and \n",
    "    it also calculates the confusion matrix and False Positive Rate (FPR) Vs False Negative Rate (FNR) '''\n",
    "        \n",
    "    \n",
    "    model = LogisticRegression(\n",
    "    random_state=42,\n",
    "    penalty='l1',\n",
    "    C=0.1,\n",
    "    max_iter=10000,\n",
    "    solver = 'saga')\n",
    "    \n",
    "    model.fit(X_train, y_train)\n",
    "\n",
    "    print('Train set')\n",
    "    pred = model.predict_proba(X_train)\n",
    "    print('Logistic Regression roc-auc: {}'.format(roc_auc_score(y_train, pred[:,1])))\n",
    "    \n",
    "    print('Test set')\n",
    "    pred = model.predict_proba(X_test)\n",
    "    print('Logistic Regression roc-auc: {}'.format(roc_auc_score(y_test, pred[:,1])))\n",
    "    \n",
    "    #confusion matrix\n",
    "    cf_matrix = confusion_matrix(y_test, model.predict(X_test))\n",
    "    \n",
    "    #False Positive Rate (FPR) Vs False Negative Rate (FNR)\n",
    "    tn, fp, fn, tp = confusion_matrix(y_test, model.predict(X_test), labels=[0,1]).ravel()\n",
    "\n",
    "    FPR = fp / (tn + fp)\n",
    "\n",
    "    FNR = fn / (tp + fn)\n",
    "    \n",
    "\n",
    "    return roc_auc_score(y_test, pred[:, 1]), cf_matrix, FPR, FNR"
   ]
  },
  {
   "cell_type": "code",
   "execution_count": 16,
   "id": "64f52b3a",
   "metadata": {},
   "outputs": [
    {
     "name": "stdout",
     "output_type": "stream",
     "text": [
      "random\n",
      "Train set\n",
      "Logistic Regression roc-auc: 0.7389841046712802\n",
      "Test set\n",
      "Logistic Regression roc-auc: 0.6527149321266968\n",
      "\n",
      "smote\n",
      "Train set\n",
      "Logistic Regression roc-auc: 0.8288684039792387\n",
      "Test set\n",
      "Logistic Regression roc-auc: 0.6176470588235294\n",
      "\n",
      "adasyn\n",
      "Train set\n",
      "Logistic Regression roc-auc: 0.8200206888839185\n",
      "Test set\n",
      "Logistic Regression roc-auc: 0.5825791855203619\n",
      "\n",
      "border1\n",
      "Train set\n",
      "Logistic Regression roc-auc: 0.8474940527681661\n",
      "Test set\n",
      "Logistic Regression roc-auc: 0.581447963800905\n",
      "\n",
      "border2\n",
      "Train set\n",
      "Logistic Regression roc-auc: 0.8528597785977861\n",
      "Test set\n",
      "Logistic Regression roc-auc: 0.5656108597285069\n",
      "\n",
      "svm\n",
      "Train set\n",
      "Logistic Regression roc-auc: 0.8397288602941178\n",
      "Test set\n",
      "Logistic Regression roc-auc: 0.5712669683257918\n",
      "\n",
      "\n"
     ]
    }
   ],
   "source": [
    "results_dict_LG2 = {}\n",
    "shapes_dict_LG2  = {}\n",
    "conf_matrix_LG2  = {}\n",
    "FNR_dict_LG2  = {}\n",
    "\n",
    "\n",
    "for oversampler in oversampler_dict.keys():\n",
    "    print(oversampler)\n",
    "    \n",
    "    #resample\n",
    "    X_resampled, y_resampled = oversampler_dict[oversampler].fit_resample(X_train, y_train)\n",
    "    \n",
    "    #evaluate performance\n",
    "    roc = run_LogisticRegression_2(X_resampled, X_test, y_resampled, y_test)\n",
    "    \n",
    "    \n",
    "    \n",
    "    #store results\n",
    "    results_dict_LG2 [oversampler] = roc[0]\n",
    "    conf_matrix_LG2 [oversampler] = roc[1]\n",
    "    FNR_dict_LG2 [oversampler] = roc[3]\n",
    "    shapes_dict_LG2 [oversampler] = len(X_resampled)  \n",
    "    print()\n",
    "    \n",
    "print()"
   ]
  },
  {
   "cell_type": "markdown",
   "id": "ec290a55",
   "metadata": {},
   "source": [
    "As a result we have been able to decrease overfitting and we have also obtained better model performance."
   ]
  },
  {
   "cell_type": "markdown",
   "id": "e69059c1",
   "metadata": {},
   "source": [
    "### Summary of results"
   ]
  },
  {
   "cell_type": "markdown",
   "id": "7bd382f0",
   "metadata": {},
   "source": [
    "a) summary of all roc-auc scores dependeng of sampling method"
   ]
  },
  {
   "cell_type": "code",
   "execution_count": 17,
   "id": "e6bded33",
   "metadata": {},
   "outputs": [
    {
     "data": {
      "image/png": "[encoded data removed]",
      "text/plain": [
       "<Figure size 432x288 with 1 Axes>"
      ]
     },
     "metadata": {},
     "output_type": "display_data"
    }
   ],
   "source": [
    "pd.Series(results_dict_LG2).plot.bar()\n",
    "plt.title('Logistic Regression')\n",
    "plt.ylabel('roc-auc')\n",
    "\n",
    "plt.show();"
   ]
  },
  {
   "cell_type": "markdown",
   "id": "485f3dc3",
   "metadata": {},
   "source": [
    "b) Confusion Matrix"
   ]
  },
  {
   "cell_type": "code",
   "execution_count": 18,
   "id": "789b89b9",
   "metadata": {
    "scrolled": false
   },
   "outputs": [
    {
     "data": {
      "text/plain": [
       "{'random': array([[46, 22],\n",
       "        [ 4,  9]], dtype=int64),\n",
       " 'smote': array([[46, 22],\n",
       "        [ 6,  7]], dtype=int64),\n",
       " 'adasyn': array([[47, 21],\n",
       "        [ 8,  5]], dtype=int64),\n",
       " 'border1': array([[40, 28],\n",
       "        [ 5,  8]], dtype=int64),\n",
       " 'border2': array([[45, 23],\n",
       "        [ 7,  6]], dtype=int64),\n",
       " 'svm': array([[48, 20],\n",
       "        [ 8,  5]], dtype=int64)}"
      ]
     },
     "execution_count": 18,
     "metadata": {},
     "output_type": "execute_result"
    }
   ],
   "source": [
    "conf_matrix_LG2"
   ]
  },
  {
   "cell_type": "markdown",
   "id": "2fd41c7b",
   "metadata": {},
   "source": [
    "Compared to the previous model, this more conservative model is able to classify more positive classes for all oversampling techniques."
   ]
  },
  {
   "cell_type": "markdown",
   "id": "738fa86f",
   "metadata": {},
   "source": [
    "c) False Negative Rate"
   ]
  },
  {
   "cell_type": "code",
   "execution_count": 19,
   "id": "d52b23ce",
   "metadata": {
    "scrolled": false
   },
   "outputs": [
    {
     "data": {
      "text/plain": [
       "{'random': 0.3076923076923077,\n",
       " 'smote': 0.46153846153846156,\n",
       " 'adasyn': 0.6153846153846154,\n",
       " 'border1': 0.38461538461538464,\n",
       " 'border2': 0.5384615384615384,\n",
       " 'svm': 0.6153846153846154}"
      ]
     },
     "execution_count": 19,
     "metadata": {},
     "output_type": "execute_result"
    }
   ],
   "source": [
    "FNR_dict_LG2"
   ]
  },
  {
   "cell_type": "code",
   "execution_count": 20,
   "id": "3b972b62",
   "metadata": {
    "scrolled": true
   },
   "outputs": [
    {
     "data": {
      "image/png": "[encoded data removed]",
      "text/plain": [
       "<Figure size 432x288 with 1 Axes>"
      ]
     },
     "metadata": {},
     "output_type": "display_data"
    }
   ],
   "source": [
    "#plot_FNR\n",
    "pd.Series(FNR_dict_LG2).plot.bar(color=['blue','red','green','yellow','brown', 'pink'], edgecolor='none')\n",
    "plt.title('Logistic Regression')\n",
    "plt.ylabel('FNR')\n",
    "\n",
    "plt.show();"
   ]
  },
  {
   "cell_type": "markdown",
   "id": "73e9b689",
   "metadata": {},
   "source": [
    "As a consequence of having a higher number of TPs, we see that we are able to minimize considerably the FNR for random and adassyn techniques"
   ]
  },
  {
   "cell_type": "markdown",
   "id": "0a66dda2",
   "metadata": {},
   "source": [
    "**Conclusion**: \n",
    "More logistic regression models have been tested by varying the penalty parameters and the parameter C. However, no better results have been obtained, so we will try other classification models.\n"
   ]
  },
  {
   "cell_type": "markdown",
   "id": "ee48fc0f",
   "metadata": {},
   "source": [
    "## 4.2 k-Nearest Neighbors"
   ]
  },
  {
   "cell_type": "code",
   "execution_count": 21,
   "id": "f768acf7",
   "metadata": {},
   "outputs": [],
   "source": [
    "def run_KNN_1(X_train, X_test, y_train, y_test):\n",
    "    \n",
    "    '''This function applies k-Nearest Neighbors model.\n",
    "    In order to evaluate the model performance it uses roc-auc metric.\n",
    "    It prints predictions of train and test set in order to evaluate over or underfitting and \n",
    "    it also calculates the confusion matrix and False Positive Rate (FPR) Vs False Negative Rate (FNR) '''\n",
    "    \n",
    "   \n",
    "    \n",
    "    grid_search_clf_gk = KNeighborsClassifier(n_neighbors=7, p=1, metric='minkowski' ) #When p = 1, this is equivalent to using manhattan_distance\n",
    " \n",
    "\n",
    "    #grid_search_clf_gk = GridSearchCV(clf_gk, param_grid, cv = 3, n_jobs = -1, scoring='roc_auc', ) Overfitting\n",
    "    grid_search_clf_gk.fit(X_train, y_train)\n",
    "    \n",
    "  \n",
    "    \n",
    "    print('Train set')\n",
    "    pred = grid_search_clf_gk.predict_proba(X_train)\n",
    "    print('Decision Tree: {}'.format(roc_auc_score(y_train, pred[:,1])))\n",
    "    \n",
    "    print('Test set')\n",
    "    pred = grid_search_clf_gk.predict_proba(X_test)\n",
    "    print('Decision Tree: {}'.format(roc_auc_score(y_test, pred[:,1])))\n",
    "    \n",
    "    #confusion matrix\n",
    "    cf_matrix = confusion_matrix(y_test, grid_search_clf_gk.predict(X_test))\n",
    "    \n",
    "    #False Positive Rate (FPR) Vs False Negative Rate (FNR)\n",
    "    tn, fp, fn, tp = confusion_matrix(y_test, grid_search_clf_gk.predict(X_test), labels=[0,1]).ravel()\n",
    "\n",
    "    FPR = fp / (tn + fp)\n",
    "\n",
    "    FNR = fn / (tp + fn)\n",
    "     \n",
    "    return roc_auc_score(y_test, pred[:, 1]), cf_matrix, FPR, FNR \n"
   ]
  },
  {
   "cell_type": "code",
   "execution_count": 22,
   "id": "47349604",
   "metadata": {},
   "outputs": [
    {
     "name": "stdout",
     "output_type": "stream",
     "text": [
      "random\n",
      "Train set\n",
      "Decision Tree: 0.9730617430795847\n",
      "Test set\n",
      "Decision Tree: 0.7222850678733032\n",
      "\n",
      "smote\n",
      "Train set\n",
      "Decision Tree: 0.9879027897923875\n",
      "Test set\n",
      "Decision Tree: 0.6923076923076923\n",
      "\n",
      "adasyn\n",
      "Train set\n",
      "Decision Tree: 0.9918502572131515\n",
      "Test set\n",
      "Decision Tree: 0.6832579185520362\n",
      "\n",
      "border1\n",
      "Train set\n",
      "Decision Tree: 0.9831247296712803\n",
      "Test set\n",
      "Decision Tree: 0.7222850678733033\n",
      "\n",
      "border2\n",
      "Train set\n",
      "Decision Tree: 0.9842155958324289\n",
      "Test set\n",
      "Decision Tree: 0.7358597285067873\n",
      "\n",
      "svm\n",
      "Train set\n",
      "Decision Tree: 0.9831450043252594\n",
      "Test set\n",
      "Decision Tree: 0.7070135746606335\n",
      "\n",
      "\n"
     ]
    }
   ],
   "source": [
    "results_dict_KNN = {}\n",
    "shapes_dict_KNN = {}\n",
    "conf_matrix_KNN = {}\n",
    "FNR_dict_KNN = {}\n",
    "\n",
    "\n",
    "for oversampler in oversampler_dict.keys():\n",
    "    print(oversampler)\n",
    "    \n",
    "    #resample\n",
    "    X_resampled, y_resampled = oversampler_dict[oversampler].fit_resample(X_train, y_train)\n",
    "    \n",
    "    #evaluate performance\n",
    "    roc = run_KNN_1(X_resampled, X_test, y_resampled, y_test)\n",
    "    \n",
    "    \n",
    "    \n",
    "    #store results\n",
    "    results_dict_KNN[oversampler] = roc[0]\n",
    "    conf_matrix_KNN[oversampler]= roc[1]\n",
    "    FNR_dict_KNN[oversampler]= roc[3]\n",
    "    shapes_dict_KNN[oversampler]= len(X_resampled)  \n",
    "    print()\n",
    "    \n",
    "print()"
   ]
  },
  {
   "cell_type": "markdown",
   "id": "dd762779",
   "metadata": {},
   "source": [
    "### **Summary of results**"
   ]
  },
  {
   "cell_type": "markdown",
   "id": "d986f91d",
   "metadata": {},
   "source": [
    "a)summary of all roc-auc scores dependeng of sampling method"
   ]
  },
  {
   "cell_type": "code",
   "execution_count": 23,
   "id": "e89022c9",
   "metadata": {},
   "outputs": [
    {
     "data": {
      "image/png": "[encoded data removed]",
      "text/plain": [
       "<Figure size 432x288 with 1 Axes>"
      ]
     },
     "metadata": {},
     "output_type": "display_data"
    }
   ],
   "source": [
    "pd.Series(results_dict_KNN).plot.bar()\n",
    "plt.title('k-Nearest Neighbors')\n",
    "plt.ylabel('roc-auc')\n",
    "plt.ylim(0.6, 0.75)\n",
    "\n",
    "plt.show();"
   ]
  },
  {
   "cell_type": "markdown",
   "id": "803ea6ad",
   "metadata": {},
   "source": [
    "Despite still having overfitting, this model performs better than the logistic regression model."
   ]
  },
  {
   "cell_type": "markdown",
   "id": "ddeae7ea",
   "metadata": {},
   "source": [
    "b) Confusion Matrix"
   ]
  },
  {
   "cell_type": "code",
   "execution_count": 24,
   "id": "fdd7a177",
   "metadata": {
    "scrolled": true
   },
   "outputs": [
    {
     "data": {
      "text/plain": [
       "{'random': array([[44, 24],\n",
       "        [ 4,  9]], dtype=int64),\n",
       " 'smote': array([[40, 28],\n",
       "        [ 4,  9]], dtype=int64),\n",
       " 'adasyn': array([[40, 28],\n",
       "        [ 4,  9]], dtype=int64),\n",
       " 'border1': array([[40, 28],\n",
       "        [ 3, 10]], dtype=int64),\n",
       " 'border2': array([[44, 24],\n",
       "        [ 4,  9]], dtype=int64),\n",
       " 'svm': array([[45, 23],\n",
       "        [ 6,  7]], dtype=int64)}"
      ]
     },
     "execution_count": 24,
     "metadata": {},
     "output_type": "execute_result"
    }
   ],
   "source": [
    "conf_matrix_KNN"
   ]
  },
  {
   "cell_type": "markdown",
   "id": "529c3722",
   "metadata": {},
   "source": [
    "c) False Negative Rate"
   ]
  },
  {
   "cell_type": "code",
   "execution_count": 25,
   "id": "5a71b9fe",
   "metadata": {
    "scrolled": true
   },
   "outputs": [
    {
     "data": {
      "text/plain": [
       "{'random': 0.3076923076923077,\n",
       " 'smote': 0.3076923076923077,\n",
       " 'adasyn': 0.3076923076923077,\n",
       " 'border1': 0.23076923076923078,\n",
       " 'border2': 0.3076923076923077,\n",
       " 'svm': 0.46153846153846156}"
      ]
     },
     "execution_count": 25,
     "metadata": {},
     "output_type": "execute_result"
    }
   ],
   "source": [
    "FNR_dict_KNN"
   ]
  },
  {
   "cell_type": "markdown",
   "id": "8d4b8e1a",
   "metadata": {},
   "source": [
    "It is important to note that in addition to the better performance of the model, the value of FNR also decreases"
   ]
  },
  {
   "cell_type": "markdown",
   "id": "b733698b",
   "metadata": {},
   "source": [
    "**Searching for optimal K value**"
   ]
  },
  {
   "cell_type": "markdown",
   "id": "ed605842",
   "metadata": {},
   "source": [
    "In theory it is more reliable to do a gridsearch to obtain the optimal value, but I want to avoid cross validations dur to overfitting issues."
   ]
  },
  {
   "cell_type": "markdown",
   "id": "a3a870ca",
   "metadata": {},
   "source": [
    "For simplicity, taking into account that after the oversampling process we have the same initial distribution, we will calculate the optimal value of K for the data without sampling."
   ]
  },
  {
   "cell_type": "code",
   "execution_count": 26,
   "id": "8ddfb377",
   "metadata": {},
   "outputs": [],
   "source": [
    "#det K number representing error rate vs k values\n",
    "error_rate=[]\n",
    "\n",
    "for i in range(1,40):\n",
    "    knn =KNeighborsClassifier(n_neighbors=i)\n",
    "    knn.fit(X_train.values, y_train.values)\n",
    "    pred_i = knn.predict(X_test.values)\n",
    "    error_rate.append(np.mean(pred_i != y_test.values))"
   ]
  },
  {
   "cell_type": "code",
   "execution_count": 27,
   "id": "02d7f961",
   "metadata": {
    "scrolled": true
   },
   "outputs": [
    {
     "data": {
      "text/plain": [
       "Text(0, 0.5, 'Mean Error')"
      ]
     },
     "execution_count": 27,
     "metadata": {},
     "output_type": "execute_result"
    },
    {
     "data": {
      "image/png": "[encoded data removed]",
      "text/plain": [
       "<Figure size 864x432 with 1 Axes>"
      ]
     },
     "metadata": {},
     "output_type": "display_data"
    }
   ],
   "source": [
    "plt.figure(figsize=(12, 6))\n",
    "plt.plot(range(1, 40), error_rate, color='red', linestyle='dashed', marker='o',\n",
    "         markerfacecolor='blue', markersize=10)\n",
    "plt.title('Error Rate K Value')\n",
    "plt.xlabel('K Value')\n",
    "plt.ylabel('Mean Error')"
   ]
  },
  {
   "cell_type": "markdown",
   "id": "bf1c003e",
   "metadata": {},
   "source": [
    "In this graphic we can see that the optimal K values would be 8,10,12,13 because for higher k, the error is so small that it is really overfitting."
   ]
  },
  {
   "cell_type": "markdown",
   "id": "4497ccad",
   "metadata": {},
   "source": [
    "**Conclusion**: With this model we have not only obtained better performance but also minimized false negatives."
   ]
  },
  {
   "cell_type": "markdown",
   "id": "05005627",
   "metadata": {},
   "source": [
    "## 4.3 Decision Trees"
   ]
  },
  {
   "cell_type": "markdown",
   "id": "3799920e",
   "metadata": {},
   "source": [
    "In case of Decision tree if tree is under performing, it is necessary to increase n_estimators and max_depth. If tree is over-fitting decrease both.\n",
    "In general a Decision tree overfits for large max_depth because he deeper you allow the more complex your model will become.\n",
    "despite incresing max_depth value training error will always go down\n",
    "Using min_samples fit we can also solve overfitting"
   ]
  },
  {
   "cell_type": "code",
   "execution_count": 28,
   "id": "7c5796d3",
   "metadata": {},
   "outputs": [],
   "source": [
    "def run_Decision_Tree(X_train, X_test, y_train, y_test):\n",
    "    \n",
    "    '''This function Decision Tree model.\n",
    "    In order to evaluate the model performance it uses roc-auc metric.\n",
    "    It prints predictions of train and test set in order to evaluate over or underfitting and \n",
    "    it also calculates the confusion matrix and False Positive Rate (FPR) Vs False Negative Rate (FNR)\n",
    "    parameters:\n",
    "    n_estimators — the number of trees in the forest;\n",
    "    criterion — the function used to measure the quality of a split;\n",
    "    max_features — the number of features to consider when looking for the best split;\n",
    "    min_samples_leaf — the minimum number of samples required to be at a leaf node;\n",
    "    max_depth — the maximum depth of the tree.'''\n",
    "    \n",
    "    \n",
    "    grid_search_dt = DecisionTreeClassifier(criterion='entropy',max_depth=4, random_state=42, splitter='random' )\n",
    " \n",
    "    grid_search_dt.fit(X_train, y_train)\n",
    "    \n",
    "\n",
    "    \n",
    "    print('Train set')\n",
    "    pred = grid_search_dt.predict_proba(X_train)\n",
    "    print('Decision Tree: {}'.format(roc_auc_score(y_train, pred[:,1])))\n",
    "    \n",
    "    print('Test set')\n",
    "    pred = grid_search_dt.predict_proba(X_test)\n",
    "    print('Decision Tree: {}'.format(roc_auc_score(y_test, pred[:,1])))\n",
    "    \n",
    "    #confusion matrix\n",
    "    cf_matrix = confusion_matrix(y_test, grid_search_dt.predict(X_test))\n",
    "    \n",
    "    #False Positive Rate (FPR) Vs False Negative Rate (FNR)\n",
    "    tn, fp, fn, tp = confusion_matrix(y_test, grid_search_dt.predict(X_test), labels=[0,1]).ravel()\n",
    "\n",
    "    FPR = fp / (tn + fp)\n",
    "\n",
    "    FNR = fn / (tp + fn)\n",
    "    \n",
    "    \n",
    "    \n",
    "    return roc_auc_score(y_test, pred[:, 1]), cf_matrix, FPR, FNR \n",
    "    \n",
    "\n",
    "    "
   ]
  },
  {
   "cell_type": "code",
   "execution_count": 29,
   "id": "b6af4e9d",
   "metadata": {
    "scrolled": true
   },
   "outputs": [
    {
     "name": "stdout",
     "output_type": "stream",
     "text": [
      "random\n",
      "Train set\n",
      "Decision Tree: 0.8079179282006921\n",
      "Test set\n",
      "Decision Tree: 0.6481900452488688\n",
      "\n",
      "smote\n",
      "Train set\n",
      "Decision Tree: 0.8637475670415224\n",
      "Test set\n",
      "Decision Tree: 0.6628959276018099\n",
      "\n",
      "adasyn\n",
      "Train set\n",
      "Decision Tree: 0.8345029076269291\n",
      "Test set\n",
      "Decision Tree: 0.664027149321267\n",
      "\n",
      "border1\n",
      "Train set\n",
      "Decision Tree: 0.8927605968858132\n",
      "Test set\n",
      "Decision Tree: 0.4802036199095022\n",
      "\n",
      "border2\n",
      "Train set\n",
      "Decision Tree: 0.8520322335576297\n",
      "Test set\n",
      "Decision Tree: 0.6815610859728507\n",
      "\n",
      "svm\n",
      "Train set\n",
      "Decision Tree: 0.8867390246539792\n",
      "Test set\n",
      "Decision Tree: 0.6504524886877828\n",
      "\n",
      "\n"
     ]
    }
   ],
   "source": [
    "results_dict_DTC = {}\n",
    "shapes_dict_DTC = {}\n",
    "conf_matrix_DTC = {}\n",
    "FNR_dict_DTC = {}\n",
    "\n",
    "\n",
    "for oversampler in oversampler_dict.keys():\n",
    "    print(oversampler)\n",
    "    \n",
    "    #resample\n",
    "    X_resampled, y_resampled = oversampler_dict[oversampler].fit_resample(X_train, y_train)\n",
    "    \n",
    "    #evaluate performance\n",
    "    roc = run_Decision_Tree(X_resampled, X_test, y_resampled, y_test)\n",
    "    \n",
    "    \n",
    "    \n",
    "    #store results\n",
    "    results_dict_DTC[oversampler] = roc[0]\n",
    "    conf_matrix_DTC[oversampler] = roc[1]\n",
    "    FNR_dict_DTC[oversampler] = roc[3]\n",
    "    shapes_dict_DTC[oversampler] = len(X_resampled)  \n",
    "    print()\n",
    "    \n",
    "print()"
   ]
  },
  {
   "cell_type": "markdown",
   "id": "3399e395",
   "metadata": {},
   "source": [
    "### Summary of results"
   ]
  },
  {
   "cell_type": "markdown",
   "id": "0bfa37f6",
   "metadata": {},
   "source": [
    "a) Summary of all roc-auc scores dependeng of sampling method"
   ]
  },
  {
   "cell_type": "code",
   "execution_count": 30,
   "id": "79e9380a",
   "metadata": {},
   "outputs": [
    {
     "data": {
      "image/png": "[encoded data removed]",
      "text/plain": [
       "<Figure size 432x288 with 1 Axes>"
      ]
     },
     "metadata": {},
     "output_type": "display_data"
    }
   ],
   "source": [
    "pd.Series(results_dict_DTC).plot.bar()\n",
    "plt.title('Decission Tree')\n",
    "plt.ylabel('roc-auc')\n",
    "\n",
    "plt.show();"
   ]
  },
  {
   "cell_type": "markdown",
   "id": "edc062a8",
   "metadata": {},
   "source": [
    "b) Confusion Matrix"
   ]
  },
  {
   "cell_type": "code",
   "execution_count": 31,
   "id": "826348cd",
   "metadata": {},
   "outputs": [
    {
     "data": {
      "text/plain": [
       "{'random': array([[40, 28],\n",
       "        [ 4,  9]], dtype=int64),\n",
       " 'smote': array([[34, 34],\n",
       "        [ 2, 11]], dtype=int64),\n",
       " 'adasyn': array([[34, 34],\n",
       "        [ 2, 11]], dtype=int64),\n",
       " 'border1': array([[51, 17],\n",
       "        [10,  3]], dtype=int64),\n",
       " 'border2': array([[40, 28],\n",
       "        [ 2, 11]], dtype=int64),\n",
       " 'svm': array([[39, 29],\n",
       "        [ 6,  7]], dtype=int64)}"
      ]
     },
     "execution_count": 31,
     "metadata": {},
     "output_type": "execute_result"
    }
   ],
   "source": [
    "conf_matrix_DTC"
   ]
  },
  {
   "cell_type": "markdown",
   "id": "225f3300",
   "metadata": {},
   "source": [
    "c) False Negative Rate"
   ]
  },
  {
   "cell_type": "code",
   "execution_count": 32,
   "id": "a48af516",
   "metadata": {
    "scrolled": true
   },
   "outputs": [
    {
     "data": {
      "text/plain": [
       "{'random': 0.3076923076923077,\n",
       " 'smote': 0.15384615384615385,\n",
       " 'adasyn': 0.15384615384615385,\n",
       " 'border1': 0.7692307692307693,\n",
       " 'border2': 0.15384615384615385,\n",
       " 'svm': 0.46153846153846156}"
      ]
     },
     "execution_count": 32,
     "metadata": {},
     "output_type": "execute_result"
    }
   ],
   "source": [
    "FNR_dict_DTC"
   ]
  },
  {
   "cell_type": "code",
   "execution_count": 33,
   "id": "f720e9d7",
   "metadata": {},
   "outputs": [
    {
     "data": {
      "text/plain": [
       "{'random': 0.07692307692307693,\n",
       " 'smote': 0.15384615384615385,\n",
       " 'adasyn': 0.15384615384615385,\n",
       " 'border1': 0.23076923076923078,\n",
       " 'border2': 0.15384615384615385,\n",
       " 'svm': 0.38461538461538464}"
      ]
     },
     "execution_count": 33,
     "metadata": {},
     "output_type": "execute_result"
    }
   ],
   "source": [
    "{'random': 0.07692307692307693,\n",
    " 'smote': 0.15384615384615385,\n",
    " 'adasyn': 0.15384615384615385,\n",
    " 'border1': 0.23076923076923078,\n",
    " 'border2': 0.15384615384615385,\n",
    " 'svm': 0.38461538461538464}"
   ]
  },
  {
   "cell_type": "markdown",
   "id": "18e46db6",
   "metadata": {},
   "source": [
    "**Conclusion**: Despite having a slightly worse performance than the KNN model but the FNR values are much smaller, for the case of oversampling smote, adasyn and boder2 and therefore this models are better."
   ]
  },
  {
   "cell_type": "markdown",
   "id": "db3eba38",
   "metadata": {},
   "source": [
    " # 4.4 Support Vector Machine"
   ]
  },
  {
   "cell_type": "markdown",
   "id": "05127f42",
   "metadata": {},
   "source": [
    "making use of the kernel trick have a tendancy to overfit. As always, regularization parameters are handy for controlling this. The sklearn SVM methods provide C and gamma functions for this purpose."
   ]
  },
  {
   "cell_type": "code",
   "execution_count": 34,
   "id": "fce2bfdc",
   "metadata": {},
   "outputs": [],
   "source": [
    "def run_SVC_1(X_train, X_test, y_train, y_test):\n",
    "    \n",
    "    clf_svc = SVC(probability = True, random_state = 42, kernel='rbf', gamma='scale', C=2)\n",
    "\n",
    "   \n",
    "    best_clf_svc = clf_svc.fit(X_train, y_train)\n",
    "    \n",
    "    \n",
    "    \n",
    "    print('Train set')\n",
    "    pred = best_clf_svc.predict_proba(X_train)\n",
    "    print('SVC: {}'.format(roc_auc_score(y_train, pred[:,1])))\n",
    "    \n",
    "    print('Test set')\n",
    "    pred = best_clf_svc.predict_proba(X_test)\n",
    "    print('SVC: {}'.format(roc_auc_score(y_test, pred[:,1])))\n",
    "    \n",
    "    #confusion matrix\n",
    "    cf_matrix = confusion_matrix(y_test, best_clf_svc.predict(X_test))\n",
    "    \n",
    "    #False Positive Rate (FPR) Vs False Negative Rate (FNR)\n",
    "    tn, fp, fn, tp = confusion_matrix(y_test, best_clf_svc.predict(X_test), labels=[0,1]).ravel()\n",
    "\n",
    "    FPR = fp / (tn + fp)\n",
    "\n",
    "    FNR = fn / (tp + fn)\n",
    "    \n",
    "    \n",
    "    \n",
    "    return roc_auc_score(y_test, pred[:, 1]), cf_matrix, FPR, FNR \n",
    "\n",
    "    \n",
    "    "
   ]
  },
  {
   "cell_type": "code",
   "execution_count": 35,
   "id": "0010692d",
   "metadata": {
    "scrolled": false
   },
   "outputs": [
    {
     "name": "stdout",
     "output_type": "stream",
     "text": [
      "random\n",
      "Train set\n",
      "SVC: 0.9754271193771626\n",
      "Test set\n",
      "SVC: 0.6006787330316743\n",
      "\n",
      "smote\n",
      "Train set\n",
      "SVC: 0.9933634299307958\n",
      "Test set\n",
      "SVC: 0.5701357466063348\n",
      "\n",
      "adasyn\n",
      "Train set\n",
      "SVC: 0.9918362782375307\n",
      "Test set\n",
      "SVC: 0.5588235294117647\n",
      "\n",
      "border1\n",
      "Train set\n",
      "SVC: 0.9899978373702422\n",
      "Test set\n",
      "SVC: 0.583710407239819\n",
      "\n",
      "border2\n",
      "Train set\n",
      "SVC: 0.9895539396570436\n",
      "Test set\n",
      "SVC: 0.6085972850678734\n",
      "\n",
      "svm\n",
      "Train set\n",
      "SVC: 0.972575151384083\n",
      "Test set\n",
      "SVC: 0.5599547511312217\n",
      "\n",
      "\n"
     ]
    }
   ],
   "source": [
    "results_dict = {}\n",
    "shapes_dict = {}\n",
    "conf_matrix = {}\n",
    "FNR_dict = {}\n",
    "\n",
    "\n",
    "for oversampler in oversampler_dict.keys():\n",
    "    print(oversampler)\n",
    "    \n",
    "    #resample\n",
    "    X_resampled, y_resampled = oversampler_dict[oversampler].fit_resample(X_train, y_train)\n",
    "    \n",
    "    #evaluate performance\n",
    "    roc = run_SVC_1(X_resampled, X_test, y_resampled, y_test)\n",
    "    \n",
    "    \n",
    "    \n",
    "    #store results\n",
    "    results_dict[oversampler] = roc[0]\n",
    "    conf_matrix[oversampler] = roc[1]\n",
    "    FNR_dict[oversampler] = roc[3]\n",
    "    shapes_dict[oversampler] = len(X_resampled)  \n",
    "    print()\n",
    "    \n",
    "print()"
   ]
  },
  {
   "cell_type": "code",
   "execution_count": 36,
   "id": "fa8443df",
   "metadata": {},
   "outputs": [
    {
     "data": {
      "text/plain": [
       "{'random': 0.6153846153846154,\n",
       " 'smote': 0.6153846153846154,\n",
       " 'adasyn': 0.6923076923076923,\n",
       " 'border1': 0.6923076923076923,\n",
       " 'border2': 0.6153846153846154,\n",
       " 'svm': 0.6153846153846154}"
      ]
     },
     "execution_count": 36,
     "metadata": {},
     "output_type": "execute_result"
    }
   ],
   "source": [
    "FNR_dict"
   ]
  },
  {
   "cell_type": "markdown",
   "id": "15fd3819",
   "metadata": {},
   "source": [
    "### **Summary of results**"
   ]
  },
  {
   "cell_type": "markdown",
   "id": "14efdf63",
   "metadata": {},
   "source": [
    "a) Summary of all roc-auc scores dependeng of sampling method"
   ]
  },
  {
   "cell_type": "code",
   "execution_count": 37,
   "id": "0fe2da7d",
   "metadata": {},
   "outputs": [
    {
     "data": {
      "image/png": "[encoded data removed]",
      "text/plain": [
       "<Figure size 432x288 with 1 Axes>"
      ]
     },
     "metadata": {},
     "output_type": "display_data"
    }
   ],
   "source": [
    "pd.Series(results_dict).plot.bar()\n",
    "plt.title('SVC')\n",
    "plt.ylabel('roc-auc')\n",
    "\n",
    "plt.show();"
   ]
  },
  {
   "cell_type": "markdown",
   "id": "04aa032a",
   "metadata": {},
   "source": [
    "b) Confusion Matrix"
   ]
  },
  {
   "cell_type": "code",
   "execution_count": 38,
   "id": "50f35f39",
   "metadata": {
    "scrolled": true
   },
   "outputs": [
    {
     "data": {
      "text/plain": [
       "{'random': array([[53, 15],\n",
       "        [ 8,  5]], dtype=int64),\n",
       " 'smote': array([[60,  8],\n",
       "        [ 8,  5]], dtype=int64),\n",
       " 'adasyn': array([[57, 11],\n",
       "        [ 9,  4]], dtype=int64),\n",
       " 'border1': array([[57, 11],\n",
       "        [ 9,  4]], dtype=int64),\n",
       " 'border2': array([[60,  8],\n",
       "        [ 8,  5]], dtype=int64),\n",
       " 'svm': array([[58, 10],\n",
       "        [ 8,  5]], dtype=int64)}"
      ]
     },
     "execution_count": 38,
     "metadata": {},
     "output_type": "execute_result"
    }
   ],
   "source": [
    "conf_matrix"
   ]
  },
  {
   "cell_type": "code",
   "execution_count": 39,
   "id": "fc7937dc",
   "metadata": {},
   "outputs": [
    {
     "data": {
      "text/plain": [
       "{'random': 0.6153846153846154,\n",
       " 'smote': 0.6153846153846154,\n",
       " 'adasyn': 0.6923076923076923,\n",
       " 'border1': 0.6923076923076923,\n",
       " 'border2': 0.6153846153846154,\n",
       " 'svm': 0.6153846153846154}"
      ]
     },
     "execution_count": 39,
     "metadata": {},
     "output_type": "execute_result"
    }
   ],
   "source": [
    "FNR_dict"
   ]
  },
  {
   "cell_type": "markdown",
   "id": "39692a6c",
   "metadata": {},
   "source": [
    "Not good model becaus FNR values are high in spite of roc-auc"
   ]
  },
  {
   "cell_type": "code",
   "execution_count": null,
   "id": "3959ddfb",
   "metadata": {},
   "outputs": [],
   "source": []
  },
  {
   "cell_type": "markdown",
   "id": "d622275b",
   "metadata": {},
   "source": [
    "# 4.5 Random Forest"
   ]
  },
  {
   "cell_type": "markdown",
   "id": "6cf98eaf",
   "metadata": {},
   "source": [
    "Since the DT model has not badly results of FNR I am going to try the Random Forest model."
   ]
  },
  {
   "cell_type": "code",
   "execution_count": 40,
   "id": "2934af65",
   "metadata": {},
   "outputs": [],
   "source": [
    "def run_RF(X_train, X_test, y_train, y_test):\n",
    "    \n",
    "    rf = RandomForestClassifier(random_state = 42)\n",
    "    param_grid = {'n_estimators': [50, 100],\n",
    "                  'criterion': ['entropy', 'gini'],\n",
    "                  'bootstrap': [True],\n",
    "                  'max_depth': [2, 3, 4,5,6,7,8,9],\n",
    "                  'max_features': ['log2', 'sqrt', 0.8, 0.5],\n",
    "                  'min_samples_leaf': [2, 3, 5],\n",
    "                  'min_samples_split': [2, 3, 5]}\n",
    "    \n",
    "    clf_rf = GridSearchCV(rf, param_grid = param_grid, scoring = 'recall', cv = 5, verbose = False, n_jobs = -1)\n",
    "    best_clf_rf = clf_rf.fit(X_train, y_train)\n",
    "    \n",
    "    print(\"Best: %f using %s\" % (best_clf_rf.best_score_, best_clf_rf.best_params_))\n",
    "    \n",
    "    \n",
    "    print('Train set')\n",
    "    pred = best_clf_rf.predict_proba(X_train)\n",
    "    print('Random Forest roc-auc: {}'.format(roc_auc_score(y_train, pred[:,1])))\n",
    "    \n",
    "    print('Test set')\n",
    "    pred = best_clf_rf.predict_proba(X_test)\n",
    "    print('Random Forest roc-auc: {}'.format(roc_auc_score(y_test, pred[:,1])))\n",
    "    \n",
    "    #confusion matrix\n",
    "    cf_matrix = confusion_matrix(y_test, best_clf_rf.predict(X_test))\n",
    " \n",
    "     #False Positive Rate (FPR) Vs False Negative Rate (FNR)\n",
    "    tn, fp, fn, tp = confusion_matrix(y_test, best_clf_rf.predict(X_test), labels=[0,1]).ravel()\n",
    "\n",
    "    FPR = fp / (tn + fp)\n",
    "\n",
    "    FNR = fn / (tp + fn)\n",
    "    \n",
    "    \n",
    "    \n",
    "    return roc_auc_score(y_test, pred[:, 1]), cf_matrix, FPR, FNR \n"
   ]
  },
  {
   "cell_type": "code",
   "execution_count": null,
   "id": "c3c9bf91",
   "metadata": {},
   "outputs": [
    {
     "name": "stdout",
     "output_type": "stream",
     "text": [
      "random\n"
     ]
    }
   ],
   "source": [
    "results_dict_RF = {}\n",
    "shapes_dict_RF = {}\n",
    "conf_matrix_RF = {}\n",
    "FNR_dict_RF = {}\n",
    "\n",
    "\n",
    "for oversampler in oversampler_dict.keys():\n",
    "    print(oversampler)\n",
    "    \n",
    "    #resample\n",
    "    X_resampled, y_resampled = oversampler_dict[oversampler].fit_resample(X_train, y_train)\n",
    "    \n",
    "    #evaluate performance\n",
    "    roc = run_RF(X_resampled, X_test, y_resampled, y_test)\n",
    "    \n",
    "    \n",
    "    \n",
    "    #store results\n",
    "    results_dict_RF[oversampler] = roc[0]\n",
    "    conf_matrix_RF[oversampler] = roc[1]\n",
    "    FNR_dict_RF[oversampler] = roc[3]\n",
    "    shapes_dict_RF[oversampler] = len(X_resampled)  \n",
    "    print()\n",
    "    \n",
    "print()"
   ]
  },
  {
   "cell_type": "code",
   "execution_count": null,
   "id": "5a37cb9d",
   "metadata": {},
   "outputs": [],
   "source": [
    "FNR_dict_RF"
   ]
  },
  {
   "cell_type": "code",
   "execution_count": null,
   "id": "53daa015",
   "metadata": {},
   "outputs": [],
   "source": []
  },
  {
   "cell_type": "markdown",
   "id": "3364bb21",
   "metadata": {},
   "source": [
    "# 5. Summary and conclusions"
   ]
  },
  {
   "cell_type": "markdown",
   "id": "1329cb42",
   "metadata": {},
   "source": [
    "Despite all attempts we have not been able to solve the overfitting even by forcing the overfitting, which makes me think that it may be due to a data problem as mentioned above."
   ]
  },
  {
   "cell_type": "markdown",
   "id": "449a64dd",
   "metadata": {},
   "source": [
    "However, a summary of the best results:"
   ]
  },
  {
   "cell_type": "markdown",
   "id": "160377a5",
   "metadata": {},
   "source": [
    "Function to visualize "
   ]
  },
  {
   "cell_type": "code",
   "execution_count": null,
   "id": "fb7eb7b9",
   "metadata": {},
   "outputs": [],
   "source": [
    "def plot_cm(classifier, predictions):\n",
    "    cm = confusion_matrix(y_test, predictions)\n",
    "    \n",
    "    plt.clf()\n",
    "    plt.imshow(cm, interpolation='nearest', cmap='RdBu')\n",
    "    classNames = ['No Rcidiva','Recidiva']\n",
    "    plt.ylabel('True label')\n",
    "    plt.xlabel('Predicted label')\n",
    "    tick_marks = np.arange(len(classNames))\n",
    "    plt.xticks(tick_marks, classNames, rotation=45)\n",
    "    plt.yticks(tick_marks, classNames)\n",
    "    s = [['TN','FP'], ['FN', 'TP']]\n",
    "    plt.title(\"Confusion matrix\")\n",
    "    \n",
    "    for i in range(2):\n",
    "        for j in range(2):\n",
    "            plt.text(j,i, str(s[i][j])+\" = \"+str(cm[i][j]), \n",
    "                     horizontalalignment='center', color='white')\n",
    "    \n",
    "    plt.show()\n",
    "        \n",
    "    tn, fp, fn, tp = cm.ravel()\n",
    "\n",
    "    \n",
    "    recall = tp / (tp + fn)\n",
    "    precision = tp / (tp + fp)\n",
    "    F1 = 2*recall*precision/(recall+precision)\n",
    "    FPR = fp / (tn + fp)\n",
    "    FNR = fn / (tp + fn)\n",
    "\n",
    "    \n",
    "    print('roc_auc_test: {}'.format(roc_auc_score(y_test, pred[:,1])))\n",
    "    print('Recall={0:0.3f}'.format(recall),'\\nPrecision={0:0.3f}'.format(precision))\n",
    "    print('F1={0:0.3f}'.format(F1))\n",
    "    print('False Positive Rate={0:0.3f}'.format(FPR))\n",
    "    print('False Negative Rate={0:0.3f}'.format(FNR))"
   ]
  },
  {
   "cell_type": "markdown",
   "id": "2c9d7dbe",
   "metadata": {},
   "source": [
    "### Logistic Regression: Randomsampling"
   ]
  },
  {
   "cell_type": "code",
   "execution_count": null,
   "id": "59507638",
   "metadata": {},
   "outputs": [],
   "source": [
    "ros = RandomOverSampler(\n",
    "        sampling_strategy='auto', #oversample de minority class\n",
    "        random_state=0) #reproducibility\n",
    "\n",
    "X_ros, y_ros = ros.fit_resample(X_train, y_train)"
   ]
  },
  {
   "cell_type": "code",
   "execution_count": null,
   "id": "9f17557b",
   "metadata": {},
   "outputs": [],
   "source": [
    "LG = LogisticRegression(\n",
    "    random_state=42,\n",
    "    penalty='l1',\n",
    "    C=0.1,\n",
    "    max_iter=10,\n",
    "    solver = 'saga')\n",
    "    \n",
    "LG.fit(X_ros, y_ros)\n",
    "pred = model.predict_proba(X_test)\n"
   ]
  },
  {
   "cell_type": "code",
   "execution_count": null,
   "id": "ed96367c",
   "metadata": {
    "scrolled": true
   },
   "outputs": [],
   "source": [
    "plot_cm(LG, model.predict(X_test))"
   ]
  },
  {
   "cell_type": "code",
   "execution_count": null,
   "id": "5fc50daf",
   "metadata": {},
   "outputs": [],
   "source": [
    "plt.figure(figsize=(10,10))\n",
    "plt.title('Receiver Operating Characteristic')\n",
    "plt.plot(false_positive_rate,true_positive_rate, color='red',label = 'AUC = %0.2f' % roc_auc)\n",
    "plt.legend(loc = 'lower right')\n",
    "plt.plot([0, 1], [0, 1],linestyle='--')\n",
    "plt.axis('tight')\n",
    "plt.ylabel('True Positive Rate')\n",
    "plt.xlabel('False Positive Rate')"
   ]
  },
  {
   "cell_type": "markdown",
   "id": "3f6ec34a",
   "metadata": {},
   "source": [
    "### KNN: border1sampling"
   ]
  },
  {
   "cell_type": "code",
   "execution_count": null,
   "id": "b1223c55",
   "metadata": {},
   "outputs": [],
   "source": [
    "border1 = BorderlineSMOTE(\n",
    "    sampling_strategy='auto',\n",
    "    random_state=0,\n",
    "    k_neighbors=3,\n",
    "    m_neighbors=5,\n",
    "    kind='borderline-1',\n",
    "    n_jobs=4)\n",
    "\n",
    "X_border1, y_border1 = border1.fit_resample(X_train, y_train)"
   ]
  },
  {
   "cell_type": "code",
   "execution_count": null,
   "id": "b870973c",
   "metadata": {},
   "outputs": [],
   "source": [
    "KNN = KNeighborsClassifier(n_neighbors=7, p=1, metric='minkowski' ) \n",
    " \n",
    "KNN.fit(X_border1, y_border1)\n",
    "pred = KNN.predict_proba(X_test)   \n"
   ]
  },
  {
   "cell_type": "code",
   "execution_count": null,
   "id": "bc2f6a40",
   "metadata": {},
   "outputs": [],
   "source": [
    "plot_cm(KNN, KNN.predict(X_test))"
   ]
  },
  {
   "cell_type": "markdown",
   "id": "57ec13a9",
   "metadata": {},
   "source": [
    "### Decision Tree : adasyn - border2"
   ]
  },
  {
   "cell_type": "markdown",
   "id": "8750c33f",
   "metadata": {},
   "source": [
    "a) Adasyn"
   ]
  },
  {
   "cell_type": "code",
   "execution_count": null,
   "id": "cbee51d4",
   "metadata": {},
   "outputs": [],
   "source": [
    "ads= ADASYN(\n",
    "    sampling_strategy='auto',\n",
    "    random_state=0,\n",
    "    n_neighbors=3,\n",
    "    n_jobs=-1)\n",
    "X_ads, y_ads = ads.fit_resample(X_train, y_train)"
   ]
  },
  {
   "cell_type": "code",
   "execution_count": null,
   "id": "302bb593",
   "metadata": {},
   "outputs": [],
   "source": [
    "DT_ads= DecisionTreeClassifier(criterion='entropy',max_depth=4, random_state=42, splitter='random' )\n",
    " \n",
    "DT_ads.fit(X_ads, y_ads)\n",
    "pred = DT_ads.predict_proba(X_test)"
   ]
  },
  {
   "cell_type": "code",
   "execution_count": null,
   "id": "69a321d5",
   "metadata": {},
   "outputs": [],
   "source": [
    "plot_cm(DT_ads, DT_ads.predict(X_test))"
   ]
  },
  {
   "cell_type": "markdown",
   "id": "0173e86c",
   "metadata": {},
   "source": [
    "b) border2"
   ]
  },
  {
   "cell_type": "code",
   "execution_count": null,
   "id": "5ca5094f",
   "metadata": {},
   "outputs": [],
   "source": [
    "border2=  BorderlineSMOTE(\n",
    "    sampling_strategy='auto',\n",
    "    random_state=0,\n",
    "    k_neighbors=3,\n",
    "    m_neighbors=5,\n",
    "    kind='borderline-2',\n",
    "    n_jobs=-1)\n",
    "X_border2, y_border2 = border2.fit_resample(X_train, y_train)"
   ]
  },
  {
   "cell_type": "code",
   "execution_count": null,
   "id": "584dea34",
   "metadata": {},
   "outputs": [],
   "source": [
    "DT_border2= DecisionTreeClassifier(criterion='entropy',max_depth=4, random_state=42, splitter='random' )\n",
    " \n",
    "DT_border2.fit(X_border2, y_border2)\n",
    "pred = DT_border2.predict_proba(X_test)"
   ]
  },
  {
   "cell_type": "code",
   "execution_count": null,
   "id": "dd163879",
   "metadata": {},
   "outputs": [],
   "source": [
    "plot_cm(DT_border2, DT_border2.predict(X_test))"
   ]
  },
  {
   "cell_type": "markdown",
   "id": "6fcba7a3",
   "metadata": {},
   "source": [
    "It is better with the border2 technique because despite having the same FNR value, it has a lower FPR value."
   ]
  },
  {
   "cell_type": "markdown",
   "id": "a3a41483",
   "metadata": {},
   "source": [
    "The results for the SVM and Random Forest models are so bad that I will not consider them."
   ]
  }
 ],
 "metadata": {
  "kernelspec": {
   "display_name": "Python 3",
   "language": "python",
   "name": "python3"
  },
  "language_info": {
   "codemirror_mode": {
    "name": "ipython",
    "version": 3
   },
   "file_extension": ".py",
   "mimetype": "text/x-python",
   "name": "python",
   "nbconvert_exporter": "python",
   "pygments_lexer": "ipython3",
   "version": "3.8.8"
  }
 },
 "nbformat": 4,
 "nbformat_minor": 5
}
