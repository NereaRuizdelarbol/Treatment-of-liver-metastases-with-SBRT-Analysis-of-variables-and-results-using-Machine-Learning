{
 "cells": [
  {
   "cell_type": "markdown",
   "id": "4afab611",
   "metadata": {},
   "source": [
    "# Step_3c_Data_level_approach_Combination_under_oversampling"
   ]
  },
  {
   "cell_type": "markdown",
   "id": "f62e4b31",
   "metadata": {},
   "source": [
    "**In this notebook we will apply simple classification models after over, under_sampling combination technique to the minority class**"
   ]
  },
  {
   "cell_type": "markdown",
   "id": "1c985291",
   "metadata": {},
   "source": [
    "As we conclude in the notebook :metric_selection, we will use the roc-auc metric to evaluate the performance of the models and we will analyze the false negative ratio which is what we are interested in minimizing."
   ]
  },
  {
   "cell_type": "markdown",
   "id": "722ded8d",
   "metadata": {},
   "source": [
    "# CONTENT"
   ]
  },
  {
   "cell_type": "markdown",
   "id": "c9e49f27",
   "metadata": {},
   "source": [
    "    1. Import Libraries\n",
    "    2. Load data\n",
    "    3. Over, undersampling combination method\n",
    "    4. Modeling:\n",
    "        4.1 Logistic Regression\n",
    "        4.2 k-Nearest Neighbor\n",
    "        4.3 Decision Tree\n",
    "        4.4 Support Vector Machine\n",
    "        4.5 RandomForest\n",
    "     5. Summary and Conlusions"
   ]
  },
  {
   "cell_type": "markdown",
   "id": "78833020",
   "metadata": {},
   "source": [
    "# 1. Import Libraries"
   ]
  },
  {
   "cell_type": "code",
   "execution_count": 1,
   "id": "e7e5d8ac",
   "metadata": {},
   "outputs": [
    {
     "data": {
      "text/html": [
       "<style>.container { width:100% !important; }</style>"
      ],
      "text/plain": [
       "<IPython.core.display.HTML object>"
      ]
     },
     "metadata": {},
     "output_type": "display_data"
    }
   ],
   "source": [
    "import pandas as pd\n",
    "import numpy as np\n",
    "\n",
    "\n",
    "#show cells with width as long as screen\n",
    "from IPython.core.display import display, HTML\n",
    "display(HTML(\"<style>.container { width:100% !important; }</style>\"))\n",
    "#Hide warnings\n",
    "import warnings\n",
    "warnings.filterwarnings('ignore')\n",
    "\n",
    "import matplotlib.pyplot as plt\n",
    "import seaborn as sns\n",
    "plt.style.use('ggplot')\n",
    "pd.options.display.max_columns = None\n",
    "\n",
    "#Samplind data\n",
    "from imblearn.under_sampling import EditedNearestNeighbours, TomekLinks\n",
    "from imblearn.over_sampling import SMOTE\n",
    "from imblearn.combine import SMOTEENN, SMOTETomek\n",
    "\n",
    "#Classification algorithms\n",
    "from sklearn.linear_model import LogisticRegression\n",
    "from sklearn.tree import DecisionTreeClassifier\n",
    "from sklearn.svm import SVC\n",
    "from sklearn.neighbors import KNeighborsClassifier\n",
    "\n",
    "from sklearn.ensemble import (\n",
    "    RandomForestClassifier,\n",
    "    BaggingClassifier,\n",
    "    AdaBoostClassifier, GradientBoostingClassifier, ExtraTreesClassifier\n",
    ")\n",
    "\n",
    "from sklearn.model_selection import GridSearchCV\n",
    "\n",
    "#metric\n",
    "from sklearn.metrics import roc_auc_score, plot_roc_curve, precision_recall_curve, accuracy_score, recall_score\n",
    "from sklearn.metrics import classification_report, confusion_matrix"
   ]
  },
  {
   "cell_type": "markdown",
   "id": "bef816dd",
   "metadata": {},
   "source": [
    "# 2. Load data"
   ]
  },
  {
   "cell_type": "markdown",
   "id": "1559cb9b",
   "metadata": {},
   "source": [
    "This data has been generated in the notebook: step_2_Preprocessing_data"
   ]
  },
  {
   "cell_type": "code",
   "execution_count": 2,
   "id": "185c0116",
   "metadata": {},
   "outputs": [],
   "source": [
    "X_train = pd.read_excel('X_train_step_2.xlsx', engine='openpyxl')\n",
    "X_test =  pd.read_excel('X_test_step_2.xlsx', engine='openpyxl')\n",
    "y_train = pd.read_excel('y_train_step_2.xlsx', engine='openpyxl')\n",
    "y_test = pd.read_excel('y_test_step_2.xlsx', engine='openpyxl')"
   ]
  },
  {
   "cell_type": "markdown",
   "id": "b06f06c7",
   "metadata": {},
   "source": [
    "# 3. Over, undersampling combination method"
   ]
  },
  {
   "cell_type": "markdown",
   "id": "87b60380",
   "metadata": {},
   "source": [
    "SMOTE + ENN and SMOTE + Tomek Links\n",
    "\n",
    "Combined used of SMOTE and ENN or Tomek Links to amplify the minority class and remove noisy observations that might be created."
   ]
  },
  {
   "cell_type": "code",
   "execution_count": 3,
   "id": "5ef93b0a",
   "metadata": {},
   "outputs": [],
   "source": [
    "under_oversampler_dict = {\n",
    "    'smenn': SMOTEENN(\n",
    "        sampling_strategy='auto',\n",
    "        random_state=42,\n",
    "        smote=SMOTE(sampling_strategy='auto', random_state=0, k_neighbors=5),\n",
    "        enn=EditedNearestNeighbours(\n",
    "            sampling_strategy='auto', n_neighbors=3, kind_sel='all'),\n",
    "        n_jobs=4),\n",
    "\n",
    "    'smtomek': SMOTETomek(\n",
    "        sampling_strategy='auto',\n",
    "        random_state=42,\n",
    "        smote=SMOTE(sampling_strategy='auto', random_state=0, k_neighbors=5),\n",
    "        tomek=TomekLinks(sampling_strategy='all'),\n",
    "        n_jobs=4),\n",
    "\n",
    "}"
   ]
  },
  {
   "cell_type": "markdown",
   "id": "2c0f7933",
   "metadata": {},
   "source": [
    "# 4. Modeling"
   ]
  },
  {
   "cell_type": "markdown",
   "id": "68cddd0f",
   "metadata": {},
   "source": [
    "## 4.1 Logistic Regression"
   ]
  },
  {
   "cell_type": "code",
   "execution_count": 4,
   "id": "131a4862",
   "metadata": {},
   "outputs": [],
   "source": [
    "def run_LogisticRegression(X_train, X_test, y_train, y_test):\n",
    "    \n",
    "    '''This function applies the logistic regression model with more conservative parameters.\n",
    "    In order to evaluate the model performance it uses roc-auc metric.\n",
    "    It prints predictions of train and test set in order to evaluate over or underfitting and \n",
    "    it also calculates the confusion matrix and False Positive Rate (FPR) Vs False Negative Rate (FNR) '''\n",
    "        \n",
    "    \n",
    "    model = LogisticRegression(\n",
    "    random_state=42,\n",
    "    penalty='l1',\n",
    "    C=0.1,\n",
    "    max_iter=1000,\n",
    "    solver = 'saga')\n",
    "    \n",
    "    model.fit(X_train, y_train)\n",
    "\n",
    "    print('Train set')\n",
    "    pred = model.predict_proba(X_train)\n",
    "    print('Logistic Regression roc-auc: {}'.format(roc_auc_score(y_train, pred[:,1])))\n",
    "    \n",
    "    print('Test set')\n",
    "    pred = model.predict_proba(X_test)\n",
    "    print('Logistic Regression roc-auc: {}'.format(roc_auc_score(y_test, pred[:,1])))\n",
    "    \n",
    "    #confusion matrix\n",
    "    cf_matrix = confusion_matrix(y_test, model.predict(X_test))\n",
    "    \n",
    "    #False Positive Rate (FPR) Vs False Negative Rate (FNR)\n",
    "    tn, fp, fn, tp = confusion_matrix(y_test, model.predict(X_test), labels=[0,1]).ravel()\n",
    "\n",
    "    FPR = fp / (tn + fp)\n",
    "\n",
    "    FNR = fn / (tp + fn)\n",
    "    \n",
    "\n",
    "    return roc_auc_score(y_test, pred[:, 1]), cf_matrix, FPR, FNR"
   ]
  },
  {
   "cell_type": "code",
   "execution_count": 5,
   "id": "16fade8b",
   "metadata": {},
   "outputs": [
    {
     "name": "stdout",
     "output_type": "stream",
     "text": [
      "smenn\n",
      "Train set\n",
      "Logistic Regression roc-auc: 0.8782398016677935\n",
      "Test set\n",
      "Logistic Regression roc-auc: 0.5723981900452488\n",
      "\n",
      "smtomek\n",
      "Train set\n",
      "Logistic Regression roc-auc: 0.8720438957475994\n",
      "Test set\n",
      "Logistic Regression roc-auc: 0.578054298642534\n",
      "\n",
      "\n"
     ]
    }
   ],
   "source": [
    "results_dict_LG = {}\n",
    "shapes_dict_LG  = {}\n",
    "conf_matrix_LG  = {}\n",
    "FNR_dict_LG  = {}\n",
    "\n",
    "\n",
    "for combination in under_oversampler_dict.keys():\n",
    "    print(combination)\n",
    "    \n",
    "    #resample\n",
    "    X_resampled, y_resampled = under_oversampler_dict[combination].fit_resample(X_train, y_train)\n",
    "    \n",
    "    #evaluate performance\n",
    "    roc = run_LogisticRegression(X_resampled, X_test, y_resampled, y_test)\n",
    "    \n",
    "    \n",
    "    \n",
    "    #store results\n",
    "    results_dict_LG [combination] = roc[0]\n",
    "    conf_matrix_LG [combination] = roc[1]\n",
    "    FNR_dict_LG [combination] = roc[3]\n",
    "    shapes_dict_LG [combination] = len(X_resampled)  \n",
    "    print()\n",
    "    \n",
    "print()"
   ]
  },
  {
   "cell_type": "markdown",
   "id": "ee160e87",
   "metadata": {},
   "source": [
    "### **Summary of results**"
   ]
  },
  {
   "cell_type": "markdown",
   "id": "993a094d",
   "metadata": {},
   "source": [
    "a) summary of all roc-auc scores dependeng of sampling method"
   ]
  },
  {
   "cell_type": "code",
   "execution_count": 6,
   "id": "663fc116",
   "metadata": {},
   "outputs": [
    {
     "data": {
      "image/png": "[encoded data removed]",
      "text/plain": [
       "<Figure size 432x288 with 1 Axes>"
      ]
     },
     "metadata": {},
     "output_type": "display_data"
    }
   ],
   "source": [
    "pd.Series(results_dict_LG).plot.bar()\n",
    "plt.title('Logistic Regression')\n",
    "plt.ylabel('roc-auc')\n",
    "\n",
    "plt.show();"
   ]
  },
  {
   "cell_type": "markdown",
   "id": "7e30da64",
   "metadata": {},
   "source": [
    "b) Confusion Matrix"
   ]
  },
  {
   "cell_type": "code",
   "execution_count": 7,
   "id": "0c1753e1",
   "metadata": {
    "scrolled": false
   },
   "outputs": [
    {
     "data": {
      "text/plain": [
       "{'smenn': array([[51, 17],\n",
       "        [ 8,  5]], dtype=int64),\n",
       " 'smtomek': array([[53, 15],\n",
       "        [ 9,  4]], dtype=int64)}"
      ]
     },
     "execution_count": 7,
     "metadata": {},
     "output_type": "execute_result"
    }
   ],
   "source": [
    "conf_matrix_LG"
   ]
  },
  {
   "cell_type": "markdown",
   "id": "9f67ef97",
   "metadata": {},
   "source": [
    "c) False Negative Rate"
   ]
  },
  {
   "cell_type": "code",
   "execution_count": 8,
   "id": "f788208a",
   "metadata": {},
   "outputs": [
    {
     "data": {
      "text/plain": [
       "{'smenn': 0.6153846153846154, 'smtomek': 0.6923076923076923}"
      ]
     },
     "execution_count": 8,
     "metadata": {},
     "output_type": "execute_result"
    }
   ],
   "source": [
    "FNR_dict_LG"
   ]
  },
  {
   "cell_type": "markdown",
   "id": "914ca054",
   "metadata": {},
   "source": [
    "## 4.2 k-Nearest Neighbors"
   ]
  },
  {
   "cell_type": "code",
   "execution_count": 9,
   "id": "1cf938cf",
   "metadata": {},
   "outputs": [
    {
     "name": "stdout",
     "output_type": "stream",
     "text": [
      "smenn\n",
      "Decision Tree: 0.9882803696191119\n",
      "Test set\n",
      "Decision Tree: 0.6719457013574661\n",
      "\n",
      "smtomek\n",
      "Decision Tree: 0.9876680384087793\n",
      "Test set\n",
      "Decision Tree: 0.6866515837104072\n",
      "\n",
      "\n"
     ]
    }
   ],
   "source": [
    "def run_KNN_1(X_train, X_test, y_train, y_test):\n",
    "    \n",
    "    \n",
    "    clf_gk = KNeighborsClassifier()\n",
    "\n",
    "    param_grid={\"n_neighbors\":np.arange(1,13), 'p': [1,2]}\n",
    "    \n",
    "\n",
    "\n",
    "    grid_search_clf_gk = GridSearchCV(clf_gk, param_grid, cv = 3, n_jobs = -1, scoring='roc_auc') #ccv = 5-fold cross validation, n_jobs =# run in parallel\n",
    "    grid_search_clf_gk.fit(X_train, y_train)\n",
    "    \n",
    "  \n",
    "    #print('Train set')\n",
    "    pred = grid_search_clf_gk.predict_proba(X_train)\n",
    "    print('Decision Tree: {}'.format(roc_auc_score(y_train, pred[:,1])))\n",
    "    \n",
    "    print('Test set')\n",
    "    pred = grid_search_clf_gk.predict_proba(X_test)\n",
    "    print('Decision Tree: {}'.format(roc_auc_score(y_test, pred[:,1])))\n",
    "    \n",
    "    #confusion matrix\n",
    "    cf_matrix = confusion_matrix(y_test, grid_search_clf_gk.predict(X_test))\n",
    "    \n",
    "    #False Positive Rate (FPR) Vs False Negative Rate (FNR)\n",
    "    tn, fp, fn, tp = confusion_matrix(y_test, grid_search_clf_gk.predict(X_test), labels=[0,1]).ravel()\n",
    "\n",
    "    FPR = fp / (tn + fp)\n",
    "\n",
    "    FNR = fn / (tp + fn)\n",
    "     \n",
    "    return roc_auc_score(y_test, pred[:, 1]), cf_matrix, FPR, FNR \n",
    "\n",
    "results_dict_KNN = {}\n",
    "shapes_dict_KNN  = {}\n",
    "conf_matrix_KNN  = {}\n",
    "FNR_dict_KNN  = {}\n",
    "\n",
    "\n",
    "for combination in under_oversampler_dict.keys():\n",
    "    print(combination)\n",
    "    \n",
    "    #resample\n",
    "    X_resampled, y_resampled = under_oversampler_dict[combination].fit_resample(X_train, y_train)\n",
    "    \n",
    "    #evaluate performance\n",
    "    roc = run_KNN_1(X_resampled, X_test, y_resampled, y_test)\n",
    "    \n",
    "    \n",
    "    \n",
    "    #store results\n",
    "    results_dict_KNN [combination] = roc[0]\n",
    "    conf_matrix_KNN [combination] = roc[1]\n",
    "    FNR_dict_KNN [combination] = roc[3]\n",
    "    shapes_dict_LG [combination] = len(X_resampled)  \n",
    "    print()\n",
    "    \n",
    "print()"
   ]
  },
  {
   "cell_type": "markdown",
   "id": "dc7cdf25",
   "metadata": {},
   "source": [
    "### Summary of results"
   ]
  },
  {
   "cell_type": "markdown",
   "id": "f8657e08",
   "metadata": {},
   "source": [
    "a) Summary of all roc-auc scores dependeng of sampling method"
   ]
  },
  {
   "cell_type": "code",
   "execution_count": 10,
   "id": "25ef0def",
   "metadata": {},
   "outputs": [
    {
     "data": {
      "image/png": "[encoded data removed]",
      "text/plain": [
       "<Figure size 432x288 with 1 Axes>"
      ]
     },
     "metadata": {},
     "output_type": "display_data"
    }
   ],
   "source": [
    "pd.Series(results_dict_KNN).plot.bar()\n",
    "plt.title('k-Nearest Neighbors')\n",
    "plt.ylabel('roc-auc')\n",
    "\n",
    "plt.show();"
   ]
  },
  {
   "cell_type": "markdown",
   "id": "f409b66c",
   "metadata": {},
   "source": [
    "b) Confusion Matrix"
   ]
  },
  {
   "cell_type": "code",
   "execution_count": 11,
   "id": "056ae445",
   "metadata": {
    "scrolled": false
   },
   "outputs": [
    {
     "data": {
      "text/plain": [
       "{'smenn': array([[39, 29],\n",
       "        [ 5,  8]], dtype=int64),\n",
       " 'smtomek': array([[39, 29],\n",
       "        [ 5,  8]], dtype=int64)}"
      ]
     },
     "execution_count": 11,
     "metadata": {},
     "output_type": "execute_result"
    }
   ],
   "source": [
    "conf_matrix_KNN"
   ]
  },
  {
   "cell_type": "markdown",
   "id": "e646f287",
   "metadata": {},
   "source": [
    "c) False Negative Rate"
   ]
  },
  {
   "cell_type": "code",
   "execution_count": 12,
   "id": "70445d80",
   "metadata": {},
   "outputs": [
    {
     "data": {
      "text/plain": [
       "{'smenn': 0.38461538461538464, 'smtomek': 0.38461538461538464}"
      ]
     },
     "execution_count": 12,
     "metadata": {},
     "output_type": "execute_result"
    }
   ],
   "source": [
    "FNR_dict_KNN"
   ]
  },
  {
   "cell_type": "markdown",
   "id": "62a2497e",
   "metadata": {},
   "source": [
    "## 4.3 Decision Trees"
   ]
  },
  {
   "cell_type": "code",
   "execution_count": 13,
   "id": "83a42814",
   "metadata": {},
   "outputs": [],
   "source": [
    "def run_Decision_Tree(X_train, X_test, y_train, y_test):\n",
    "    \n",
    "    \n",
    "    dtc = DecisionTreeClassifier()\n",
    "\n",
    "    parameters = {\n",
    "    'criterion' : ['gini', 'entropy'],\n",
    "    'max_depth' : np.arange(1, 5),\n",
    "    'min_samples_leaf' :  np.arange(1, 5),\n",
    "    'min_samples_split' :  np.arange(1, 5),\n",
    "    'splitter' : ['best', 'random']\n",
    "        \n",
    "}\n",
    "    \n",
    "    grid_search_dt = GridSearchCV(dtc, parameters, cv = 3, n_jobs = -1, scoring='roc_auc') #ccv = 5-fold cross validation, n_jobs =# run in parallel\n",
    "    grid_search_dt.fit(X_train, y_train)\n",
    "    \n",
    "  \n",
    "    \n",
    "    print('Train set')\n",
    "    pred = grid_search_dt.predict_proba(X_train)\n",
    "    print('Decision Tree: {}'.format(roc_auc_score(y_train, pred[:,1])))\n",
    "    \n",
    "    print('Test set')\n",
    "    pred = grid_search_dt.predict_proba(X_test)\n",
    "    print('Decision Tree: {}'.format(roc_auc_score(y_test, pred[:,1])))\n",
    "    \n",
    "    #confusion matrix\n",
    "    cf_matrix = confusion_matrix(y_test, grid_search_dt.predict(X_test))\n",
    "    \n",
    "    #False Positive Rate (FPR) Vs False Negative Rate (FNR)\n",
    "    tn, fp, fn, tp = confusion_matrix(y_test, grid_search_dt.predict(X_test), labels=[0,1]).ravel()\n",
    "\n",
    "    FPR = fp / (tn + fp)\n",
    "\n",
    "    FNR = fn / (tp + fn)\n",
    "     \n",
    "    return roc_auc_score(y_test, pred[:, 1]), cf_matrix, FPR, FNR \n",
    "    \n",
    "\n",
    "results_dict_DT = {}\n",
    "shapes_dict_DT  = {}\n",
    "conf_matrix_DT  = {}\n",
    "FNR_dict_DT  = {}\n",
    "  \n",
    "for combination in under_oversampler_dict.keys():\n",
    "    print(combination)\n",
    "    \n",
    "    #resample\n",
    "    X_resampled, y_resampled = under_oversampler_dict[combination].fit_resample(X_train, y_train)\n",
    "    \n",
    "    #evaluate performance\n",
    "    roc = run_Decision_Tree(X_resampled, X_test, y_resampled, y_test)\n",
    "    \n",
    "    \n",
    "    \n",
    "    #store results\n",
    "    results_dict_SVC [combination] = roc[0]\n",
    "    conf_matrix_SVC [combination] = roc[1]\n",
    "    FNR_dict_SVC [combination] = roc[3]\n",
    "    shapes_dict_SVC [combination] = len(X_resampled)  \n",
    "    print()\n",
    "    \n",
    "print()    "
   ]
  },
  {
   "cell_type": "markdown",
   "id": "6f5b7a9a",
   "metadata": {},
   "source": [
    "### Summary of results"
   ]
  },
  {
   "cell_type": "markdown",
   "id": "0e1256bd",
   "metadata": {},
   "source": [
    "a) Summary of all roc-auc scores dependeng of sampling method"
   ]
  },
  {
   "cell_type": "code",
   "execution_count": 25,
   "id": "ec524f34",
   "metadata": {},
   "outputs": [
    {
     "ename": "IndexError",
     "evalue": "index 0 is out of bounds for axis 0 with size 0",
     "output_type": "error",
     "traceback": [
      "\u001b[1;31m---------------------------------------------------------------------------\u001b[0m",
      "\u001b[1;31mIndexError\u001b[0m                                Traceback (most recent call last)",
      "\u001b[1;32m<ipython-input-25-e2dd8700d760>\u001b[0m in \u001b[0;36m<module>\u001b[1;34m\u001b[0m\n\u001b[1;32m----> 1\u001b[1;33m \u001b[0mpd\u001b[0m\u001b[1;33m.\u001b[0m\u001b[0mSeries\u001b[0m\u001b[1;33m(\u001b[0m\u001b[0mresults_dict_DT\u001b[0m\u001b[1;33m)\u001b[0m\u001b[1;33m.\u001b[0m\u001b[0mplot\u001b[0m\u001b[1;33m.\u001b[0m\u001b[0mbar\u001b[0m\u001b[1;33m(\u001b[0m\u001b[1;33m)\u001b[0m\u001b[1;33m\u001b[0m\u001b[1;33m\u001b[0m\u001b[0m\n\u001b[0m\u001b[0;32m      2\u001b[0m \u001b[0mplt\u001b[0m\u001b[1;33m.\u001b[0m\u001b[0mtitle\u001b[0m\u001b[1;33m(\u001b[0m\u001b[1;34m'Decision Tree'\u001b[0m\u001b[1;33m)\u001b[0m\u001b[1;33m\u001b[0m\u001b[1;33m\u001b[0m\u001b[0m\n\u001b[0;32m      3\u001b[0m \u001b[0mplt\u001b[0m\u001b[1;33m.\u001b[0m\u001b[0mylabel\u001b[0m\u001b[1;33m(\u001b[0m\u001b[1;34m'roc-auc'\u001b[0m\u001b[1;33m)\u001b[0m\u001b[1;33m\u001b[0m\u001b[1;33m\u001b[0m\u001b[0m\n\u001b[0;32m      4\u001b[0m \u001b[1;33m\u001b[0m\u001b[0m\n\u001b[0;32m      5\u001b[0m \u001b[0mplt\u001b[0m\u001b[1;33m.\u001b[0m\u001b[0mshow\u001b[0m\u001b[1;33m(\u001b[0m\u001b[1;33m)\u001b[0m\u001b[1;33m;\u001b[0m\u001b[1;33m\u001b[0m\u001b[1;33m\u001b[0m\u001b[0m\n",
      "\u001b[1;32m~\\AppData\\Roaming\\Python\\Python38\\site-packages\\pandas\\plotting\\_core.py\u001b[0m in \u001b[0;36mbar\u001b[1;34m(self, x, y, **kwargs)\u001b[0m\n\u001b[0;32m   1001\u001b[0m             \u001b[1;33m>>\u001b[0m\u001b[1;33m>\u001b[0m \u001b[0max\u001b[0m \u001b[1;33m=\u001b[0m \u001b[0mdf\u001b[0m\u001b[1;33m.\u001b[0m\u001b[0mplot\u001b[0m\u001b[1;33m.\u001b[0m\u001b[0mbar\u001b[0m\u001b[1;33m(\u001b[0m\u001b[0mx\u001b[0m\u001b[1;33m=\u001b[0m\u001b[1;34m'lifespan'\u001b[0m\u001b[1;33m,\u001b[0m \u001b[0mrot\u001b[0m\u001b[1;33m=\u001b[0m\u001b[1;36m0\u001b[0m\u001b[1;33m)\u001b[0m\u001b[1;33m\u001b[0m\u001b[1;33m\u001b[0m\u001b[0m\n\u001b[0;32m   1002\u001b[0m         \"\"\"\n\u001b[1;32m-> 1003\u001b[1;33m         \u001b[1;32mreturn\u001b[0m \u001b[0mself\u001b[0m\u001b[1;33m(\u001b[0m\u001b[0mkind\u001b[0m\u001b[1;33m=\u001b[0m\u001b[1;34m\"bar\"\u001b[0m\u001b[1;33m,\u001b[0m \u001b[0mx\u001b[0m\u001b[1;33m=\u001b[0m\u001b[0mx\u001b[0m\u001b[1;33m,\u001b[0m \u001b[0my\u001b[0m\u001b[1;33m=\u001b[0m\u001b[0my\u001b[0m\u001b[1;33m,\u001b[0m \u001b[1;33m**\u001b[0m\u001b[0mkwargs\u001b[0m\u001b[1;33m)\u001b[0m\u001b[1;33m\u001b[0m\u001b[1;33m\u001b[0m\u001b[0m\n\u001b[0m\u001b[0;32m   1004\u001b[0m \u001b[1;33m\u001b[0m\u001b[0m\n\u001b[0;32m   1005\u001b[0m     \u001b[1;32mdef\u001b[0m \u001b[0mbarh\u001b[0m\u001b[1;33m(\u001b[0m\u001b[0mself\u001b[0m\u001b[1;33m,\u001b[0m \u001b[0mx\u001b[0m\u001b[1;33m=\u001b[0m\u001b[1;32mNone\u001b[0m\u001b[1;33m,\u001b[0m \u001b[0my\u001b[0m\u001b[1;33m=\u001b[0m\u001b[1;32mNone\u001b[0m\u001b[1;33m,\u001b[0m \u001b[1;33m**\u001b[0m\u001b[0mkwargs\u001b[0m\u001b[1;33m)\u001b[0m\u001b[1;33m:\u001b[0m\u001b[1;33m\u001b[0m\u001b[1;33m\u001b[0m\u001b[0m\n",
      "\u001b[1;32m~\\AppData\\Roaming\\Python\\Python38\\site-packages\\pandas\\plotting\\_core.py\u001b[0m in \u001b[0;36m__call__\u001b[1;34m(self, *args, **kwargs)\u001b[0m\n\u001b[0;32m    845\u001b[0m                     \u001b[0mdata\u001b[0m\u001b[1;33m.\u001b[0m\u001b[0mcolumns\u001b[0m \u001b[1;33m=\u001b[0m \u001b[0mlabel_name\u001b[0m\u001b[1;33m\u001b[0m\u001b[1;33m\u001b[0m\u001b[0m\n\u001b[0;32m    846\u001b[0m \u001b[1;33m\u001b[0m\u001b[0m\n\u001b[1;32m--> 847\u001b[1;33m         \u001b[1;32mreturn\u001b[0m \u001b[0mplot_backend\u001b[0m\u001b[1;33m.\u001b[0m\u001b[0mplot\u001b[0m\u001b[1;33m(\u001b[0m\u001b[0mdata\u001b[0m\u001b[1;33m,\u001b[0m \u001b[0mkind\u001b[0m\u001b[1;33m=\u001b[0m\u001b[0mkind\u001b[0m\u001b[1;33m,\u001b[0m \u001b[1;33m**\u001b[0m\u001b[0mkwargs\u001b[0m\u001b[1;33m)\u001b[0m\u001b[1;33m\u001b[0m\u001b[1;33m\u001b[0m\u001b[0m\n\u001b[0m\u001b[0;32m    848\u001b[0m \u001b[1;33m\u001b[0m\u001b[0m\n\u001b[0;32m    849\u001b[0m     \u001b[0m__call__\u001b[0m\u001b[1;33m.\u001b[0m\u001b[0m__doc__\u001b[0m \u001b[1;33m=\u001b[0m \u001b[0m__doc__\u001b[0m\u001b[1;33m\u001b[0m\u001b[1;33m\u001b[0m\u001b[0m\n",
      "\u001b[1;32m~\\AppData\\Roaming\\Python\\Python38\\site-packages\\pandas\\plotting\\_matplotlib\\__init__.py\u001b[0m in \u001b[0;36mplot\u001b[1;34m(data, kind, **kwargs)\u001b[0m\n\u001b[0;32m     59\u001b[0m             \u001b[0mkwargs\u001b[0m\u001b[1;33m[\u001b[0m\u001b[1;34m\"ax\"\u001b[0m\u001b[1;33m]\u001b[0m \u001b[1;33m=\u001b[0m \u001b[0mgetattr\u001b[0m\u001b[1;33m(\u001b[0m\u001b[0max\u001b[0m\u001b[1;33m,\u001b[0m \u001b[1;34m\"left_ax\"\u001b[0m\u001b[1;33m,\u001b[0m \u001b[0max\u001b[0m\u001b[1;33m)\u001b[0m\u001b[1;33m\u001b[0m\u001b[1;33m\u001b[0m\u001b[0m\n\u001b[0;32m     60\u001b[0m     \u001b[0mplot_obj\u001b[0m \u001b[1;33m=\u001b[0m \u001b[0mPLOT_CLASSES\u001b[0m\u001b[1;33m[\u001b[0m\u001b[0mkind\u001b[0m\u001b[1;33m]\u001b[0m\u001b[1;33m(\u001b[0m\u001b[0mdata\u001b[0m\u001b[1;33m,\u001b[0m \u001b[1;33m**\u001b[0m\u001b[0mkwargs\u001b[0m\u001b[1;33m)\u001b[0m\u001b[1;33m\u001b[0m\u001b[1;33m\u001b[0m\u001b[0m\n\u001b[1;32m---> 61\u001b[1;33m     \u001b[0mplot_obj\u001b[0m\u001b[1;33m.\u001b[0m\u001b[0mgenerate\u001b[0m\u001b[1;33m(\u001b[0m\u001b[1;33m)\u001b[0m\u001b[1;33m\u001b[0m\u001b[1;33m\u001b[0m\u001b[0m\n\u001b[0m\u001b[0;32m     62\u001b[0m     \u001b[0mplot_obj\u001b[0m\u001b[1;33m.\u001b[0m\u001b[0mdraw\u001b[0m\u001b[1;33m(\u001b[0m\u001b[1;33m)\u001b[0m\u001b[1;33m\u001b[0m\u001b[1;33m\u001b[0m\u001b[0m\n\u001b[0;32m     63\u001b[0m     \u001b[1;32mreturn\u001b[0m \u001b[0mplot_obj\u001b[0m\u001b[1;33m.\u001b[0m\u001b[0mresult\u001b[0m\u001b[1;33m\u001b[0m\u001b[1;33m\u001b[0m\u001b[0m\n",
      "\u001b[1;32m~\\AppData\\Roaming\\Python\\Python38\\site-packages\\pandas\\plotting\\_matplotlib\\core.py\u001b[0m in \u001b[0;36mgenerate\u001b[1;34m(self)\u001b[0m\n\u001b[0;32m    268\u001b[0m         \u001b[1;32mfor\u001b[0m \u001b[0max\u001b[0m \u001b[1;32min\u001b[0m \u001b[0mself\u001b[0m\u001b[1;33m.\u001b[0m\u001b[0maxes\u001b[0m\u001b[1;33m:\u001b[0m\u001b[1;33m\u001b[0m\u001b[1;33m\u001b[0m\u001b[0m\n\u001b[0;32m    269\u001b[0m             \u001b[0mself\u001b[0m\u001b[1;33m.\u001b[0m\u001b[0m_post_plot_logic_common\u001b[0m\u001b[1;33m(\u001b[0m\u001b[0max\u001b[0m\u001b[1;33m,\u001b[0m \u001b[0mself\u001b[0m\u001b[1;33m.\u001b[0m\u001b[0mdata\u001b[0m\u001b[1;33m)\u001b[0m\u001b[1;33m\u001b[0m\u001b[1;33m\u001b[0m\u001b[0m\n\u001b[1;32m--> 270\u001b[1;33m             \u001b[0mself\u001b[0m\u001b[1;33m.\u001b[0m\u001b[0m_post_plot_logic\u001b[0m\u001b[1;33m(\u001b[0m\u001b[0max\u001b[0m\u001b[1;33m,\u001b[0m \u001b[0mself\u001b[0m\u001b[1;33m.\u001b[0m\u001b[0mdata\u001b[0m\u001b[1;33m)\u001b[0m\u001b[1;33m\u001b[0m\u001b[1;33m\u001b[0m\u001b[0m\n\u001b[0m\u001b[0;32m    271\u001b[0m \u001b[1;33m\u001b[0m\u001b[0m\n\u001b[0;32m    272\u001b[0m     \u001b[1;32mdef\u001b[0m \u001b[0m_args_adjust\u001b[0m\u001b[1;33m(\u001b[0m\u001b[0mself\u001b[0m\u001b[1;33m)\u001b[0m\u001b[1;33m:\u001b[0m\u001b[1;33m\u001b[0m\u001b[1;33m\u001b[0m\u001b[0m\n",
      "\u001b[1;32m~\\AppData\\Roaming\\Python\\Python38\\site-packages\\pandas\\plotting\\_matplotlib\\core.py\u001b[0m in \u001b[0;36m_post_plot_logic\u001b[1;34m(self, ax, data)\u001b[0m\n\u001b[0;32m   1414\u001b[0m         \u001b[0mname\u001b[0m \u001b[1;33m=\u001b[0m \u001b[0mself\u001b[0m\u001b[1;33m.\u001b[0m\u001b[0m_get_index_name\u001b[0m\u001b[1;33m(\u001b[0m\u001b[1;33m)\u001b[0m\u001b[1;33m\u001b[0m\u001b[1;33m\u001b[0m\u001b[0m\n\u001b[0;32m   1415\u001b[0m \u001b[1;33m\u001b[0m\u001b[0m\n\u001b[1;32m-> 1416\u001b[1;33m         \u001b[0ms_edge\u001b[0m \u001b[1;33m=\u001b[0m \u001b[0mself\u001b[0m\u001b[1;33m.\u001b[0m\u001b[0max_pos\u001b[0m\u001b[1;33m[\u001b[0m\u001b[1;36m0\u001b[0m\u001b[1;33m]\u001b[0m \u001b[1;33m-\u001b[0m \u001b[1;36m0.25\u001b[0m \u001b[1;33m+\u001b[0m \u001b[0mself\u001b[0m\u001b[1;33m.\u001b[0m\u001b[0mlim_offset\u001b[0m\u001b[1;33m\u001b[0m\u001b[1;33m\u001b[0m\u001b[0m\n\u001b[0m\u001b[0;32m   1417\u001b[0m         \u001b[0me_edge\u001b[0m \u001b[1;33m=\u001b[0m \u001b[0mself\u001b[0m\u001b[1;33m.\u001b[0m\u001b[0max_pos\u001b[0m\u001b[1;33m[\u001b[0m\u001b[1;33m-\u001b[0m\u001b[1;36m1\u001b[0m\u001b[1;33m]\u001b[0m \u001b[1;33m+\u001b[0m \u001b[1;36m0.25\u001b[0m \u001b[1;33m+\u001b[0m \u001b[0mself\u001b[0m\u001b[1;33m.\u001b[0m\u001b[0mbar_width\u001b[0m \u001b[1;33m+\u001b[0m \u001b[0mself\u001b[0m\u001b[1;33m.\u001b[0m\u001b[0mlim_offset\u001b[0m\u001b[1;33m\u001b[0m\u001b[1;33m\u001b[0m\u001b[0m\n\u001b[0;32m   1418\u001b[0m \u001b[1;33m\u001b[0m\u001b[0m\n",
      "\u001b[1;31mIndexError\u001b[0m: index 0 is out of bounds for axis 0 with size 0"
     ]
    },
    {
     "data": {
      "image/png": "[encoded data removed]",
      "text/plain": [
       "<Figure size 432x288 with 1 Axes>"
      ]
     },
     "metadata": {},
     "output_type": "display_data"
    }
   ],
   "source": [
    "pd.Series(results_dict_DT).plot.bar()\n",
    "plt.title('Decision Tree')\n",
    "plt.ylabel('roc-auc')\n",
    "\n",
    "plt.show();"
   ]
  },
  {
   "cell_type": "markdown",
   "id": "0f652c37",
   "metadata": {},
   "source": [
    "b) Confusion Matrix"
   ]
  },
  {
   "cell_type": "code",
   "execution_count": null,
   "id": "cbe2d992",
   "metadata": {
    "scrolled": true
   },
   "outputs": [],
   "source": [
    "conf_matrix"
   ]
  },
  {
   "cell_type": "markdown",
   "id": "5bfa062c",
   "metadata": {},
   "source": [
    "c) False Negative Rate"
   ]
  },
  {
   "cell_type": "code",
   "execution_count": 15,
   "id": "ce64b5eb",
   "metadata": {
    "scrolled": true
   },
   "outputs": [
    {
     "data": {
      "text/plain": [
       "{}"
      ]
     },
     "execution_count": 15,
     "metadata": {},
     "output_type": "execute_result"
    }
   ],
   "source": [
    "FNR_dict_DT"
   ]
  },
  {
   "cell_type": "markdown",
   "id": "89eeb375",
   "metadata": {},
   "source": [
    "## 4.4 Support Vector Machine"
   ]
  },
  {
   "cell_type": "code",
   "execution_count": 16,
   "id": "dd9561ce",
   "metadata": {},
   "outputs": [
    {
     "name": "stdout",
     "output_type": "stream",
     "text": [
      "smenn\n",
      "Train set\n",
      "SVC: 0.9922949064683344\n",
      "Test set\n",
      "SVC: 0.5565610859728507\n",
      "\n",
      "smtomek\n",
      "Train set\n",
      "SVC: 0.9914540466392318\n",
      "Test set\n",
      "SVC: 0.5509049773755657\n",
      "\n",
      "\n"
     ]
    }
   ],
   "source": [
    "def run_SVC(X_train, X_test, y_train, y_test):\n",
    "    \n",
    "    clf_svc = SVC(probability = True, random_state = 42, kernel='rbf', gamma='scale', C=2)\n",
    "\n",
    "   \n",
    "    best_clf_svc = clf_svc.fit(X_train, y_train)\n",
    "    \n",
    "    print('Train set')\n",
    "    pred = best_clf_svc.predict_proba(X_train)\n",
    "    print('SVC: {}'.format(roc_auc_score(y_train, pred[:,1])))\n",
    "    \n",
    "    print('Test set')\n",
    "    pred = best_clf_svc.predict_proba(X_test)\n",
    "    print('SVC: {}'.format(roc_auc_score(y_test, pred[:,1])))\n",
    "    \n",
    "    #confusion matrix\n",
    "    cf_matrix = confusion_matrix(y_test, best_clf_svc.predict(X_test))\n",
    "    \n",
    "    #False Positive Rate (FPR) Vs False Negative Rate (FNR)\n",
    "    tn, fp, fn, tp = confusion_matrix(y_test, best_clf_svc.predict(X_test), labels=[0,1]).ravel()\n",
    "\n",
    "    FPR = fp / (tn + fp)\n",
    "\n",
    "    FNR = fn / (tp + fn)\n",
    "    \n",
    "    \n",
    "    \n",
    "    return roc_auc_score(y_test, pred[:, 1]), cf_matrix, FPR, FNR \n",
    "\n",
    "results_dict_SVC = {}\n",
    "shapes_dict_SVC  = {}\n",
    "conf_matrix_SVC  = {}\n",
    "FNR_dict_SVC = {}\n",
    "FPR_dict_SVC  = {}\n",
    "\n",
    "\n",
    "for combination in under_oversampler_dict.keys():\n",
    "    print(combination)\n",
    "    \n",
    "    #resample\n",
    "    X_resampled, y_resampled = under_oversampler_dict[combination].fit_resample(X_train, y_train)\n",
    "    \n",
    "    #evaluate performance\n",
    "    roc = run_SVC(X_resampled, X_test, y_resampled, y_test)\n",
    "    \n",
    "    \n",
    "    \n",
    "    #store results\n",
    "    results_dict_SVC [combination] = roc[0]\n",
    "    conf_matrix_SVC [combination] = roc[1]\n",
    "    FNR_dict_SVC [combination] = roc[3]\n",
    "    shapes_dict_SVC [combination] = len(X_resampled)  \n",
    "    print()\n",
    "    \n",
    "print()"
   ]
  },
  {
   "cell_type": "markdown",
   "id": "1f39267e",
   "metadata": {},
   "source": [
    "### Summary of results"
   ]
  },
  {
   "cell_type": "markdown",
   "id": "5bb4d676",
   "metadata": {},
   "source": [
    "a) Summary of all roc-auc scores dependeng of sampling method"
   ]
  },
  {
   "cell_type": "code",
   "execution_count": 17,
   "id": "18acda45",
   "metadata": {},
   "outputs": [
    {
     "data": {
      "image/png": "[encoded data removed]",
      "text/plain": [
       "<Figure size 432x288 with 1 Axes>"
      ]
     },
     "metadata": {},
     "output_type": "display_data"
    }
   ],
   "source": [
    "pd.Series(results_dict_SVC).plot.bar()\n",
    "plt.title('SVC')\n",
    "plt.ylabel('roc-auc')\n",
    "\n",
    "plt.show();"
   ]
  },
  {
   "cell_type": "markdown",
   "id": "b8e3f8cf",
   "metadata": {},
   "source": [
    "b) Confusion Matrix"
   ]
  },
  {
   "cell_type": "code",
   "execution_count": 18,
   "id": "63b9a677",
   "metadata": {
    "scrolled": true
   },
   "outputs": [
    {
     "data": {
      "text/plain": [
       "{'smenn': array([[63,  5],\n",
       "        [10,  3]], dtype=int64),\n",
       " 'smtomek': array([[62,  6],\n",
       "        [ 9,  4]], dtype=int64)}"
      ]
     },
     "execution_count": 18,
     "metadata": {},
     "output_type": "execute_result"
    }
   ],
   "source": [
    "conf_matrix_SVC"
   ]
  },
  {
   "cell_type": "markdown",
   "id": "09027b09",
   "metadata": {},
   "source": [
    "c) False Negative Rate"
   ]
  },
  {
   "cell_type": "code",
   "execution_count": 19,
   "id": "c83b124e",
   "metadata": {},
   "outputs": [
    {
     "data": {
      "text/plain": [
       "{'smenn': 0.7692307692307693, 'smtomek': 0.6923076923076923}"
      ]
     },
     "execution_count": 19,
     "metadata": {},
     "output_type": "execute_result"
    }
   ],
   "source": [
    "FNR_dict_SVC"
   ]
  },
  {
   "cell_type": "markdown",
   "id": "45853a31",
   "metadata": {},
   "source": [
    "## 4.5 RandomForest"
   ]
  },
  {
   "cell_type": "code",
   "execution_count": 20,
   "id": "a7126fc8",
   "metadata": {},
   "outputs": [
    {
     "name": "stdout",
     "output_type": "stream",
     "text": [
      "smenn\n",
      "Train set\n",
      "Random Forest roc-auc: 0.9530721771467208\n",
      "Test set\n",
      "Random Forest roc-auc: 0.6730769230769231\n",
      "\n",
      "smtomek\n",
      "Train set\n",
      "Random Forest roc-auc: 0.9591358024691358\n",
      "Test set\n",
      "Random Forest roc-auc: 0.6821266968325792\n",
      "\n",
      "\n"
     ]
    }
   ],
   "source": [
    "def run_RF(X_train, X_test, y_train, y_test):\n",
    "    \n",
    "    rf = RandomForestClassifier(n_estimators=100, random_state=42, max_depth=3)\n",
    "    best_clf_rf=rf.fit(X_train, y_train)\n",
    "    \n",
    "    \n",
    "    print('Train set')\n",
    "    pred = best_clf_rf.predict_proba(X_train)\n",
    "    print('Random Forest roc-auc: {}'.format(roc_auc_score(y_train, pred[:,1])))\n",
    "    \n",
    "    print('Test set')\n",
    "    pred = best_clf_rf.predict_proba(X_test)\n",
    "    print('Random Forest roc-auc: {}'.format(roc_auc_score(y_test, pred[:,1])))\n",
    "    \n",
    "    #confusion matrix\n",
    "    cf_matrix = confusion_matrix(y_test, best_clf_rf.predict(X_test))\n",
    "    \n",
    "    #False Positive Rate (FPR) Vs False Negative Rate (FNR)\n",
    "    tn, fp, fn, tp = confusion_matrix(y_test, best_clf_rf.predict(X_test), labels=[0,1]).ravel()\n",
    "\n",
    "    FPR = fp / (tn + fp)\n",
    "\n",
    "    FNR = fn / (tp + fn)\n",
    "    \n",
    "    return roc_auc_score(y_test, pred[:, 1]), cf_matrix, FPR, FNR\n",
    "\n",
    "\n",
    "results_dict_RF = {}\n",
    "shapes_dict_RF  = {}\n",
    "conf_matrix_RF  = {}\n",
    "FNR_dict_RF = {}\n",
    "FPR_dict_RF  = {}\n",
    "\n",
    "\n",
    "for combination in under_oversampler_dict.keys():\n",
    "    print(combination)\n",
    "    \n",
    "    #resample\n",
    "    X_resampled, y_resampled = under_oversampler_dict[combination].fit_resample(X_train, y_train)\n",
    "    \n",
    "    #evaluate performance\n",
    "    roc = run_RF(X_resampled, X_test, y_resampled, y_test)\n",
    "    \n",
    "    \n",
    "    \n",
    "    #store results\n",
    "    results_dict_RF[combination] = roc[0]\n",
    "    conf_matrix_RF [combination] = roc[1]\n",
    "    FNR_dict_RF [combination] = roc[3]\n",
    "    shapes_dict_RF [combination] = len(X_resampled)  \n",
    "    print()\n",
    "    \n",
    "print()"
   ]
  },
  {
   "cell_type": "markdown",
   "id": "867128b4",
   "metadata": {},
   "source": [
    "### Summary of results"
   ]
  },
  {
   "cell_type": "markdown",
   "id": "ad40d4d6",
   "metadata": {},
   "source": [
    "a) Summary of all roc-auc scores dependeng of sampling method"
   ]
  },
  {
   "cell_type": "code",
   "execution_count": 21,
   "id": "d7b32af0",
   "metadata": {},
   "outputs": [
    {
     "data": {
      "image/png": "[encoded data removed]",
      "text/plain": [
       "<Figure size 432x288 with 1 Axes>"
      ]
     },
     "metadata": {},
     "output_type": "display_data"
    }
   ],
   "source": [
    "pd.Series(results_dict_RF).plot.bar()\n",
    "plt.title('RandomForest')\n",
    "plt.ylabel('roc-auc')\n",
    "\n",
    "plt.show();"
   ]
  },
  {
   "cell_type": "markdown",
   "id": "4626dc73",
   "metadata": {},
   "source": [
    "b) Confusion Matrix"
   ]
  },
  {
   "cell_type": "code",
   "execution_count": 22,
   "id": "d5cb4c9e",
   "metadata": {
    "scrolled": true
   },
   "outputs": [
    {
     "data": {
      "text/plain": [
       "{'smenn': array([[55, 13],\n",
       "        [ 9,  4]], dtype=int64),\n",
       " 'smtomek': array([[51, 17],\n",
       "        [ 8,  5]], dtype=int64)}"
      ]
     },
     "execution_count": 22,
     "metadata": {},
     "output_type": "execute_result"
    }
   ],
   "source": [
    "conf_matrix_RF"
   ]
  },
  {
   "cell_type": "markdown",
   "id": "be90c5e3",
   "metadata": {},
   "source": [
    "c) False Negative Rate"
   ]
  },
  {
   "cell_type": "code",
   "execution_count": 23,
   "id": "6e4ffc72",
   "metadata": {},
   "outputs": [
    {
     "data": {
      "text/plain": [
       "{'smenn': 0.6923076923076923, 'smtomek': 0.6153846153846154}"
      ]
     },
     "execution_count": 23,
     "metadata": {},
     "output_type": "execute_result"
    }
   ],
   "source": [
    "FNR_dict_RF"
   ]
  },
  {
   "cell_type": "code",
   "execution_count": null,
   "id": "4cbcba1f",
   "metadata": {},
   "outputs": [],
   "source": []
  }
 ],
 "metadata": {
  "kernelspec": {
   "display_name": "Python 3",
   "language": "python",
   "name": "python3"
  },
  "language_info": {
   "codemirror_mode": {
    "name": "ipython",
    "version": 3
   },
   "file_extension": ".py",
   "mimetype": "text/x-python",
   "name": "python",
   "nbconvert_exporter": "python",
   "pygments_lexer": "ipython3",
   "version": "3.8.8"
  }
 },
 "nbformat": 4,
 "nbformat_minor": 5
}
