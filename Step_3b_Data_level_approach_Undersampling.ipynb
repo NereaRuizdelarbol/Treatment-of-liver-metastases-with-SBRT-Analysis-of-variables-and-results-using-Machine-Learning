{
 "cells": [
  {
   "cell_type": "markdown",
   "id": "791a5f6f",
   "metadata": {},
   "source": [
    "# Step_3b_Data_level_approach_Undersampling"
   ]
  },
  {
   "cell_type": "markdown",
   "id": "47ef9315",
   "metadata": {},
   "source": [
    "**In this notebook we will apply simple classification models after oversampling the minority class**"
   ]
  },
  {
   "cell_type": "markdown",
   "id": "a4c0bef3",
   "metadata": {},
   "source": [
    "As we conclude in the notebook :metrics, we will use the roc-auc metric to evaluate the performance of the models and we will analyze the false negative ratio which is what we are interested in minimizing."
   ]
  },
  {
   "cell_type": "markdown",
   "id": "09797056",
   "metadata": {},
   "source": [
    "# CONTENT"
   ]
  },
  {
   "cell_type": "markdown",
   "id": "b8f58259",
   "metadata": {},
   "source": [
    "    1. Import Libraries\n",
    "    2. Load data\n",
    "    3. Undersampling methods\n",
    "    4. Modeling\n",
    "        4.1 Logistic Regression\n",
    "        4.2 k-Nearest Neighbors\n",
    "        4.3 Decision Trees\n",
    "        4.4 Support Vector Machine\n",
    "        4.5 Random Forest\n",
    "    5. Summary and conclusions"
   ]
  },
  {
   "cell_type": "markdown",
   "id": "2a173f78",
   "metadata": {},
   "source": [
    "# 1. Import Libraries"
   ]
  },
  {
   "cell_type": "code",
   "execution_count": 4,
   "id": "22606486",
   "metadata": {},
   "outputs": [
    {
     "data": {
      "text/html": [
       "<style>.container { width:100% !important; }</style>"
      ],
      "text/plain": [
       "<IPython.core.display.HTML object>"
      ]
     },
     "metadata": {},
     "output_type": "display_data"
    }
   ],
   "source": [
    "import pandas as pd\n",
    "import numpy as np\n",
    "\n",
    "\n",
    "#show cells with width as long as screen\n",
    "from IPython.core.display import display, HTML\n",
    "display(HTML(\"<style>.container { width:100% !important; }</style>\"))\n",
    "#Hide warnings\n",
    "import warnings\n",
    "warnings.filterwarnings('ignore')\n",
    "\n",
    "import matplotlib.pyplot as plt\n",
    "import seaborn as sns\n",
    "plt.style.use('ggplot')\n",
    "pd.options.display.max_columns = None\n",
    "\n",
    "\n",
    "#Undersampling methods\n",
    "from imblearn.under_sampling import RandomUnderSampler, CondensedNearestNeighbour, TomekLinks,\\\n",
    "OneSidedSelection, EditedNearestNeighbours, RepeatedEditedNearestNeighbours, AllKNN, \\\n",
    "NeighbourhoodCleaningRule, NearMiss, InstanceHardnessThreshold\n",
    "\n",
    "#Classification algorithms\n",
    "from sklearn.linear_model import LogisticRegression\n",
    "from sklearn.tree import DecisionTreeClassifier\n",
    "from sklearn.svm import SVC\n",
    "from sklearn.neighbors import KNeighborsClassifier\n",
    "from sklearn.ensemble import (\n",
    "    RandomForestClassifier,\n",
    "    BaggingClassifier,\n",
    "    AdaBoostClassifier, GradientBoostingClassifier, ExtraTreesClassifier\n",
    ")\n",
    "\n",
    "#metric\n",
    "from sklearn.metrics import roc_auc_score, plot_roc_curve, precision_recall_curve, accuracy_score, recall_score, f1_score\n",
    "from sklearn.metrics import classification_report, confusion_matrix\n",
    "\n",
    "from sklearn.model_selection import GridSearchCV, RepeatedStratifiedKFold\n",
    "from sklearn.model_selection import cross_val_score\n"
   ]
  },
  {
   "cell_type": "markdown",
   "id": "83106d26",
   "metadata": {},
   "source": [
    "# 2. Load data"
   ]
  },
  {
   "cell_type": "markdown",
   "id": "591fdd69",
   "metadata": {},
   "source": [
    "This data has been generated in the notebook: step_2_Preprocessing_data"
   ]
  },
  {
   "cell_type": "code",
   "execution_count": 5,
   "id": "18ad1367",
   "metadata": {},
   "outputs": [],
   "source": [
    "X_train = pd.read_excel('X_train_step_2.xlsx', engine='openpyxl')\n",
    "X_test =  pd.read_excel('X_test_step_2.xlsx', engine='openpyxl')\n",
    "y_train = pd.read_excel('y_train_step_2.xlsx', engine='openpyxl')\n",
    "y_test = pd.read_excel('y_test_step_2.xlsx', engine='openpyxl')"
   ]
  },
  {
   "cell_type": "code",
   "execution_count": 6,
   "id": "b0cfe9e8",
   "metadata": {},
   "outputs": [
    {
     "data": {
      "text/html": [
       "<div>\n",
       "<style scoped>\n",
       "    .dataframe tbody tr th:only-of-type {\n",
       "        vertical-align: middle;\n",
       "    }\n",
       "\n",
       "    .dataframe tbody tr th {\n",
       "        vertical-align: top;\n",
       "    }\n",
       "\n",
       "    .dataframe thead th {\n",
       "        text-align: right;\n",
       "    }\n",
       "</style>\n",
       "<table border=\"1\" class=\"dataframe\">\n",
       "  <thead>\n",
       "    <tr style=\"text-align: right;\">\n",
       "      <th></th>\n",
       "      <th>0</th>\n",
       "      <th>1</th>\n",
       "      <th>2</th>\n",
       "      <th>3</th>\n",
       "      <th>4</th>\n",
       "      <th>5</th>\n",
       "      <th>6</th>\n",
       "      <th>7</th>\n",
       "      <th>8</th>\n",
       "      <th>9</th>\n",
       "      <th>10</th>\n",
       "      <th>11</th>\n",
       "      <th>12</th>\n",
       "      <th>13</th>\n",
       "      <th>14</th>\n",
       "      <th>15</th>\n",
       "      <th>16</th>\n",
       "      <th>17</th>\n",
       "      <th>18</th>\n",
       "      <th>19</th>\n",
       "      <th>20</th>\n",
       "      <th>21</th>\n",
       "      <th>22</th>\n",
       "      <th>23</th>\n",
       "      <th>24</th>\n",
       "      <th>25</th>\n",
       "      <th>26</th>\n",
       "      <th>27</th>\n",
       "      <th>28</th>\n",
       "      <th>29</th>\n",
       "      <th>30</th>\n",
       "      <th>31</th>\n",
       "      <th>32</th>\n",
       "      <th>33</th>\n",
       "      <th>34</th>\n",
       "      <th>35</th>\n",
       "      <th>36</th>\n",
       "      <th>37</th>\n",
       "      <th>38</th>\n",
       "      <th>39</th>\n",
       "      <th>40</th>\n",
       "      <th>41</th>\n",
       "      <th>42</th>\n",
       "      <th>43</th>\n",
       "      <th>44</th>\n",
       "    </tr>\n",
       "  </thead>\n",
       "  <tbody>\n",
       "    <tr>\n",
       "      <th>0</th>\n",
       "      <td>0.055556</td>\n",
       "      <td>-0.333333</td>\n",
       "      <td>-0.333333</td>\n",
       "      <td>-0.304304</td>\n",
       "      <td>1.100488</td>\n",
       "      <td>0</td>\n",
       "      <td>0.800</td>\n",
       "      <td>1.572254</td>\n",
       "      <td>2.280255</td>\n",
       "      <td>0.149140</td>\n",
       "      <td>0</td>\n",
       "      <td>0</td>\n",
       "      <td>1</td>\n",
       "      <td>0</td>\n",
       "      <td>1</td>\n",
       "      <td>0</td>\n",
       "      <td>0</td>\n",
       "      <td>0</td>\n",
       "      <td>0</td>\n",
       "      <td>0</td>\n",
       "      <td>1</td>\n",
       "      <td>0</td>\n",
       "      <td>0</td>\n",
       "      <td>0</td>\n",
       "      <td>0</td>\n",
       "      <td>1</td>\n",
       "      <td>0</td>\n",
       "      <td>1</td>\n",
       "      <td>0</td>\n",
       "      <td>1</td>\n",
       "      <td>0</td>\n",
       "      <td>1</td>\n",
       "      <td>0</td>\n",
       "      <td>0</td>\n",
       "      <td>0</td>\n",
       "      <td>0</td>\n",
       "      <td>1</td>\n",
       "      <td>0</td>\n",
       "      <td>0</td>\n",
       "      <td>0</td>\n",
       "      <td>0</td>\n",
       "      <td>0</td>\n",
       "      <td>1</td>\n",
       "      <td>0</td>\n",
       "      <td>0</td>\n",
       "    </tr>\n",
       "    <tr>\n",
       "      <th>1</th>\n",
       "      <td>0.444444</td>\n",
       "      <td>-0.333333</td>\n",
       "      <td>-0.333333</td>\n",
       "      <td>3.433433</td>\n",
       "      <td>0.872195</td>\n",
       "      <td>2</td>\n",
       "      <td>2.592</td>\n",
       "      <td>0.254335</td>\n",
       "      <td>-0.394904</td>\n",
       "      <td>-0.187380</td>\n",
       "      <td>0</td>\n",
       "      <td>0</td>\n",
       "      <td>1</td>\n",
       "      <td>1</td>\n",
       "      <td>0</td>\n",
       "      <td>1</td>\n",
       "      <td>0</td>\n",
       "      <td>0</td>\n",
       "      <td>0</td>\n",
       "      <td>0</td>\n",
       "      <td>0</td>\n",
       "      <td>0</td>\n",
       "      <td>0</td>\n",
       "      <td>0</td>\n",
       "      <td>0</td>\n",
       "      <td>1</td>\n",
       "      <td>0</td>\n",
       "      <td>1</td>\n",
       "      <td>0</td>\n",
       "      <td>1</td>\n",
       "      <td>0</td>\n",
       "      <td>1</td>\n",
       "      <td>0</td>\n",
       "      <td>0</td>\n",
       "      <td>0</td>\n",
       "      <td>0</td>\n",
       "      <td>1</td>\n",
       "      <td>0</td>\n",
       "      <td>0</td>\n",
       "      <td>0</td>\n",
       "      <td>0</td>\n",
       "      <td>1</td>\n",
       "      <td>0</td>\n",
       "      <td>0</td>\n",
       "      <td>0</td>\n",
       "    </tr>\n",
       "    <tr>\n",
       "      <th>2</th>\n",
       "      <td>0.444444</td>\n",
       "      <td>-0.333333</td>\n",
       "      <td>-0.333333</td>\n",
       "      <td>3.527528</td>\n",
       "      <td>0.872195</td>\n",
       "      <td>2</td>\n",
       "      <td>2.880</td>\n",
       "      <td>0.531792</td>\n",
       "      <td>-0.318471</td>\n",
       "      <td>-0.447419</td>\n",
       "      <td>0</td>\n",
       "      <td>0</td>\n",
       "      <td>1</td>\n",
       "      <td>0</td>\n",
       "      <td>1</td>\n",
       "      <td>1</td>\n",
       "      <td>0</td>\n",
       "      <td>0</td>\n",
       "      <td>0</td>\n",
       "      <td>0</td>\n",
       "      <td>0</td>\n",
       "      <td>0</td>\n",
       "      <td>0</td>\n",
       "      <td>0</td>\n",
       "      <td>0</td>\n",
       "      <td>1</td>\n",
       "      <td>0</td>\n",
       "      <td>1</td>\n",
       "      <td>0</td>\n",
       "      <td>1</td>\n",
       "      <td>0</td>\n",
       "      <td>1</td>\n",
       "      <td>0</td>\n",
       "      <td>0</td>\n",
       "      <td>0</td>\n",
       "      <td>0</td>\n",
       "      <td>1</td>\n",
       "      <td>0</td>\n",
       "      <td>0</td>\n",
       "      <td>0</td>\n",
       "      <td>0</td>\n",
       "      <td>1</td>\n",
       "      <td>0</td>\n",
       "      <td>0</td>\n",
       "      <td>0</td>\n",
       "    </tr>\n",
       "    <tr>\n",
       "      <th>3</th>\n",
       "      <td>0.611111</td>\n",
       "      <td>-0.333333</td>\n",
       "      <td>-0.333333</td>\n",
       "      <td>0.246246</td>\n",
       "      <td>-0.103415</td>\n",
       "      <td>1</td>\n",
       "      <td>-0.320</td>\n",
       "      <td>-1.040462</td>\n",
       "      <td>-0.802548</td>\n",
       "      <td>0.488209</td>\n",
       "      <td>0</td>\n",
       "      <td>0</td>\n",
       "      <td>1</td>\n",
       "      <td>1</td>\n",
       "      <td>0</td>\n",
       "      <td>1</td>\n",
       "      <td>0</td>\n",
       "      <td>0</td>\n",
       "      <td>0</td>\n",
       "      <td>0</td>\n",
       "      <td>0</td>\n",
       "      <td>0</td>\n",
       "      <td>0</td>\n",
       "      <td>0</td>\n",
       "      <td>0</td>\n",
       "      <td>1</td>\n",
       "      <td>0</td>\n",
       "      <td>1</td>\n",
       "      <td>0</td>\n",
       "      <td>1</td>\n",
       "      <td>0</td>\n",
       "      <td>1</td>\n",
       "      <td>0</td>\n",
       "      <td>0</td>\n",
       "      <td>0</td>\n",
       "      <td>0</td>\n",
       "      <td>1</td>\n",
       "      <td>0</td>\n",
       "      <td>0</td>\n",
       "      <td>0</td>\n",
       "      <td>0</td>\n",
       "      <td>0</td>\n",
       "      <td>0</td>\n",
       "      <td>1</td>\n",
       "      <td>0</td>\n",
       "    </tr>\n",
       "    <tr>\n",
       "      <th>4</th>\n",
       "      <td>0.333333</td>\n",
       "      <td>0.166667</td>\n",
       "      <td>-0.333333</td>\n",
       "      <td>0.568569</td>\n",
       "      <td>-0.103415</td>\n",
       "      <td>1</td>\n",
       "      <td>0.448</td>\n",
       "      <td>1.618497</td>\n",
       "      <td>0.929936</td>\n",
       "      <td>0.115997</td>\n",
       "      <td>0</td>\n",
       "      <td>0</td>\n",
       "      <td>1</td>\n",
       "      <td>1</td>\n",
       "      <td>0</td>\n",
       "      <td>1</td>\n",
       "      <td>0</td>\n",
       "      <td>0</td>\n",
       "      <td>0</td>\n",
       "      <td>0</td>\n",
       "      <td>0</td>\n",
       "      <td>0</td>\n",
       "      <td>0</td>\n",
       "      <td>0</td>\n",
       "      <td>0</td>\n",
       "      <td>1</td>\n",
       "      <td>0</td>\n",
       "      <td>1</td>\n",
       "      <td>0</td>\n",
       "      <td>1</td>\n",
       "      <td>0</td>\n",
       "      <td>1</td>\n",
       "      <td>0</td>\n",
       "      <td>0</td>\n",
       "      <td>0</td>\n",
       "      <td>0</td>\n",
       "      <td>1</td>\n",
       "      <td>1</td>\n",
       "      <td>0</td>\n",
       "      <td>0</td>\n",
       "      <td>0</td>\n",
       "      <td>0</td>\n",
       "      <td>0</td>\n",
       "      <td>0</td>\n",
       "      <td>0</td>\n",
       "    </tr>\n",
       "  </tbody>\n",
       "</table>\n",
       "</div>"
      ],
      "text/plain": [
       "         0         1         2         3         4   5      6         7   \\\n",
       "0  0.055556 -0.333333 -0.333333 -0.304304  1.100488   0  0.800  1.572254   \n",
       "1  0.444444 -0.333333 -0.333333  3.433433  0.872195   2  2.592  0.254335   \n",
       "2  0.444444 -0.333333 -0.333333  3.527528  0.872195   2  2.880  0.531792   \n",
       "3  0.611111 -0.333333 -0.333333  0.246246 -0.103415   1 -0.320 -1.040462   \n",
       "4  0.333333  0.166667 -0.333333  0.568569 -0.103415   1  0.448  1.618497   \n",
       "\n",
       "         8         9   10  11  12  13  14  15  16  17  18  19  20  21  22  23  \\\n",
       "0  2.280255  0.149140   0   0   1   0   1   0   0   0   0   0   1   0   0   0   \n",
       "1 -0.394904 -0.187380   0   0   1   1   0   1   0   0   0   0   0   0   0   0   \n",
       "2 -0.318471 -0.447419   0   0   1   0   1   1   0   0   0   0   0   0   0   0   \n",
       "3 -0.802548  0.488209   0   0   1   1   0   1   0   0   0   0   0   0   0   0   \n",
       "4  0.929936  0.115997   0   0   1   1   0   1   0   0   0   0   0   0   0   0   \n",
       "\n",
       "   24  25  26  27  28  29  30  31  32  33  34  35  36  37  38  39  40  41  42  \\\n",
       "0   0   1   0   1   0   1   0   1   0   0   0   0   1   0   0   0   0   0   1   \n",
       "1   0   1   0   1   0   1   0   1   0   0   0   0   1   0   0   0   0   1   0   \n",
       "2   0   1   0   1   0   1   0   1   0   0   0   0   1   0   0   0   0   1   0   \n",
       "3   0   1   0   1   0   1   0   1   0   0   0   0   1   0   0   0   0   0   0   \n",
       "4   0   1   0   1   0   1   0   1   0   0   0   0   1   1   0   0   0   0   0   \n",
       "\n",
       "   43  44  \n",
       "0   0   0  \n",
       "1   0   0  \n",
       "2   0   0  \n",
       "3   1   0  \n",
       "4   0   0  "
      ]
     },
     "execution_count": 6,
     "metadata": {},
     "output_type": "execute_result"
    }
   ],
   "source": [
    "X_train.head()"
   ]
  },
  {
   "cell_type": "markdown",
   "id": "21e9cc3d",
   "metadata": {},
   "source": [
    "# 3. Undersampling methods"
   ]
  },
  {
   "cell_type": "markdown",
   "id": "2577af2d",
   "metadata": {},
   "source": [
    "In order to use the different undersampling techniques we group it in a dictionary (To understand how each technique works you can go to the notebook: step_2 where the final size and distribution after applying the different techniques are shown)"
   ]
  },
  {
   "cell_type": "code",
   "execution_count": 60,
   "id": "6b1fd417",
   "metadata": {},
   "outputs": [],
   "source": [
    "undersampler_dict = {\n",
    "    'Random Undersampling' : RandomUnderSampler(\n",
    "    sampling_strategy='auto',\n",
    "    random_state=42,\n",
    "    replacement=True),\n",
    "    \n",
    "    'Condensed Nearest Neighbours(cnn)' :  CondensedNearestNeighbour(\n",
    "        sampling_strategy='auto', \n",
    "        random_state=42,\n",
    "        n_neighbors=1,\n",
    "        n_jobs=-1),\n",
    "    \n",
    "    'TOMEK LINKS(tomek)' : TomekLinks(\n",
    "        sampling_strategy='auto', \n",
    "        n_jobs=-1),\n",
    "    \n",
    "    'One Slide Selection(oss)' : OneSidedSelection(\n",
    "        sampling_strategy='auto',\n",
    "        random_state= 42,\n",
    "        n_neighbors=1,\n",
    "        n_jobs=-1),\n",
    "    \n",
    "    'Edited Nearest Neighbours(enn)' : EditedNearestNeighbours(\n",
    "        sampling_strategy='auto', \n",
    "        n_neighbors=3,\n",
    "        kind_sel='all', \n",
    "        n_jobs=-1),\n",
    "    \n",
    "    'Repeated Edited Nearest Neighbours(renn)': RepeatedEditedNearestNeighbours(\n",
    "        sampling_strategy='auto', \n",
    "        n_neighbors=3,\n",
    "        kind_sel='all', \n",
    "        n_jobs=-1,\n",
    "        max_iter=100),\n",
    "    \n",
    "    'All K Nearest Neighbours(allknn)' : AllKNN(\n",
    "        sampling_strategy='auto', \n",
    "        n_neighbors=3,\n",
    "        kind_sel='all', \n",
    "        n_jobs=-1),\n",
    "    \n",
    "    'Neighbourhood Cleaning rule(ncr)' :  NeighbourhoodCleaningRule(\n",
    "        sampling_strategy='auto',\n",
    "        n_neighbors=3,\n",
    "        kind_sel='all', \n",
    "        n_jobs=-1,\n",
    "        threshold_cleaning=0.5),\n",
    "    \n",
    "    'NearMiss(nm1)' : NearMiss(\n",
    "        sampling_strategy='auto', \n",
    "        version=1,\n",
    "        n_neighbors=3, \n",
    "        n_jobs=-1),\n",
    "    \n",
    "    'NearMiss(nm2)':  NearMiss(\n",
    "        sampling_strategy='auto', \n",
    "        version=2,\n",
    "        n_neighbors=3, \n",
    "        n_jobs=-1),\n",
    "    \n",
    "    'NearMiss(nm3)' :  NearMiss(\n",
    "        sampling_strategy='auto', \n",
    "        version=3,\n",
    "        n_neighbors=3, \n",
    "        n_jobs=-1),\n",
    "    \n",
    "    'Instance Hardness Threshold(iht)' : InstanceHardnessThreshold(\n",
    "        estimator=LogisticRegression(random_state=42),\n",
    "        sampling_strategy='auto',\n",
    "        random_state=42,\n",
    "        n_jobs=-1,\n",
    "        cv = 3)\n",
    "}"
   ]
  },
  {
   "cell_type": "markdown",
   "id": "d78413a8",
   "metadata": {},
   "source": [
    "# 4. Modeling"
   ]
  },
  {
   "cell_type": "markdown",
   "id": "96d6438e",
   "metadata": {},
   "source": [
    "## 4.1 Logistic Regression"
   ]
  },
  {
   "cell_type": "code",
   "execution_count": 61,
   "id": "480fba57",
   "metadata": {},
   "outputs": [],
   "source": [
    "def run_LogisticRegression(X_train, X_test, y_train, y_test):\n",
    "    \n",
    "    model = LogisticRegression(random_state=42)\n",
    "    solvers = ['newton-cg', 'lbfgs', 'liblinear']\n",
    "    penalty = ['l2','l1']\n",
    "    c_values = [0.1, 1, 10, 100]\n",
    "    # define grid search\n",
    "    grid = dict(solver=solvers,penalty=penalty,C=c_values)\n",
    "    \n",
    "    grid_search = GridSearchCV(estimator=model, param_grid=grid, n_jobs=-1, cv=3, scoring='roc_auc')\n",
    "    grid_result = grid_search.fit(X_train, y_train)\n",
    "    # summarize results\n",
    "    print(\"Best: %f using %s\" % (grid_result.best_score_, grid_result.best_params_))\n",
    "    \n",
    "\n",
    "    print('Train set')\n",
    "    pred = grid_result.predict_proba(X_train)\n",
    "    print('Logistic Regression roc-auc: {}'.format(roc_auc_score(y_train, pred[:,1])))\n",
    "    \n",
    "    print('Test set')\n",
    "    pred = grid_result.predict_proba(X_test)\n",
    "    print('Logistic Regression roc-auc: {}'.format(roc_auc_score(y_test, pred[:,1])))\n",
    "    \n",
    "    \n",
    "    #confusion matrix\n",
    "    cf_matrix = confusion_matrix(y_test, grid_result.predict(X_test))\n",
    "    \n",
    "    #False Positive Rate (FPR) Vs False Negative Rate (FNR)\n",
    "    \n",
    "    tn, fp, fn, tp = confusion_matrix(y_test, grid_result.predict(X_test), labels=[0,1]).ravel()\n",
    "\n",
    "    FPR = fp / (tn + fp)\n",
    "\n",
    "    FNR = fn / (tp + fn)\n",
    "    \n",
    "    \n",
    "    \n",
    "    return roc_auc_score(y_test, pred[:, 1]), cf_matrix, FPR, FNR\n"
   ]
  },
  {
   "cell_type": "code",
   "execution_count": 62,
   "id": "439c9acb",
   "metadata": {
    "scrolled": true
   },
   "outputs": [
    {
     "name": "stdout",
     "output_type": "stream",
     "text": [
      "random\n",
      "Best: 0.548090 using {'C': 0.1, 'penalty': 'l1', 'solver': 'liblinear'}\n",
      "Train set\n",
      "Logistic Regression roc-auc: 0.5295857988165681\n",
      "Test set\n",
      "Logistic Regression roc-auc: 0.49321266968325794\n",
      "\n",
      "cnn\n",
      "Best: 0.451481 using {'C': 0.1, 'penalty': 'l1', 'solver': 'liblinear'}\n",
      "Train set\n",
      "Logistic Regression roc-auc: 0.5258974358974359\n",
      "Test set\n",
      "Logistic Regression roc-auc: 0.46153846153846156\n",
      "\n",
      "tomek\n",
      "Best: 0.591052 using {'C': 0.1, 'penalty': 'l1', 'solver': 'liblinear'}\n",
      "Train set\n",
      "Logistic Regression roc-auc: 0.6815954957589938\n",
      "Test set\n",
      "Logistic Regression roc-auc: 0.581447963800905\n",
      "\n",
      "oss\n",
      "Best: 0.590591 using {'C': 0.1, 'penalty': 'l1', 'solver': 'liblinear'}\n",
      "Train set\n",
      "Logistic Regression roc-auc: 0.6849482248520709\n",
      "Test set\n",
      "Logistic Regression roc-auc: 0.579185520361991\n",
      "\n",
      "enn\n",
      "Best: 0.646482 using {'C': 0.1, 'penalty': 'l1', 'solver': 'liblinear'}\n",
      "Train set\n",
      "Logistic Regression roc-auc: 0.7404788838612368\n",
      "Test set\n",
      "Logistic Regression roc-auc: 0.5995475113122172\n",
      "\n",
      "renn\n",
      "Best: 0.719373 using {'C': 0.1, 'penalty': 'l1', 'solver': 'liblinear'}\n",
      "Train set\n",
      "Logistic Regression roc-auc: 0.823929064947029\n",
      "Test set\n",
      "Logistic Regression roc-auc: 0.6312217194570137\n",
      "\n",
      "allknn\n",
      "Best: 0.687188 using {'C': 0.1, 'penalty': 'l1', 'solver': 'liblinear'}\n",
      "Train set\n",
      "Logistic Regression roc-auc: 0.766645988420182\n",
      "Test set\n",
      "Logistic Regression roc-auc: 0.6018099547511313\n",
      "\n",
      "ncr\n",
      "Best: 0.649392 using {'C': 0.1, 'penalty': 'l1', 'solver': 'liblinear'}\n",
      "Train set\n",
      "Logistic Regression roc-auc: 0.7216346153846154\n",
      "Test set\n",
      "Logistic Regression roc-auc: 0.6221719457013575\n",
      "\n",
      "nm1\n",
      "Best: 0.591984 using {'C': 0.1, 'penalty': 'l1', 'solver': 'liblinear'}\n",
      "Train set\n",
      "Logistic Regression roc-auc: 0.6017011834319526\n",
      "Test set\n",
      "Logistic Regression roc-auc: 0.49321266968325794\n",
      "\n",
      "nm2\n",
      "Best: 0.688966 using {'C': 0.1, 'penalty': 'l1', 'solver': 'liblinear'}\n",
      "Train set\n",
      "Logistic Regression roc-auc: 0.7953032544378698\n",
      "Test set\n",
      "Logistic Regression roc-auc: 0.5938914027149322\n",
      "\n",
      "nm3\n",
      "Best: 0.412854 using {'C': 100, 'penalty': 'l1', 'solver': 'liblinear'}\n",
      "Train set\n",
      "Logistic Regression roc-auc: 0.8901627218934911\n",
      "Test set\n",
      "Logistic Regression roc-auc: 0.38687782805429866\n",
      "\n",
      "iht\n",
      "Best: 0.950276 using {'C': 1, 'penalty': 'l2', 'solver': 'liblinear'}\n",
      "Train set\n",
      "Logistic Regression roc-auc: 1.0\n",
      "Test set\n",
      "Logistic Regression roc-auc: 0.5916289592760181\n",
      "\n",
      "\n"
     ]
    }
   ],
   "source": [
    "results_dict_LG1 = {}\n",
    "shapes_dict_LG1  = {}\n",
    "conf_matrix_LG1  = {}\n",
    "FNR_dict_LG1  = {}\n",
    "FPR_dict_LG1  = {}\n",
    "\n",
    "\n",
    "for undersampler in undersampler_dict.keys():\n",
    "    print(undersampler)\n",
    "    \n",
    "    #resample\n",
    "    X_resampled, y_resampled = undersampler_dict[undersampler].fit_resample(X_train, y_train)\n",
    "    \n",
    "    #evaluate performance\n",
    "    roc = run_LogisticRegression(X_resampled, X_test, y_resampled, y_test)\n",
    "    \n",
    "    \n",
    "    \n",
    "    #store results\n",
    "    results_dict_LG1 [undersampler] = roc[0]\n",
    "    conf_matrix_LG1 [undersampler] = roc[1]\n",
    "    FPR_dict_LG1 [undersampler] = roc[2]\n",
    "    FNR_dict_LG1 [undersampler] = roc[3]\n",
    "    shapes_dict_LG1 [undersampler] = len(X_resampled)  \n",
    "    print()\n",
    "    \n",
    "print()"
   ]
  },
  {
   "cell_type": "markdown",
   "id": "b2b785d9",
   "metadata": {},
   "source": [
    "### **Summary of results**"
   ]
  },
  {
   "cell_type": "markdown",
   "id": "f9634e35",
   "metadata": {},
   "source": [
    "a) summary of all roc-auc scores dependeng of sampling method"
   ]
  },
  {
   "cell_type": "code",
   "execution_count": 63,
   "id": "84e3403c",
   "metadata": {},
   "outputs": [
    {
     "data": {
      "image/png": "[encoded data removed]",
      "text/plain": [
       "<Figure size 432x288 with 1 Axes>"
      ]
     },
     "metadata": {},
     "output_type": "display_data"
    }
   ],
   "source": [
    "pd.Series(results_dict_LG1).plot.bar()\n",
    "plt.title('Logistic Regression')\n",
    "plt.ylabel('roc-auc')\n",
    "\n",
    "plt.show();"
   ]
  },
  {
   "cell_type": "markdown",
   "id": "b532876f",
   "metadata": {},
   "source": [
    "b) Confusion Matrix"
   ]
  },
  {
   "cell_type": "code",
   "execution_count": 64,
   "id": "49f9d2e9",
   "metadata": {
    "scrolled": true
   },
   "outputs": [
    {
     "data": {
      "text/plain": [
       "{'random': array([[39, 29],\n",
       "        [ 8,  5]], dtype=int64),\n",
       " 'cnn': array([[66,  2],\n",
       "        [13,  0]], dtype=int64),\n",
       " 'tomek': array([[68,  0],\n",
       "        [13,  0]], dtype=int64),\n",
       " 'oss': array([[68,  0],\n",
       "        [13,  0]], dtype=int64),\n",
       " 'enn': array([[68,  0],\n",
       "        [13,  0]], dtype=int64),\n",
       " 'renn': array([[62,  6],\n",
       "        [12,  1]], dtype=int64),\n",
       " 'allknn': array([[68,  0],\n",
       "        [13,  0]], dtype=int64),\n",
       " 'ncr': array([[68,  0],\n",
       "        [13,  0]], dtype=int64),\n",
       " 'nm1': array([[39, 29],\n",
       "        [ 8,  5]], dtype=int64),\n",
       " 'nm2': array([[45, 23],\n",
       "        [ 7,  6]], dtype=int64),\n",
       " 'nm3': array([[30, 38],\n",
       "        [ 7,  6]], dtype=int64),\n",
       " 'iht': array([[24, 44],\n",
       "        [ 2, 11]], dtype=int64)}"
      ]
     },
     "execution_count": 64,
     "metadata": {},
     "output_type": "execute_result"
    }
   ],
   "source": [
    "conf_matrix_LG1"
   ]
  },
  {
   "cell_type": "markdown",
   "id": "68ea3d48",
   "metadata": {},
   "source": [
    "c) False Negative Rate"
   ]
  },
  {
   "cell_type": "code",
   "execution_count": 65,
   "id": "44f73e13",
   "metadata": {
    "scrolled": true
   },
   "outputs": [
    {
     "data": {
      "text/plain": [
       "{'random': 0.6153846153846154,\n",
       " 'cnn': 1.0,\n",
       " 'tomek': 1.0,\n",
       " 'oss': 1.0,\n",
       " 'enn': 1.0,\n",
       " 'renn': 0.9230769230769231,\n",
       " 'allknn': 1.0,\n",
       " 'ncr': 1.0,\n",
       " 'nm1': 0.6153846153846154,\n",
       " 'nm2': 0.5384615384615384,\n",
       " 'nm3': 0.5384615384615384,\n",
       " 'iht': 0.15384615384615385}"
      ]
     },
     "execution_count": 65,
     "metadata": {},
     "output_type": "execute_result"
    }
   ],
   "source": [
    "FNR_dict_LG1"
   ]
  },
  {
   "cell_type": "markdown",
   "id": "7511f916",
   "metadata": {},
   "source": [
    "When we apply undersampling techniques we do not have the problem of overfitting. However for this model the performance is not good nor the FNR values is not good and neither are the FNR values except for the iht technique."
   ]
  },
  {
   "cell_type": "markdown",
   "id": "66318b68",
   "metadata": {},
   "source": [
    "## 4.2 k-Nearest Neighbors"
   ]
  },
  {
   "cell_type": "code",
   "execution_count": 66,
   "id": "2c8c161e",
   "metadata": {},
   "outputs": [],
   "source": [
    "def run_KNN_1(X_train, X_test, y_train, y_test):\n",
    "    \n",
    "    '''This function applies k-Nearest Neighbors model.\n",
    "    In order to evaluate the model performance it uses roc-auc metric.\n",
    "    It prints predictions of train and test set in order to evaluate over or underfitting and \n",
    "    it also calculates the confusion matrix and False Positive Rate (FPR) Vs False Negative Rate (FNR) '''\n",
    "    \n",
    "   \n",
    "    \n",
    "    grid_search_clf_gk = KNeighborsClassifier(n_neighbors=13, p=1, metric='minkowski' ) #When p = 1, this is equivalent to using manhattan_distance\n",
    " \n",
    "\n",
    "    #grid_search_clf_gk = GridSearchCV(clf_gk, param_grid, cv = 3, n_jobs = -1, scoring='roc_auc', ) Overfitting\n",
    "    grid_search_clf_gk.fit(X_train, y_train)\n",
    "    \n",
    "  \n",
    "    \n",
    "    print('Train set')\n",
    "    pred = grid_search_clf_gk.predict_proba(X_train)\n",
    "    print('KNN: {}'.format(roc_auc_score(y_train, pred[:,1])))\n",
    "    \n",
    "    print('Test set')\n",
    "    pred = grid_search_clf_gk.predict_proba(X_test)\n",
    "    print('KNN: {}'.format(roc_auc_score(y_test, pred[:,1])))\n",
    "    \n",
    "    #confusion matrix\n",
    "    cf_matrix = confusion_matrix(y_test, grid_search_clf_gk.predict(X_test))\n",
    "    \n",
    "    #False Positive Rate (FPR) Vs False Negative Rate (FNR)\n",
    "    tn, fp, fn, tp = confusion_matrix(y_test, grid_search_clf_gk.predict(X_test), labels=[0,1]).ravel()\n",
    "\n",
    "    FPR = fp / (tn + fp)\n",
    "\n",
    "    FNR = fn / (tp + fn)\n",
    "     \n",
    "    return roc_auc_score(y_test, pred[:, 1]), cf_matrix, FPR, FNR \n"
   ]
  },
  {
   "cell_type": "code",
   "execution_count": 67,
   "id": "9a2f45d6",
   "metadata": {},
   "outputs": [
    {
     "name": "stdout",
     "output_type": "stream",
     "text": [
      "random\n",
      "Train set\n",
      "KNN: 0.7176405325443789\n",
      "Test set\n",
      "KNN: 0.5882352941176471\n",
      "\n",
      "cnn\n",
      "Train set\n",
      "KNN: 0.7164102564102565\n",
      "Test set\n",
      "KNN: 0.5333710407239819\n",
      "\n",
      "tomek\n",
      "Train set\n",
      "KNN: 0.8424612459783563\n",
      "Test set\n",
      "KNN: 0.5944570135746606\n",
      "\n",
      "oss\n",
      "Train set\n",
      "KNN: 0.8437869822485207\n",
      "Test set\n",
      "KNN: 0.5944570135746606\n",
      "\n",
      "enn\n",
      "Train set\n",
      "KNN: 0.8980957767722474\n",
      "Test set\n",
      "KNN: 0.5407239819004525\n",
      "\n",
      "renn\n",
      "Train set\n",
      "KNN: 0.9318862275449102\n",
      "Test set\n",
      "KNN: 0.6402714932126696\n",
      "\n",
      "allknn\n",
      "Train set\n",
      "KNN: 0.9013647642679901\n",
      "Test set\n",
      "KNN: 0.5910633484162896\n",
      "\n",
      "ncr\n",
      "Train set\n",
      "KNN: 0.8665384615384616\n",
      "Test set\n",
      "KNN: 0.5588235294117647\n",
      "\n",
      "nm1\n",
      "Train set\n",
      "KNN: 0.772189349112426\n",
      "Test set\n",
      "KNN: 0.6792986425339367\n",
      "\n",
      "nm2\n",
      "Train set\n",
      "KNN: 0.8923816568047336\n",
      "Test set\n",
      "KNN: 0.4751131221719458\n",
      "\n",
      "nm3\n",
      "Train set\n",
      "KNN: 0.7193047337278107\n",
      "Test set\n",
      "KNN: 0.4111990950226245\n",
      "\n",
      "iht\n",
      "Train set\n",
      "KNN: 0.9443417159763313\n",
      "Test set\n",
      "KNN: 0.629524886877828\n",
      "\n",
      "\n"
     ]
    }
   ],
   "source": [
    "results_dict_KNN = {}\n",
    "shapes_dict_KNN  = {}\n",
    "conf_matrix_KNN  = {}\n",
    "FNR_dict_KNN = {}\n",
    "FPR_dict_KNN  = {}\n",
    "\n",
    "\n",
    "for undersampler in undersampler_dict.keys():\n",
    "    print(undersampler)\n",
    "    \n",
    "    #resample\n",
    "    X_resampled, y_resampled = undersampler_dict[undersampler].fit_resample(X_train, y_train)\n",
    "    \n",
    "    #evaluate performance\n",
    "    roc = run_KNN_1(X_resampled, X_test, y_resampled, y_test)\n",
    "    \n",
    "    \n",
    "    \n",
    "    #store results\n",
    "    results_dict_KNN [undersampler] = roc[0]\n",
    "    conf_matrix_KNN [undersampler] = roc[1]\n",
    "    FPR_dict_KNN [undersampler] = roc[2]\n",
    "    FNR_dict_KNN [undersampler] = roc[3]\n",
    "    shapes_dict_KNN [undersampler] = len(X_resampled)  \n",
    "    print()\n",
    "    \n",
    "print()"
   ]
  },
  {
   "cell_type": "markdown",
   "id": "b05e126f",
   "metadata": {},
   "source": [
    "### **Summary of results**"
   ]
  },
  {
   "cell_type": "markdown",
   "id": "1b2185f7",
   "metadata": {},
   "source": [
    "a) summary of all roc-auc scores dependeng of sampling method"
   ]
  },
  {
   "cell_type": "code",
   "execution_count": 68,
   "id": "6013a755",
   "metadata": {},
   "outputs": [
    {
     "data": {
      "image/png": "[encoded data removed]",
      "text/plain": [
       "<Figure size 432x288 with 1 Axes>"
      ]
     },
     "metadata": {},
     "output_type": "display_data"
    }
   ],
   "source": [
    "pd.Series(results_dict_KNN).plot.bar()\n",
    "plt.title('k-Nearest Neighbors')\n",
    "plt.ylabel('roc-auc')\n",
    "\n",
    "plt.show();"
   ]
  },
  {
   "cell_type": "markdown",
   "id": "82c1c0ba",
   "metadata": {},
   "source": [
    "b) Confusion Matrix"
   ]
  },
  {
   "cell_type": "code",
   "execution_count": 69,
   "id": "bec17ae1",
   "metadata": {
    "scrolled": true
   },
   "outputs": [
    {
     "data": {
      "text/plain": [
       "{'random': array([[38, 30],\n",
       "        [ 7,  6]], dtype=int64),\n",
       " 'cnn': array([[51, 17],\n",
       "        [10,  3]], dtype=int64),\n",
       " 'tomek': array([[68,  0],\n",
       "        [11,  2]], dtype=int64),\n",
       " 'oss': array([[68,  0],\n",
       "        [11,  2]], dtype=int64),\n",
       " 'enn': array([[67,  1],\n",
       "        [11,  2]], dtype=int64),\n",
       " 'renn': array([[62,  6],\n",
       "        [ 9,  4]], dtype=int64),\n",
       " 'allknn': array([[66,  2],\n",
       "        [11,  2]], dtype=int64),\n",
       " 'ncr': array([[67,  1],\n",
       "        [11,  2]], dtype=int64),\n",
       " 'nm1': array([[54, 14],\n",
       "        [ 8,  5]], dtype=int64),\n",
       " 'nm2': array([[11, 57],\n",
       "        [ 3, 10]], dtype=int64),\n",
       " 'nm3': array([[28, 40],\n",
       "        [ 7,  6]], dtype=int64),\n",
       " 'iht': array([[16, 52],\n",
       "        [ 3, 10]], dtype=int64)}"
      ]
     },
     "execution_count": 69,
     "metadata": {},
     "output_type": "execute_result"
    }
   ],
   "source": [
    "conf_matrix_KNN"
   ]
  },
  {
   "cell_type": "markdown",
   "id": "c72f4d34",
   "metadata": {},
   "source": [
    "c) False Negative Rate"
   ]
  },
  {
   "cell_type": "code",
   "execution_count": 70,
   "id": "ff84e9ac",
   "metadata": {},
   "outputs": [
    {
     "data": {
      "text/plain": [
       "{'random': 0.5384615384615384,\n",
       " 'cnn': 0.7692307692307693,\n",
       " 'tomek': 0.8461538461538461,\n",
       " 'oss': 0.8461538461538461,\n",
       " 'enn': 0.8461538461538461,\n",
       " 'renn': 0.6923076923076923,\n",
       " 'allknn': 0.8461538461538461,\n",
       " 'ncr': 0.8461538461538461,\n",
       " 'nm1': 0.6153846153846154,\n",
       " 'nm2': 0.23076923076923078,\n",
       " 'nm3': 0.5384615384615384,\n",
       " 'iht': 0.23076923076923078}"
      ]
     },
     "execution_count": 70,
     "metadata": {},
     "output_type": "execute_result"
    }
   ],
   "source": [
    "FNR_dict_KNN"
   ]
  },
  {
   "cell_type": "markdown",
   "id": "f03140af",
   "metadata": {},
   "source": [
    "## 4.3 Decision Trees"
   ]
  },
  {
   "cell_type": "code",
   "execution_count": 71,
   "id": "db02241b",
   "metadata": {},
   "outputs": [],
   "source": [
    "def run_Decision_Tree(X_train, X_test, y_train, y_test):\n",
    "    \n",
    "    \n",
    "    dtc = DecisionTreeClassifier()\n",
    "\n",
    "    parameters = {\n",
    "    'criterion' : ['gini', 'entropy'],\n",
    "    'max_depth' : np.arange(1, 5),\n",
    "    'min_samples_leaf' :  np.arange(1, 5),\n",
    "    'min_samples_split' :  np.arange(1, 5),\n",
    "    'splitter' : ['best', 'random']\n",
    "        \n",
    "}\n",
    "    \n",
    "    grid_search_dt = GridSearchCV(dtc, parameters, cv = 3, n_jobs = -1, scoring='roc_auc') #ccv = 5-fold cross validation, n_jobs =# run in parallel\n",
    "    grid_search_dt.fit(X_train, y_train)\n",
    "    \n",
    "  \n",
    "    \n",
    "    print('Train set')\n",
    "    pred = grid_search_dt.predict_proba(X_train)\n",
    "    print('Decision Tree: {}'.format(roc_auc_score(y_train, pred[:,1])))\n",
    "    \n",
    "    print('Test set')\n",
    "    pred = grid_search_dt.predict_proba(X_test)\n",
    "    print('Decision Tree: {}'.format(roc_auc_score(y_test, pred[:,1])))\n",
    "    \n",
    "    #confusion matrix\n",
    "    cf_matrix = confusion_matrix(y_test, grid_search_dt.predict(X_test))\n",
    "    \n",
    "    #False Positive Rate (FPR) Vs False Negative Rate (FNR)\n",
    "    tn, fp, fn, tp = confusion_matrix(y_test, grid_search_dt.predict(X_test), labels=[0,1]).ravel()\n",
    "\n",
    "    FPR = fp / (tn + fp)\n",
    "\n",
    "    FNR = fn / (tp + fn)\n",
    "     \n",
    "    return roc_auc_score(y_test, pred[:, 1]), cf_matrix, FPR, FNR \n",
    "    "
   ]
  },
  {
   "cell_type": "code",
   "execution_count": 72,
   "id": "fbeea826",
   "metadata": {},
   "outputs": [
    {
     "name": "stdout",
     "output_type": "stream",
     "text": [
      "random\n",
      "Train set\n",
      "Decision Tree: 0.7784763313609466\n",
      "Test set\n",
      "Decision Tree: 0.6153846153846153\n",
      "\n",
      "cnn\n",
      "Train set\n",
      "Decision Tree: 0.7542307692307691\n",
      "Test set\n",
      "Decision Tree: 0.6176470588235294\n",
      "\n",
      "tomek\n",
      "Train set\n",
      "Decision Tree: 0.6725650775080433\n",
      "Test set\n",
      "Decision Tree: 0.5463800904977376\n",
      "\n",
      "oss\n",
      "Train set\n",
      "Decision Tree: 0.8131286982248521\n",
      "Test set\n",
      "Decision Tree: 0.6566742081447964\n",
      "\n",
      "enn\n",
      "Train set\n",
      "Decision Tree: 0.6716628959276019\n",
      "Test set\n",
      "Decision Tree: 0.5271493212669683\n",
      "\n",
      "renn\n",
      "Train set\n",
      "Decision Tree: 0.7377936434822663\n",
      "Test set\n",
      "Decision Tree: 0.5950226244343891\n",
      "\n",
      "allknn\n",
      "Train set\n",
      "Decision Tree: 0.6802626137303557\n",
      "Test set\n",
      "Decision Tree: 0.5271493212669683\n",
      "\n",
      "ncr\n",
      "Train set\n",
      "Decision Tree: 0.6976923076923077\n",
      "Test set\n",
      "Decision Tree: 0.5373303167420814\n",
      "\n",
      "nm1\n",
      "Train set\n",
      "Decision Tree: 0.7971523668639054\n",
      "Test set\n",
      "Decision Tree: 0.4779411764705882\n",
      "\n",
      "nm2\n",
      "Train set\n",
      "Decision Tree: 0.7217085798816568\n",
      "Test set\n",
      "Decision Tree: 0.4898190045248869\n",
      "\n",
      "nm3\n",
      "Train set\n",
      "Decision Tree: 0.7000739644970413\n",
      "Test set\n",
      "Decision Tree: 0.3959276018099548\n",
      "\n",
      "iht\n",
      "Train set\n",
      "Decision Tree: 0.9389792899408285\n",
      "Test set\n",
      "Decision Tree: 0.5774886877828054\n",
      "\n",
      "\n"
     ]
    }
   ],
   "source": [
    "results_dict_DT = {}\n",
    "shapes_dict_DT  = {}\n",
    "conf_matrix_DT  = {}\n",
    "FNR_dict_DT = {}\n",
    "FPR_dict_DT  = {}\n",
    "\n",
    "\n",
    "for undersampler in undersampler_dict.keys():\n",
    "    print(undersampler)\n",
    "    \n",
    "    #resample\n",
    "    X_resampled, y_resampled = undersampler_dict[undersampler].fit_resample(X_train, y_train)\n",
    "    \n",
    "    #evaluate performance\n",
    "    roc = run_Decision_Tree(X_resampled, X_test, y_resampled, y_test)\n",
    "    \n",
    "    \n",
    "    \n",
    "    #store results\n",
    "    results_dict_DT [undersampler] = roc[0]\n",
    "    conf_matrix_DT [undersampler] = roc[1]\n",
    "    FPR_dict_DT [undersampler] = roc[2]\n",
    "    FNR_dict_DT [undersampler] = roc[3]\n",
    "    shapes_dict_DT [undersampler] = len(X_resampled)  \n",
    "    print()\n",
    "    \n",
    "print()"
   ]
  },
  {
   "cell_type": "markdown",
   "id": "5c6246ec",
   "metadata": {},
   "source": [
    "### **Summary of results**"
   ]
  },
  {
   "cell_type": "markdown",
   "id": "d073b40a",
   "metadata": {},
   "source": [
    "a) Summary of all roc-auc scores dependeng of sampling method"
   ]
  },
  {
   "cell_type": "code",
   "execution_count": 73,
   "id": "7c2534a5",
   "metadata": {},
   "outputs": [
    {
     "data": {
      "image/png": "[encoded data removed]",
      "text/plain": [
       "<Figure size 432x288 with 1 Axes>"
      ]
     },
     "metadata": {},
     "output_type": "display_data"
    }
   ],
   "source": [
    "pd.Series(results_dict_DT).plot.bar()\n",
    "plt.title('Decision Tree')\n",
    "plt.ylabel('roc-auc')\n",
    "\n",
    "plt.show();"
   ]
  },
  {
   "cell_type": "markdown",
   "id": "a79cfcaa",
   "metadata": {},
   "source": [
    "b) Confusion Matrix"
   ]
  },
  {
   "cell_type": "code",
   "execution_count": 21,
   "id": "d1b94494",
   "metadata": {
    "scrolled": true
   },
   "outputs": [
    {
     "data": {
      "text/plain": [
       "{'random': array([[41, 27],\n",
       "        [ 6,  7]], dtype=int64),\n",
       " 'cnn': array([[53, 15],\n",
       "        [ 8,  5]], dtype=int64),\n",
       " 'tomek': array([[66,  2],\n",
       "        [13,  0]], dtype=int64),\n",
       " 'oss': array([[68,  0],\n",
       "        [13,  0]], dtype=int64),\n",
       " 'enn': array([[66,  2],\n",
       "        [13,  0]], dtype=int64),\n",
       " 'renn': array([[46, 22],\n",
       "        [ 7,  6]], dtype=int64),\n",
       " 'allknn': array([[68,  0],\n",
       "        [13,  0]], dtype=int64),\n",
       " 'ncr': array([[66,  2],\n",
       "        [13,  0]], dtype=int64),\n",
       " 'nm1': array([[48, 20],\n",
       "        [ 8,  5]], dtype=int64),\n",
       " 'nm2': array([[12, 56],\n",
       "        [ 4,  9]], dtype=int64),\n",
       " 'nm3': array([[33, 35],\n",
       "        [ 7,  6]], dtype=int64),\n",
       " 'iht': array([[20, 48],\n",
       "        [ 4,  9]], dtype=int64)}"
      ]
     },
     "execution_count": 21,
     "metadata": {},
     "output_type": "execute_result"
    }
   ],
   "source": [
    "conf_matrix_DT"
   ]
  },
  {
   "cell_type": "markdown",
   "id": "24fd9c09",
   "metadata": {},
   "source": [
    "c) False Negative Rate"
   ]
  },
  {
   "cell_type": "code",
   "execution_count": 22,
   "id": "ff1557ed",
   "metadata": {},
   "outputs": [
    {
     "data": {
      "text/plain": [
       "{'random': 0.46153846153846156,\n",
       " 'cnn': 0.6153846153846154,\n",
       " 'tomek': 1.0,\n",
       " 'oss': 1.0,\n",
       " 'enn': 1.0,\n",
       " 'renn': 0.5384615384615384,\n",
       " 'allknn': 1.0,\n",
       " 'ncr': 1.0,\n",
       " 'nm1': 0.6153846153846154,\n",
       " 'nm2': 0.3076923076923077,\n",
       " 'nm3': 0.5384615384615384,\n",
       " 'iht': 0.3076923076923077}"
      ]
     },
     "execution_count": 22,
     "metadata": {},
     "output_type": "execute_result"
    }
   ],
   "source": [
    "FNR_dict_DT"
   ]
  },
  {
   "cell_type": "code",
   "execution_count": null,
   "id": "58d09f1e",
   "metadata": {},
   "outputs": [],
   "source": []
  },
  {
   "cell_type": "code",
   "execution_count": 23,
   "id": "6fe16828",
   "metadata": {},
   "outputs": [],
   "source": [
    "def run_Decision_Tree(X_train, X_test, y_train, y_test):\n",
    "    \n",
    "    '''This function Decision Tree model.\n",
    "    In order to evaluate the model performance it uses roc-auc metric.\n",
    "    It prints predictions of train and test set in order to evaluate over or underfitting and \n",
    "    it also calculates the confusion matrix and False Positive Rate (FPR) Vs False Negative Rate (FNR) '''\n",
    "    \n",
    "    \n",
    "    grid_search_dt = DecisionTreeClassifier(criterion='entropy',max_depth=4, random_state=42, splitter='random' )\n",
    " \n",
    "    grid_search_dt.fit(X_train, y_train)\n",
    "    \n",
    "\n",
    "    \n",
    "    print('Train set')\n",
    "    pred = grid_search_dt.predict_proba(X_train)\n",
    "    print('Decision Tree: {}'.format(roc_auc_score(y_train, pred[:,1])))\n",
    "    \n",
    "    print('Test set')\n",
    "    pred = grid_search_dt.predict_proba(X_test)\n",
    "    print('Decision Tree: {}'.format(roc_auc_score(y_test, pred[:,1])))\n",
    "    \n",
    "    #confusion matrix\n",
    "    cf_matrix = confusion_matrix(y_test, grid_search_dt.predict(X_test))\n",
    "     #False Positive Rate (FPR) Vs False Negative Rate (FNR)\n",
    "    tn, fp, fn, tp = confusion_matrix(y_test, grid_search_dt.predict(X_test), labels=[0,1]).ravel()\n",
    "\n",
    "    FPR = fp / (tn + fp)\n",
    "\n",
    "    FNR = fn / (tp + fn)\n",
    "    \n",
    "    \n",
    "    \n",
    "    return roc_auc_score(y_test, pred[:, 1]), cf_matrix, FPR, FNR "
   ]
  },
  {
   "cell_type": "code",
   "execution_count": 24,
   "id": "71a78618",
   "metadata": {},
   "outputs": [
    {
     "name": "stdout",
     "output_type": "stream",
     "text": [
      "random\n",
      "Train set\n",
      "Decision Tree: 0.7396449704142012\n",
      "Test set\n",
      "Decision Tree: 0.5361990950226244\n",
      "\n",
      "cnn\n",
      "Train set\n",
      "Decision Tree: 0.6091025641025641\n",
      "Test set\n",
      "Decision Tree: 0.625\n",
      "\n",
      "tomek\n",
      "Train set\n",
      "Decision Tree: 0.8141269377010822\n",
      "Test set\n",
      "Decision Tree: 0.548076923076923\n",
      "\n",
      "oss\n",
      "Train set\n",
      "Decision Tree: 0.8132396449704142\n",
      "Test set\n",
      "Decision Tree: 0.548076923076923\n",
      "\n",
      "enn\n",
      "Train set\n",
      "Decision Tree: 0.7980297888386124\n",
      "Test set\n",
      "Decision Tree: 0.5571266968325792\n",
      "\n",
      "renn\n",
      "Train set\n",
      "Decision Tree: 0.8743090741593735\n",
      "Test set\n",
      "Decision Tree: 0.627262443438914\n",
      "\n",
      "allknn\n",
      "Train set\n",
      "Decision Tree: 0.8077956989247312\n",
      "Test set\n",
      "Decision Tree: 0.5571266968325792\n",
      "\n",
      "ncr\n",
      "Train set\n",
      "Decision Tree: 0.8311057692307693\n",
      "Test set\n",
      "Decision Tree: 0.6753393665158371\n",
      "\n",
      "nm1\n",
      "Train set\n",
      "Decision Tree: 0.8115754437869822\n",
      "Test set\n",
      "Decision Tree: 0.5797511312217194\n",
      "\n",
      "nm2\n",
      "Train set\n",
      "Decision Tree: 0.9142011834319527\n",
      "Test set\n",
      "Decision Tree: 0.5124434389140271\n",
      "\n",
      "nm3\n",
      "Train set\n",
      "Decision Tree: 0.803439349112426\n",
      "Test set\n",
      "Decision Tree: 0.5808823529411765\n",
      "\n",
      "iht\n",
      "Train set\n",
      "Decision Tree: 0.9733727810650887\n",
      "Test set\n",
      "Decision Tree: 0.5899321266968325\n",
      "\n",
      "\n"
     ]
    }
   ],
   "source": [
    "results_dict_DT = {}\n",
    "shapes_dict_DT  = {}\n",
    "conf_matrix_DT  = {}\n",
    "FNR_dict_DT = {}\n",
    "FPR_dict_DT  = {}\n",
    "\n",
    "\n",
    "for undersampler in undersampler_dict.keys():\n",
    "    print(undersampler)\n",
    "    \n",
    "    #resample\n",
    "    X_resampled, y_resampled = undersampler_dict[undersampler].fit_resample(X_train, y_train)\n",
    "    \n",
    "    #evaluate performance\n",
    "    roc = run_Decision_Tree(X_resampled, X_test, y_resampled, y_test)\n",
    "    \n",
    "    \n",
    "    \n",
    "    #store results\n",
    "    results_dict_DT [undersampler] = roc[0]\n",
    "    conf_matrix_DT [undersampler] = roc[1]\n",
    "    FPR_dict_DT [undersampler] = roc[2]\n",
    "    FNR_dict_DT [undersampler] = roc[3]\n",
    "    shapes_dict_DT [undersampler] = len(X_resampled)  \n",
    "    print()\n",
    "    \n",
    "print()"
   ]
  },
  {
   "cell_type": "code",
   "execution_count": 25,
   "id": "97c449e9",
   "metadata": {},
   "outputs": [
    {
     "data": {
      "text/plain": [
       "{'random': 0.07692307692307693,\n",
       " 'cnn': 1.0,\n",
       " 'tomek': 1.0,\n",
       " 'oss': 1.0,\n",
       " 'enn': 1.0,\n",
       " 'renn': 0.7692307692307693,\n",
       " 'allknn': 1.0,\n",
       " 'ncr': 0.7692307692307693,\n",
       " 'nm1': 0.38461538461538464,\n",
       " 'nm2': 0.3076923076923077,\n",
       " 'nm3': 0.6153846153846154,\n",
       " 'iht': 0.3076923076923077}"
      ]
     },
     "execution_count": 25,
     "metadata": {},
     "output_type": "execute_result"
    }
   ],
   "source": [
    "FNR_dict_DT"
   ]
  },
  {
   "cell_type": "code",
   "execution_count": null,
   "id": "562863aa",
   "metadata": {},
   "outputs": [],
   "source": []
  },
  {
   "cell_type": "markdown",
   "id": "e111e092",
   "metadata": {},
   "source": [
    " ## 4.4 Support Vector Machine"
   ]
  },
  {
   "cell_type": "code",
   "execution_count": 26,
   "id": "6a669c47",
   "metadata": {},
   "outputs": [],
   "source": [
    "def run_SVC(X_train, X_test, y_train, y_test):\n",
    "    \n",
    "    svc = SVC(probability = True, random_state = 42)\n",
    "    param_grid = tuned_parameters = [{'kernel': ['rbf'],\n",
    "                                      'gamma': ['scale', 'auto'],\n",
    "                                      'C': [.1, 1, 2]},\n",
    "                                     {'kernel': ['linear'], \n",
    "                                      'C': [.1, 1, 10]}]\n",
    "\n",
    "    clf_svc = GridSearchCV(svc, param_grid = param_grid, scoring ='roc_auc', cv = 5, verbose = False, n_jobs = -1)\n",
    "    best_clf_svc = clf_svc.fit(X_train, y_train)\n",
    "    print('Train set')\n",
    "    pred = best_clf_svc.predict_proba(X_train)\n",
    "    print('SVC: {}'.format(roc_auc_score(y_train, pred[:,1])))\n",
    "    \n",
    "    print('Test set')\n",
    "    pred = best_clf_svc.predict_proba(X_test)\n",
    "    print('SVC: {}'.format(roc_auc_score(y_test, pred[:,1])))\n",
    "    \n",
    "    #confusion matrix\n",
    "    cf_matrix = confusion_matrix(y_test, best_clf_svc.predict(X_test))\n",
    "    \n",
    "    #False Positive Rate (FPR) Vs False Negative Rate (FNR)\n",
    "    tn, fp, fn, tp = confusion_matrix(y_test, best_clf_svc.predict(X_test), labels=[0,1]).ravel()\n",
    "\n",
    "    FPR = fp / (tn + fp)\n",
    "\n",
    "    FNR = fn / (tp + fn)\n",
    "    \n",
    "    \n",
    "    \n",
    "    return roc_auc_score(y_test, pred[:, 1]), cf_matrix, FPR, FNR \n",
    "    \n"
   ]
  },
  {
   "cell_type": "code",
   "execution_count": 27,
   "id": "b3a94d6a",
   "metadata": {},
   "outputs": [
    {
     "name": "stdout",
     "output_type": "stream",
     "text": [
      "random\n",
      "Train set\n",
      "SVC: 0.8923816568047337\n",
      "Test set\n",
      "SVC: 0.5542986425339367\n",
      "\n",
      "cnn\n",
      "Train set\n",
      "SVC: 0.18461538461538463\n",
      "Test set\n",
      "SVC: 0.503393665158371\n",
      "\n",
      "tomek\n",
      "Train set\n",
      "SVC: 0.9800380228136882\n",
      "Test set\n",
      "SVC: 0.583710407239819\n",
      "\n",
      "oss\n",
      "Train set\n",
      "SVC: 0.9683431952662721\n",
      "Test set\n",
      "SVC: 0.5723981900452488\n",
      "\n",
      "enn\n",
      "Train set\n",
      "SVC: 0.9863310708898945\n",
      "Test set\n",
      "SVC: 0.576923076923077\n",
      "\n",
      "renn\n",
      "Train set\n",
      "SVC: 0.933901427913404\n",
      "Test set\n",
      "SVC: 0.6018099547511313\n",
      "\n",
      "allknn\n",
      "Train set\n",
      "SVC: 0.9826302729528535\n",
      "Test set\n",
      "SVC: 0.5690045248868778\n",
      "\n",
      "ncr\n",
      "Train set\n",
      "SVC: 0.9859615384615384\n",
      "Test set\n",
      "SVC: 0.5497737556561086\n",
      "\n",
      "nm1\n",
      "Train set\n",
      "SVC: 0.2050665680473373\n",
      "Test set\n",
      "SVC: 0.47058823529411764\n",
      "\n",
      "nm2\n",
      "Train set\n",
      "SVC: 0.9445266272189349\n",
      "Test set\n",
      "SVC: 0.5486425339366516\n",
      "\n",
      "nm3\n",
      "Train set\n",
      "SVC: 0.8509615384615384\n",
      "Test set\n",
      "SVC: 0.3608597285067873\n",
      "\n",
      "iht\n",
      "Train set\n",
      "SVC: 1.0\n",
      "Test set\n",
      "SVC: 0.5294117647058824\n",
      "\n",
      "\n"
     ]
    }
   ],
   "source": [
    "results_dict_SVC = {}\n",
    "shapes_dict_SVC  = {}\n",
    "conf_matrix_SVC  = {}\n",
    "FNR_dict_SVC = {}\n",
    "FPR_dict_SVC  = {}\n",
    "\n",
    "\n",
    "for undersampler in undersampler_dict.keys():\n",
    "    print(undersampler)\n",
    "    \n",
    "    #resample\n",
    "    X_resampled, y_resampled = undersampler_dict[undersampler].fit_resample(X_train, y_train)\n",
    "    \n",
    "    #evaluate performance\n",
    "    roc = run_SVC(X_resampled, X_test, y_resampled, y_test)\n",
    "    \n",
    "    \n",
    "    \n",
    "    #store results\n",
    "    results_dict_SVC [undersampler] = roc[0]\n",
    "    conf_matrix_SVC [undersampler] = roc[1]\n",
    "    FPR_dict_SVC [undersampler] = roc[2]\n",
    "    FNR_dict_SVC [undersampler] = roc[3]\n",
    "    shapes_dict_SVC [undersampler] = len(X_resampled)  \n",
    "    print()\n",
    "    \n",
    "print()"
   ]
  },
  {
   "cell_type": "markdown",
   "id": "b504410e",
   "metadata": {},
   "source": [
    "### Summary of results"
   ]
  },
  {
   "cell_type": "markdown",
   "id": "a137a58a",
   "metadata": {},
   "source": [
    "a) Summary of all roc-auc scores dependeng of sampling method"
   ]
  },
  {
   "cell_type": "code",
   "execution_count": 28,
   "id": "d1264cd3",
   "metadata": {},
   "outputs": [
    {
     "data": {
      "image/png": "[encoded data removed]",
      "text/plain": [
       "<Figure size 432x288 with 1 Axes>"
      ]
     },
     "metadata": {},
     "output_type": "display_data"
    }
   ],
   "source": [
    "pd.Series(results_dict_SVC).plot.bar()\n",
    "plt.title('SVC')\n",
    "plt.ylabel('roc-auc')\n",
    "\n",
    "plt.show();"
   ]
  },
  {
   "cell_type": "markdown",
   "id": "d9f33be0",
   "metadata": {},
   "source": [
    "b) Confusion Matrix"
   ]
  },
  {
   "cell_type": "code",
   "execution_count": 29,
   "id": "b7f69e00",
   "metadata": {
    "scrolled": true
   },
   "outputs": [
    {
     "data": {
      "text/plain": [
       "{'random': array([[41, 27],\n",
       "        [ 6,  7]], dtype=int64),\n",
       " 'cnn': array([[66,  2],\n",
       "        [13,  0]], dtype=int64),\n",
       " 'tomek': array([[68,  0],\n",
       "        [13,  0]], dtype=int64),\n",
       " 'oss': array([[68,  0],\n",
       "        [13,  0]], dtype=int64),\n",
       " 'enn': array([[64,  4],\n",
       "        [ 9,  4]], dtype=int64),\n",
       " 'renn': array([[59,  9],\n",
       "        [10,  3]], dtype=int64),\n",
       " 'allknn': array([[61,  7],\n",
       "        [ 9,  4]], dtype=int64),\n",
       " 'ncr': array([[64,  4],\n",
       "        [ 9,  4]], dtype=int64),\n",
       " 'nm1': array([[61,  7],\n",
       "        [11,  2]], dtype=int64),\n",
       " 'nm2': array([[10, 58],\n",
       "        [ 2, 11]], dtype=int64),\n",
       " 'nm3': array([[31, 37],\n",
       "        [ 7,  6]], dtype=int64),\n",
       " 'iht': array([[31, 37],\n",
       "        [ 5,  8]], dtype=int64)}"
      ]
     },
     "execution_count": 29,
     "metadata": {},
     "output_type": "execute_result"
    }
   ],
   "source": [
    "conf_matrix_SVC"
   ]
  },
  {
   "cell_type": "markdown",
   "id": "dd48b897",
   "metadata": {},
   "source": [
    "c) False Negative Rate"
   ]
  },
  {
   "cell_type": "code",
   "execution_count": 30,
   "id": "b4baa764",
   "metadata": {},
   "outputs": [
    {
     "data": {
      "text/plain": [
       "{'random': 0.46153846153846156,\n",
       " 'cnn': 1.0,\n",
       " 'tomek': 1.0,\n",
       " 'oss': 1.0,\n",
       " 'enn': 0.6923076923076923,\n",
       " 'renn': 0.7692307692307693,\n",
       " 'allknn': 0.6923076923076923,\n",
       " 'ncr': 0.6923076923076923,\n",
       " 'nm1': 0.8461538461538461,\n",
       " 'nm2': 0.15384615384615385,\n",
       " 'nm3': 0.5384615384615384,\n",
       " 'iht': 0.38461538461538464}"
      ]
     },
     "execution_count": 30,
     "metadata": {},
     "output_type": "execute_result"
    }
   ],
   "source": [
    "FNR_dict_SVC"
   ]
  },
  {
   "cell_type": "markdown",
   "id": "1e0d550c",
   "metadata": {},
   "source": [
    "## 4.5 RandomForest"
   ]
  },
  {
   "cell_type": "code",
   "execution_count": 75,
   "id": "267239f7",
   "metadata": {},
   "outputs": [],
   "source": [
    "def run_RF(X_train, X_test, y_train, y_test):\n",
    "    \n",
    "    rf = RandomForestClassifier(random_state = 42)\n",
    "    param_grid = {'n_estimators': [50],\n",
    "                  'criterion': ['entropy', 'gini'],\n",
    "                  'bootstrap': [True],\n",
    "                  'max_depth': [6],\n",
    "                  'max_features': ['auto','sqrt'],\n",
    "                  'min_samples_leaf': [2, 3, 5],\n",
    "                  'min_samples_split': [2, 3, 5]}\n",
    "    \n",
    "    clf_rf = GridSearchCV(rf, param_grid = param_grid, scoring = 'roc_auc', cv = 5, verbose = False, n_jobs = -1)\n",
    "    best_clf_rf = clf_rf.fit(X_train, y_train)\n",
    "    \n",
    "    print(\"Best: %f using %s\" % (best_clf_rf.best_score_, best_clf_rf.best_params_))\n",
    "    \n",
    "    \n",
    "    print('Train set')\n",
    "    pred = best_clf_rf.predict_proba(X_train)\n",
    "    print('Random Forest roc-auc: {}'.format(roc_auc_score(y_train, pred[:,1])))\n",
    "    \n",
    "    print('Test set')\n",
    "    pred = best_clf_rf.predict_proba(X_test)\n",
    "    print('Random Forest roc-auc: {}'.format(roc_auc_score(y_test, pred[:,1])))\n",
    "    \n",
    "    #confusion matrix\n",
    "    cf_matrix = confusion_matrix(y_test, best_clf_rf.predict(X_test))\n",
    "    \n",
    "    #False Positive Rate (FPR) Vs False Negative Rate (FNR)\n",
    "    tn, fp, fn, tp = confusion_matrix(y_test, best_clf_rf.predict(X_test), labels=[0,1]).ravel()\n",
    "\n",
    "    FPR = fp / (tn + fp)\n",
    "\n",
    "    FNR = fn / (tp + fn)\n",
    "    \n",
    "    return roc_auc_score(y_test, pred[:, 1]), cf_matrix, FPR, FNR"
   ]
  },
  {
   "cell_type": "code",
   "execution_count": 76,
   "id": "ff929dcf",
   "metadata": {},
   "outputs": [
    {
     "name": "stdout",
     "output_type": "stream",
     "text": [
      "random\n",
      "Best: 0.442909 using {'bootstrap': True, 'criterion': 'entropy', 'max_depth': 6, 'max_features': 'auto', 'min_samples_leaf': 3, 'min_samples_split': 2, 'n_estimators': 50}\n",
      "Train set\n",
      "Random Forest roc-auc: 0.9914940828402367\n",
      "Test set\n",
      "Random Forest roc-auc: 0.6753393665158371\n",
      "\n",
      "cnn\n",
      "Best: 0.525879 using {'bootstrap': True, 'criterion': 'gini', 'max_depth': 6, 'max_features': 'auto', 'min_samples_leaf': 2, 'min_samples_split': 2, 'n_estimators': 50}\n",
      "Train set\n",
      "Random Forest roc-auc: 0.994102564102564\n",
      "Test set\n",
      "Random Forest roc-auc: 0.5916289592760182\n",
      "\n",
      "tomek\n",
      "Best: 0.411921 using {'bootstrap': True, 'criterion': 'gini', 'max_depth': 6, 'max_features': 'auto', 'min_samples_leaf': 3, 'min_samples_split': 2, 'n_estimators': 50}\n",
      "Train set\n",
      "Random Forest roc-auc: 0.9850833577069319\n",
      "Test set\n",
      "Random Forest roc-auc: 0.6719457013574661\n",
      "\n",
      "oss\n",
      "Best: 0.441853 using {'bootstrap': True, 'criterion': 'entropy', 'max_depth': 6, 'max_features': 'auto', 'min_samples_leaf': 2, 'min_samples_split': 5, 'n_estimators': 50}\n",
      "Train set\n",
      "Random Forest roc-auc: 0.9875739644970414\n",
      "Test set\n",
      "Random Forest roc-auc: 0.6957013574660633\n",
      "\n",
      "enn\n",
      "Best: 0.510743 using {'bootstrap': True, 'criterion': 'gini', 'max_depth': 6, 'max_features': 'auto', 'min_samples_leaf': 2, 'min_samples_split': 2, 'n_estimators': 50}\n",
      "Train set\n",
      "Random Forest roc-auc: 0.9989630467571644\n",
      "Test set\n",
      "Random Forest roc-auc: 0.659502262443439\n",
      "\n",
      "renn\n",
      "Best: 0.531677 using {'bootstrap': True, 'criterion': 'entropy', 'max_depth': 6, 'max_features': 'auto', 'min_samples_leaf': 3, 'min_samples_split': 2, 'n_estimators': 50}\n",
      "Train set\n",
      "Random Forest roc-auc: 0.9940119760479043\n",
      "Test set\n",
      "Random Forest roc-auc: 0.6674208144796381\n",
      "\n",
      "allknn\n",
      "Best: 0.541530 using {'bootstrap': True, 'criterion': 'entropy', 'max_depth': 6, 'max_features': 'auto', 'min_samples_leaf': 5, 'min_samples_split': 2, 'n_estimators': 50}\n",
      "Train set\n",
      "Random Forest roc-auc: 0.9918320926385442\n",
      "Test set\n",
      "Random Forest roc-auc: 0.7285067873303168\n",
      "\n",
      "ncr\n",
      "Best: 0.543682 using {'bootstrap': True, 'criterion': 'entropy', 'max_depth': 6, 'max_features': 'auto', 'min_samples_leaf': 2, 'min_samples_split': 2, 'n_estimators': 50}\n",
      "Train set\n",
      "Random Forest roc-auc: 0.9968269230769231\n",
      "Test set\n",
      "Random Forest roc-auc: 0.6436651583710407\n",
      "\n",
      "nm1\n",
      "Best: 0.570182 using {'bootstrap': True, 'criterion': 'entropy', 'max_depth': 6, 'max_features': 'auto', 'min_samples_leaf': 2, 'min_samples_split': 5, 'n_estimators': 50}\n",
      "Train set\n",
      "Random Forest roc-auc: 0.9730029585798816\n",
      "Test set\n",
      "Random Forest roc-auc: 0.6312217194570136\n",
      "\n",
      "nm2\n",
      "Best: 0.864182 using {'bootstrap': True, 'criterion': 'entropy', 'max_depth': 6, 'max_features': 'auto', 'min_samples_leaf': 5, 'min_samples_split': 2, 'n_estimators': 50}\n",
      "Train set\n",
      "Random Forest roc-auc: 0.9892751479289941\n",
      "Test set\n",
      "Random Forest roc-auc: 0.5016968325791855\n",
      "\n",
      "nm3\n",
      "Best: 0.351818 using {'bootstrap': True, 'criterion': 'entropy', 'max_depth': 6, 'max_features': 'auto', 'min_samples_leaf': 5, 'min_samples_split': 2, 'n_estimators': 50}\n",
      "Train set\n",
      "Random Forest roc-auc: 0.9478550295857988\n",
      "Test set\n",
      "Random Forest roc-auc: 0.48190045248868785\n",
      "\n",
      "iht\n",
      "Best: 0.833455 using {'bootstrap': True, 'criterion': 'gini', 'max_depth': 6, 'max_features': 'auto', 'min_samples_leaf': 3, 'min_samples_split': 2, 'n_estimators': 50}\n",
      "Train set\n",
      "Random Forest roc-auc: 0.9985207100591716\n",
      "Test set\n",
      "Random Forest roc-auc: 0.6052036199095023\n",
      "\n",
      "\n"
     ]
    }
   ],
   "source": [
    "results_dict_RF = {}\n",
    "shapes_dict_RF  = {}\n",
    "conf_matrix_RF  = {}\n",
    "FNR_dict_RF = {}\n",
    "FPR_dict_RF  = {}\n",
    "\n",
    "\n",
    "for undersampler in undersampler_dict.keys():\n",
    "    print(undersampler)\n",
    "    \n",
    "    #resample\n",
    "    X_resampled, y_resampled = undersampler_dict[undersampler].fit_resample(X_train, y_train)\n",
    "    \n",
    "    #evaluate performance\n",
    "    roc = run_RF(X_resampled, X_test, y_resampled, y_test)\n",
    "    \n",
    "    \n",
    "    \n",
    "    #store results\n",
    "    results_dict_RF [undersampler] = roc[0]\n",
    "    conf_matrix_RF [undersampler] = roc[1]\n",
    "    FPR_dict_RF [undersampler] = roc[2]\n",
    "    FNR_dict_RF [undersampler] = roc[3]\n",
    "    shapes_dict_RF [undersampler] = len(X_resampled)  \n",
    "    print()\n",
    "    \n",
    "print()"
   ]
  },
  {
   "cell_type": "markdown",
   "id": "8fd9750a",
   "metadata": {},
   "source": [
    "### Summary of results"
   ]
  },
  {
   "cell_type": "markdown",
   "id": "54fa7c2c",
   "metadata": {},
   "source": [
    "a) Summary of all roc-auc scores dependeng of sampling method"
   ]
  },
  {
   "cell_type": "code",
   "execution_count": 77,
   "id": "131c801a",
   "metadata": {},
   "outputs": [
    {
     "data": {
      "image/png": "[encoded data removed]",
      "text/plain": [
       "<Figure size 432x288 with 1 Axes>"
      ]
     },
     "metadata": {},
     "output_type": "display_data"
    }
   ],
   "source": [
    "pd.Series(results_dict_RF).plot.bar()\n",
    "plt.title('RandomForest')\n",
    "plt.ylabel('roc-auc')\n",
    "\n",
    "plt.show();"
   ]
  },
  {
   "cell_type": "markdown",
   "id": "5e8d5199",
   "metadata": {},
   "source": [
    "para quitar overfitting de RFtry reducing the depth or the number of trees"
   ]
  },
  {
   "cell_type": "markdown",
   "id": "2b55780c",
   "metadata": {},
   "source": [
    "b) Confusion Matrix"
   ]
  },
  {
   "cell_type": "code",
   "execution_count": 78,
   "id": "1c045fa8",
   "metadata": {},
   "outputs": [
    {
     "data": {
      "text/plain": [
       "{'random': array([[46, 22],\n",
       "        [ 4,  9]], dtype=int64),\n",
       " 'cnn': array([[53, 15],\n",
       "        [ 9,  4]], dtype=int64),\n",
       " 'tomek': array([[67,  1],\n",
       "        [12,  1]], dtype=int64),\n",
       " 'oss': array([[67,  1],\n",
       "        [12,  1]], dtype=int64),\n",
       " 'enn': array([[64,  4],\n",
       "        [13,  0]], dtype=int64),\n",
       " 'renn': array([[60,  8],\n",
       "        [ 8,  5]], dtype=int64),\n",
       " 'allknn': array([[66,  2],\n",
       "        [13,  0]], dtype=int64),\n",
       " 'ncr': array([[66,  2],\n",
       "        [12,  1]], dtype=int64),\n",
       " 'nm1': array([[26, 42],\n",
       "        [ 2, 11]], dtype=int64),\n",
       " 'nm2': array([[12, 56],\n",
       "        [ 4,  9]], dtype=int64),\n",
       " 'nm3': array([[28, 40],\n",
       "        [ 6,  7]], dtype=int64),\n",
       " 'iht': array([[20, 48],\n",
       "        [ 3, 10]], dtype=int64)}"
      ]
     },
     "execution_count": 78,
     "metadata": {},
     "output_type": "execute_result"
    }
   ],
   "source": [
    "conf_matrix_RF"
   ]
  },
  {
   "cell_type": "markdown",
   "id": "b140c814",
   "metadata": {},
   "source": [
    "c) False Negative Rate"
   ]
  },
  {
   "cell_type": "code",
   "execution_count": 79,
   "id": "c31e089d",
   "metadata": {},
   "outputs": [
    {
     "data": {
      "text/plain": [
       "{'random': 0.3076923076923077,\n",
       " 'cnn': 0.6923076923076923,\n",
       " 'tomek': 0.9230769230769231,\n",
       " 'oss': 0.9230769230769231,\n",
       " 'enn': 1.0,\n",
       " 'renn': 0.6153846153846154,\n",
       " 'allknn': 1.0,\n",
       " 'ncr': 0.9230769230769231,\n",
       " 'nm1': 0.15384615384615385,\n",
       " 'nm2': 0.3076923076923077,\n",
       " 'nm3': 0.46153846153846156,\n",
       " 'iht': 0.23076923076923078}"
      ]
     },
     "execution_count": 79,
     "metadata": {},
     "output_type": "execute_result"
    }
   ],
   "source": [
    "FNR_dict_RF"
   ]
  },
  {
   "cell_type": "markdown",
   "id": "383c4950",
   "metadata": {},
   "source": [
    "# 5. Summary and conclusions"
   ]
  },
  {
   "cell_type": "markdown",
   "id": "4f9ba922",
   "metadata": {},
   "source": [
    "With oversampling techniques we obtain several models with low FNR values, however the performances are worse."
   ]
  },
  {
   "cell_type": "code",
   "execution_count": 36,
   "id": "1ddd096d",
   "metadata": {},
   "outputs": [],
   "source": [
    "def plot_cm(classifier, predictions):\n",
    "    cm = confusion_matrix(y_test, predictions)\n",
    "    \n",
    "    plt.clf()\n",
    "    plt.imshow(cm, interpolation='nearest', cmap='RdBu')\n",
    "    classNames = ['No Rcidiva','Recidiva']\n",
    "    plt.ylabel('True label')\n",
    "    plt.xlabel('Predicted label')\n",
    "    tick_marks = np.arange(len(classNames))\n",
    "    plt.xticks(tick_marks, classNames, rotation=45)\n",
    "    plt.yticks(tick_marks, classNames)\n",
    "    s = [['TN','FP'], ['FN', 'TP']]\n",
    "    plt.title(\"Confusion matrix\")\n",
    "    \n",
    "    for i in range(2):\n",
    "        for j in range(2):\n",
    "            plt.text(j,i, str(s[i][j])+\" = \"+str(cm[i][j]), \n",
    "                     horizontalalignment='center', color='white')\n",
    "    \n",
    "    plt.show()\n",
    "        \n",
    "    tn, fp, fn, tp = cm.ravel()\n",
    "\n",
    "    \n",
    "    recall = tp / (tp + fn)\n",
    "    precision = tp / (tp + fp)\n",
    "    F1 = 2*recall*precision/(recall+precision)\n",
    "    FPR = fp / (tn + fp)\n",
    "    FNR = fn / (tp + fn)\n",
    "\n",
    "    \n",
    "    print('roc_auc_test: {}'.format(roc_auc_score(y_test, pred[:,1])))\n",
    "    print('Recall={0:0.3f}'.format(recall),'\\nPrecision={0:0.3f}'.format(precision))\n",
    "    print('F1={0:0.3f}'.format(F1))\n",
    "    print('False Positive Rate={0:0.3f}'.format(FPR))\n",
    "    print('False Negative Rate={0:0.3f}'.format(FNR))"
   ]
  },
  {
   "cell_type": "markdown",
   "id": "8ef76854",
   "metadata": {},
   "source": [
    "### Logistic_Regression. iht: Instance Hardness Threshold"
   ]
  },
  {
   "cell_type": "code",
   "execution_count": 44,
   "id": "229987ed",
   "metadata": {},
   "outputs": [],
   "source": [
    "iht = InstanceHardnessThreshold(\n",
    "        estimator=LogisticRegression(random_state=0),\n",
    "        sampling_strategy='auto', # resamples the majority class\n",
    "        random_state=0,\n",
    "        n_jobs=4,\n",
    "        cv = 3)#cross validation fold\n",
    "        \n",
    "X_iht, y_iht = iht.fit_resample(X_train, y_train)"
   ]
  },
  {
   "cell_type": "code",
   "execution_count": 45,
   "id": "73e92d80",
   "metadata": {},
   "outputs": [],
   "source": [
    "LG = LogisticRegression(random_state=42, solver= 'liblinear', C=1, penalty='l2' )\n",
    "LG.fit(X_iht, y_iht)\n",
    "pred = LG.predict_proba(X_test)"
   ]
  },
  {
   "cell_type": "code",
   "execution_count": 46,
   "id": "f19402d4",
   "metadata": {},
   "outputs": [
    {
     "data": {
      "image/png": "[encoded data removed]",
      "text/plain": [
       "<Figure size 432x288 with 1 Axes>"
      ]
     },
     "metadata": {},
     "output_type": "display_data"
    },
    {
     "name": "stdout",
     "output_type": "stream",
     "text": [
      "roc_auc_test: 0.6346153846153846\n",
      "Recall=0.769 \n",
      "Precision=0.185\n",
      "F1=0.299\n",
      "False Positive Rate=0.647\n",
      "False Negative Rate=0.231\n"
     ]
    }
   ],
   "source": [
    "plot_cm(LG, LG.predict(X_test))"
   ]
  },
  {
   "cell_type": "markdown",
   "id": "14e3d526",
   "metadata": {},
   "source": [
    "### KNN. iht: Instance Hardness Threshold"
   ]
  },
  {
   "cell_type": "markdown",
   "id": "9f480b95",
   "metadata": {},
   "source": [
    "Although with other techniques such as random we have better scores, we choose as the best model the one with the lowest FNR value."
   ]
  },
  {
   "cell_type": "code",
   "execution_count": 47,
   "id": "122ad7b8",
   "metadata": {},
   "outputs": [],
   "source": [
    "KNN= KNeighborsClassifier(n_neighbors=13, p=1, metric='minkowski' ) \n",
    " \n",
    "KNN.fit(X_iht, y_iht) #calculate before\n",
    "pred = KNN.predict_proba(X_test)  "
   ]
  },
  {
   "cell_type": "code",
   "execution_count": 48,
   "id": "a10824af",
   "metadata": {},
   "outputs": [
    {
     "data": {
      "image/png": "[encoded data removed]",
      "text/plain": [
       "<Figure size 432x288 with 1 Axes>"
      ]
     },
     "metadata": {},
     "output_type": "display_data"
    },
    {
     "name": "stdout",
     "output_type": "stream",
     "text": [
      "roc_auc_test: 0.6108597285067874\n",
      "Recall=0.769 \n",
      "Precision=0.169\n",
      "F1=0.278\n",
      "False Positive Rate=0.721\n",
      "False Negative Rate=0.231\n"
     ]
    }
   ],
   "source": [
    "plot_cm(KNN, KNN.predict(X_test))"
   ]
  },
  {
   "cell_type": "markdown",
   "id": "e0f97a08",
   "metadata": {},
   "source": [
    "### Decision Tree: random"
   ]
  },
  {
   "cell_type": "code",
   "execution_count": 53,
   "id": "93631b36",
   "metadata": {},
   "outputs": [],
   "source": [
    "rus = RandomUnderSampler(\n",
    "        sampling_strategy='auto',\n",
    "        random_state=42,\n",
    "        replacement=True)\n",
    "\n",
    "X_resampled, y_resampled = rus.fit_resample(X_train, y_train)"
   ]
  },
  {
   "cell_type": "code",
   "execution_count": 54,
   "id": "6af30aef",
   "metadata": {},
   "outputs": [],
   "source": [
    "DT= DecisionTreeClassifier(criterion='entropy',max_depth=4, random_state=42, splitter='random' )\n",
    " \n",
    "DT.fit(X_resampled, y_resampled)\n",
    "pred= DT.predict_proba(X_test)"
   ]
  },
  {
   "cell_type": "code",
   "execution_count": 55,
   "id": "2c1920a8",
   "metadata": {},
   "outputs": [
    {
     "data": {
      "image/png": "[encoded data removed]",
      "text/plain": [
       "<Figure size 432x288 with 1 Axes>"
      ]
     },
     "metadata": {},
     "output_type": "display_data"
    },
    {
     "name": "stdout",
     "output_type": "stream",
     "text": [
      "roc_auc_test: 0.7375565610859729\n",
      "Recall=0.846 \n",
      "Precision=0.268\n",
      "F1=0.407\n",
      "False Positive Rate=0.441\n",
      "False Negative Rate=0.154\n"
     ]
    }
   ],
   "source": [
    "plot_cm(DT, DT.predict(X_test))"
   ]
  },
  {
   "cell_type": "markdown",
   "id": "1cd308d4",
   "metadata": {},
   "source": [
    "Changing the parameter of ramdon sampling: replacement, i realize is a good performance"
   ]
  },
  {
   "cell_type": "code",
   "execution_count": 58,
   "id": "147ec3ee",
   "metadata": {},
   "outputs": [],
   "source": [
    "rus = RandomUnderSampler(\n",
    "        sampling_strategy='auto',\n",
    "        random_state=42,\n",
    "        replacement=False)\n",
    "\n",
    "X_resampled, y_resampled = rus.fit_resample(X_train, y_train)\n",
    "\n",
    "DT= DecisionTreeClassifier(criterion='entropy',max_depth=4, random_state=42, splitter='random' )\n",
    " \n",
    "DT.fit(X_resampled, y_resampled)\n",
    "pred= DT.predict_proba(X_test)"
   ]
  },
  {
   "cell_type": "code",
   "execution_count": 59,
   "id": "e5ee60d9",
   "metadata": {},
   "outputs": [
    {
     "data": {
      "image/png": "[encoded data removed]",
      "text/plain": [
       "<Figure size 432x288 with 1 Axes>"
      ]
     },
     "metadata": {},
     "output_type": "display_data"
    },
    {
     "name": "stdout",
     "output_type": "stream",
     "text": [
      "roc_auc_test: 0.5361990950226244\n",
      "Recall=0.923 \n",
      "Precision=0.176\n",
      "F1=0.296\n",
      "False Positive Rate=0.824\n",
      "False Negative Rate=0.077\n"
     ]
    }
   ],
   "source": [
    "plot_cm(DT, DT.predict(X_test))"
   ]
  },
  {
   "cell_type": "markdown",
   "id": "6247aac7",
   "metadata": {},
   "source": [
    "### Random Forest: NearMiss"
   ]
  },
  {
   "cell_type": "code",
   "execution_count": 74,
   "id": "895f3524",
   "metadata": {},
   "outputs": [],
   "source": [
    "nm1 = NearMiss(\n",
    "        sampling_strategy='auto', # resamples the majority class\n",
    "        version=1,\n",
    "        n_neighbors=3, #3KNN\n",
    "        n_jobs=-1)\n",
    "        \n",
    "X_nm1, y_nm1 = nm1.fit_resample(X_train, y_train)"
   ]
  },
  {
   "cell_type": "code",
   "execution_count": 84,
   "id": "28120853",
   "metadata": {},
   "outputs": [],
   "source": [
    "rf = RandomForestClassifier(random_state = 42, bootstrap=True, criterion='entropy', max_depth=6, max_features='auto', min_samples_leaf=2, min_samples_split=5)\n",
    "\n",
    "rf.fit(X_nm1, y_nm1)\n",
    "pred=rf.predict_proba(X_test)"
   ]
  },
  {
   "cell_type": "code",
   "execution_count": 85,
   "id": "5b58a021",
   "metadata": {},
   "outputs": [
    {
     "data": {
      "image/png": "[encoded data removed]",
      "text/plain": [
       "<Figure size 432x288 with 1 Axes>"
      ]
     },
     "metadata": {},
     "output_type": "display_data"
    },
    {
     "name": "stdout",
     "output_type": "stream",
     "text": [
      "roc_auc_test: 0.6063348416289593\n",
      "Recall=0.846 \n",
      "Precision=0.204\n",
      "F1=0.328\n",
      "False Positive Rate=0.632\n",
      "False Negative Rate=0.154\n"
     ]
    }
   ],
   "source": [
    "plot_cm(rf, rf.predict(X_test))"
   ]
  },
  {
   "cell_type": "code",
   "execution_count": null,
   "id": "3d0681a8",
   "metadata": {},
   "outputs": [],
   "source": []
  },
  {
   "cell_type": "code",
   "execution_count": null,
   "id": "1121b3bc",
   "metadata": {},
   "outputs": [],
   "source": []
  }
 ],
 "metadata": {
  "kernelspec": {
   "display_name": "Python 3",
   "language": "python",
   "name": "python3"
  },
  "language_info": {
   "codemirror_mode": {
    "name": "ipython",
    "version": 3
   },
   "file_extension": ".py",
   "mimetype": "text/x-python",
   "name": "python",
   "nbconvert_exporter": "python",
   "pygments_lexer": "ipython3",
   "version": "3.8.8"
  }
 },
 "nbformat": 4,
 "nbformat_minor": 5
}
